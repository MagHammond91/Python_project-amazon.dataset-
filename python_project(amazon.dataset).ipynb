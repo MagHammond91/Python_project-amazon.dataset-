{
 "cells": [
  {
   "cell_type": "code",
   "execution_count": 985,
   "metadata": {},
   "outputs": [],
   "source": [
    "#Installing necessary Library. \n",
    "import numpy as np\n",
    "import pandas as pd\n",
    "import seaborn as sns\n",
    "import matplotlib.pyplot as plt\n",
    "import plotly.express as px\n",
    "import scipy as sp\n",
    "\n",
    "from textblob import TextBlob \n",
    "\n",
    "# dont show warnings\n",
    "import warnings\n",
    "warnings.filterwarnings('ignore')\n"
   ]
  },
  {
   "cell_type": "code",
   "execution_count": 986,
   "metadata": {},
   "outputs": [],
   "source": [
    "\n",
    "#import dataset(csv) in the application for analysis\n",
    "\n",
    "data = pd.read_csv('amazon.csv', )"
   ]
  },
  {
   "cell_type": "code",
   "execution_count": 987,
   "metadata": {},
   "outputs": [],
   "source": [
    "#create a copy of dataset\n",
    "df = data.copy()"
   ]
  },
  {
   "cell_type": "code",
   "execution_count": 988,
   "metadata": {},
   "outputs": [
    {
     "data": {
      "text/html": [
       "<div>\n",
       "<style scoped>\n",
       "    .dataframe tbody tr th:only-of-type {\n",
       "        vertical-align: middle;\n",
       "    }\n",
       "\n",
       "    .dataframe tbody tr th {\n",
       "        vertical-align: top;\n",
       "    }\n",
       "\n",
       "    .dataframe thead th {\n",
       "        text-align: right;\n",
       "    }\n",
       "</style>\n",
       "<table border=\"1\" class=\"dataframe\">\n",
       "  <thead>\n",
       "    <tr style=\"text-align: right;\">\n",
       "      <th></th>\n",
       "      <th>product_id</th>\n",
       "      <th>product_name</th>\n",
       "      <th>category</th>\n",
       "      <th>discounted_price</th>\n",
       "      <th>actual_price</th>\n",
       "      <th>discount_percentage</th>\n",
       "      <th>rating</th>\n",
       "      <th>rating_count</th>\n",
       "      <th>about_product</th>\n",
       "      <th>user_id</th>\n",
       "      <th>user_name</th>\n",
       "      <th>review_id</th>\n",
       "      <th>review_title</th>\n",
       "      <th>review_content</th>\n",
       "      <th>img_link</th>\n",
       "      <th>product_link</th>\n",
       "    </tr>\n",
       "  </thead>\n",
       "  <tbody>\n",
       "    <tr>\n",
       "      <th>0</th>\n",
       "      <td>B07JW9H4J1</td>\n",
       "      <td>Wayona Nylon Braided USB to Lightning Fast Cha...</td>\n",
       "      <td>Computers&amp;Accessories|Accessories&amp;Peripherals|...</td>\n",
       "      <td>₹399</td>\n",
       "      <td>₹1,099</td>\n",
       "      <td>64%</td>\n",
       "      <td>4.2</td>\n",
       "      <td>24,269</td>\n",
       "      <td>High Compatibility : Compatible With iPhone 12...</td>\n",
       "      <td>AG3D6O4STAQKAY2UVGEUV46KN35Q,AHMY5CWJMMK5BJRBB...</td>\n",
       "      <td>Manav,Adarsh gupta,Sundeep,S.Sayeed Ahmed,jasp...</td>\n",
       "      <td>R3HXWT0LRP0NMF,R2AJM3LFTLZHFO,R6AQJGUP6P86,R1K...</td>\n",
       "      <td>Satisfied,Charging is really fast,Value for mo...</td>\n",
       "      <td>Looks durable Charging is fine tooNo complains...</td>\n",
       "      <td>https://m.media-amazon.com/images/W/WEBP_40237...</td>\n",
       "      <td>https://www.amazon.in/Wayona-Braided-WN3LG1-Sy...</td>\n",
       "    </tr>\n",
       "    <tr>\n",
       "      <th>1</th>\n",
       "      <td>B098NS6PVG</td>\n",
       "      <td>Ambrane Unbreakable 60W / 3A Fast Charging 1.5...</td>\n",
       "      <td>Computers&amp;Accessories|Accessories&amp;Peripherals|...</td>\n",
       "      <td>₹199</td>\n",
       "      <td>₹349</td>\n",
       "      <td>43%</td>\n",
       "      <td>4.0</td>\n",
       "      <td>43,994</td>\n",
       "      <td>Compatible with all Type C enabled devices, be...</td>\n",
       "      <td>AECPFYFQVRUWC3KGNLJIOREFP5LQ,AGYYVPDD7YG7FYNBX...</td>\n",
       "      <td>ArdKn,Nirbhay kumar,Sagar Viswanathan,Asp,Plac...</td>\n",
       "      <td>RGIQEG07R9HS2,R1SMWZQ86XIN8U,R2J3Y1WL29GWDE,RY...</td>\n",
       "      <td>A Good Braided Cable for Your Type C Device,Go...</td>\n",
       "      <td>I ordered this cable to connect my phone to An...</td>\n",
       "      <td>https://m.media-amazon.com/images/W/WEBP_40237...</td>\n",
       "      <td>https://www.amazon.in/Ambrane-Unbreakable-Char...</td>\n",
       "    </tr>\n",
       "    <tr>\n",
       "      <th>2</th>\n",
       "      <td>B096MSW6CT</td>\n",
       "      <td>Sounce Fast Phone Charging Cable &amp; Data Sync U...</td>\n",
       "      <td>Computers&amp;Accessories|Accessories&amp;Peripherals|...</td>\n",
       "      <td>₹199</td>\n",
       "      <td>₹1,899</td>\n",
       "      <td>90%</td>\n",
       "      <td>3.9</td>\n",
       "      <td>7,928</td>\n",
       "      <td>【 Fast Charger&amp; Data Sync】-With built-in safet...</td>\n",
       "      <td>AGU3BBQ2V2DDAMOAKGFAWDDQ6QHA,AESFLDV2PT363T2AQ...</td>\n",
       "      <td>Kunal,Himanshu,viswanath,sai niharka,saqib mal...</td>\n",
       "      <td>R3J3EQQ9TZI5ZJ,R3E7WBGK7ID0KV,RWU79XKQ6I1QF,R2...</td>\n",
       "      <td>Good speed for earlier versions,Good Product,W...</td>\n",
       "      <td>Not quite durable and sturdy,https://m.media-a...</td>\n",
       "      <td>https://m.media-amazon.com/images/W/WEBP_40237...</td>\n",
       "      <td>https://www.amazon.in/Sounce-iPhone-Charging-C...</td>\n",
       "    </tr>\n",
       "    <tr>\n",
       "      <th>3</th>\n",
       "      <td>B08HDJ86NZ</td>\n",
       "      <td>boAt Deuce USB 300 2 in 1 Type-C &amp; Micro USB S...</td>\n",
       "      <td>Computers&amp;Accessories|Accessories&amp;Peripherals|...</td>\n",
       "      <td>₹329</td>\n",
       "      <td>₹699</td>\n",
       "      <td>53%</td>\n",
       "      <td>4.2</td>\n",
       "      <td>94,363</td>\n",
       "      <td>The boAt Deuce USB 300 2 in 1 cable is compati...</td>\n",
       "      <td>AEWAZDZZJLQUYVOVGBEUKSLXHQ5A,AG5HTSFRRE6NL3M5S...</td>\n",
       "      <td>Omkar dhale,JD,HEMALATHA,Ajwadh a.,amar singh ...</td>\n",
       "      <td>R3EEUZKKK9J36I,R3HJVYCLYOY554,REDECAZ7AMPQC,R1...</td>\n",
       "      <td>Good product,Good one,Nice,Really nice product...</td>\n",
       "      <td>Good product,long wire,Charges good,Nice,I bou...</td>\n",
       "      <td>https://m.media-amazon.com/images/I/41V5FtEWPk...</td>\n",
       "      <td>https://www.amazon.in/Deuce-300-Resistant-Tang...</td>\n",
       "    </tr>\n",
       "    <tr>\n",
       "      <th>4</th>\n",
       "      <td>B08CF3B7N1</td>\n",
       "      <td>Portronics Konnect L 1.2M Fast Charging 3A 8 P...</td>\n",
       "      <td>Computers&amp;Accessories|Accessories&amp;Peripherals|...</td>\n",
       "      <td>₹154</td>\n",
       "      <td>₹399</td>\n",
       "      <td>61%</td>\n",
       "      <td>4.2</td>\n",
       "      <td>16,905</td>\n",
       "      <td>[CHARGE &amp; SYNC FUNCTION]- This cable comes wit...</td>\n",
       "      <td>AE3Q6KSUK5P75D5HFYHCRAOLODSA,AFUGIFH5ZAFXRDSZH...</td>\n",
       "      <td>rahuls6099,Swasat Borah,Ajay Wadke,Pranali,RVK...</td>\n",
       "      <td>R1BP4L2HH9TFUP,R16PVJEXKV6QZS,R2UPDB81N66T4P,R...</td>\n",
       "      <td>As good as original,Decent,Good one for second...</td>\n",
       "      <td>Bought this instead of original apple, does th...</td>\n",
       "      <td>https://m.media-amazon.com/images/W/WEBP_40237...</td>\n",
       "      <td>https://www.amazon.in/Portronics-Konnect-POR-1...</td>\n",
       "    </tr>\n",
       "  </tbody>\n",
       "</table>\n",
       "</div>"
      ],
      "text/plain": [
       "   product_id                                       product_name  \\\n",
       "0  B07JW9H4J1  Wayona Nylon Braided USB to Lightning Fast Cha...   \n",
       "1  B098NS6PVG  Ambrane Unbreakable 60W / 3A Fast Charging 1.5...   \n",
       "2  B096MSW6CT  Sounce Fast Phone Charging Cable & Data Sync U...   \n",
       "3  B08HDJ86NZ  boAt Deuce USB 300 2 in 1 Type-C & Micro USB S...   \n",
       "4  B08CF3B7N1  Portronics Konnect L 1.2M Fast Charging 3A 8 P...   \n",
       "\n",
       "                                            category discounted_price  \\\n",
       "0  Computers&Accessories|Accessories&Peripherals|...             ₹399   \n",
       "1  Computers&Accessories|Accessories&Peripherals|...             ₹199   \n",
       "2  Computers&Accessories|Accessories&Peripherals|...             ₹199   \n",
       "3  Computers&Accessories|Accessories&Peripherals|...             ₹329   \n",
       "4  Computers&Accessories|Accessories&Peripherals|...             ₹154   \n",
       "\n",
       "  actual_price discount_percentage rating rating_count  \\\n",
       "0       ₹1,099                 64%    4.2       24,269   \n",
       "1         ₹349                 43%    4.0       43,994   \n",
       "2       ₹1,899                 90%    3.9        7,928   \n",
       "3         ₹699                 53%    4.2       94,363   \n",
       "4         ₹399                 61%    4.2       16,905   \n",
       "\n",
       "                                       about_product  \\\n",
       "0  High Compatibility : Compatible With iPhone 12...   \n",
       "1  Compatible with all Type C enabled devices, be...   \n",
       "2  【 Fast Charger& Data Sync】-With built-in safet...   \n",
       "3  The boAt Deuce USB 300 2 in 1 cable is compati...   \n",
       "4  [CHARGE & SYNC FUNCTION]- This cable comes wit...   \n",
       "\n",
       "                                             user_id  \\\n",
       "0  AG3D6O4STAQKAY2UVGEUV46KN35Q,AHMY5CWJMMK5BJRBB...   \n",
       "1  AECPFYFQVRUWC3KGNLJIOREFP5LQ,AGYYVPDD7YG7FYNBX...   \n",
       "2  AGU3BBQ2V2DDAMOAKGFAWDDQ6QHA,AESFLDV2PT363T2AQ...   \n",
       "3  AEWAZDZZJLQUYVOVGBEUKSLXHQ5A,AG5HTSFRRE6NL3M5S...   \n",
       "4  AE3Q6KSUK5P75D5HFYHCRAOLODSA,AFUGIFH5ZAFXRDSZH...   \n",
       "\n",
       "                                           user_name  \\\n",
       "0  Manav,Adarsh gupta,Sundeep,S.Sayeed Ahmed,jasp...   \n",
       "1  ArdKn,Nirbhay kumar,Sagar Viswanathan,Asp,Plac...   \n",
       "2  Kunal,Himanshu,viswanath,sai niharka,saqib mal...   \n",
       "3  Omkar dhale,JD,HEMALATHA,Ajwadh a.,amar singh ...   \n",
       "4  rahuls6099,Swasat Borah,Ajay Wadke,Pranali,RVK...   \n",
       "\n",
       "                                           review_id  \\\n",
       "0  R3HXWT0LRP0NMF,R2AJM3LFTLZHFO,R6AQJGUP6P86,R1K...   \n",
       "1  RGIQEG07R9HS2,R1SMWZQ86XIN8U,R2J3Y1WL29GWDE,RY...   \n",
       "2  R3J3EQQ9TZI5ZJ,R3E7WBGK7ID0KV,RWU79XKQ6I1QF,R2...   \n",
       "3  R3EEUZKKK9J36I,R3HJVYCLYOY554,REDECAZ7AMPQC,R1...   \n",
       "4  R1BP4L2HH9TFUP,R16PVJEXKV6QZS,R2UPDB81N66T4P,R...   \n",
       "\n",
       "                                        review_title  \\\n",
       "0  Satisfied,Charging is really fast,Value for mo...   \n",
       "1  A Good Braided Cable for Your Type C Device,Go...   \n",
       "2  Good speed for earlier versions,Good Product,W...   \n",
       "3  Good product,Good one,Nice,Really nice product...   \n",
       "4  As good as original,Decent,Good one for second...   \n",
       "\n",
       "                                      review_content  \\\n",
       "0  Looks durable Charging is fine tooNo complains...   \n",
       "1  I ordered this cable to connect my phone to An...   \n",
       "2  Not quite durable and sturdy,https://m.media-a...   \n",
       "3  Good product,long wire,Charges good,Nice,I bou...   \n",
       "4  Bought this instead of original apple, does th...   \n",
       "\n",
       "                                            img_link  \\\n",
       "0  https://m.media-amazon.com/images/W/WEBP_40237...   \n",
       "1  https://m.media-amazon.com/images/W/WEBP_40237...   \n",
       "2  https://m.media-amazon.com/images/W/WEBP_40237...   \n",
       "3  https://m.media-amazon.com/images/I/41V5FtEWPk...   \n",
       "4  https://m.media-amazon.com/images/W/WEBP_40237...   \n",
       "\n",
       "                                        product_link  \n",
       "0  https://www.amazon.in/Wayona-Braided-WN3LG1-Sy...  \n",
       "1  https://www.amazon.in/Ambrane-Unbreakable-Char...  \n",
       "2  https://www.amazon.in/Sounce-iPhone-Charging-C...  \n",
       "3  https://www.amazon.in/Deuce-300-Resistant-Tang...  \n",
       "4  https://www.amazon.in/Portronics-Konnect-POR-1...  "
      ]
     },
     "execution_count": 988,
     "metadata": {},
     "output_type": "execute_result"
    }
   ],
   "source": [
    "#printing of the first rows\n",
    "df.head()"
   ]
  },
  {
   "cell_type": "code",
   "execution_count": 989,
   "metadata": {},
   "outputs": [
    {
     "data": {
      "text/html": [
       "<div>\n",
       "<style scoped>\n",
       "    .dataframe tbody tr th:only-of-type {\n",
       "        vertical-align: middle;\n",
       "    }\n",
       "\n",
       "    .dataframe tbody tr th {\n",
       "        vertical-align: top;\n",
       "    }\n",
       "\n",
       "    .dataframe thead th {\n",
       "        text-align: right;\n",
       "    }\n",
       "</style>\n",
       "<table border=\"1\" class=\"dataframe\">\n",
       "  <thead>\n",
       "    <tr style=\"text-align: right;\">\n",
       "      <th></th>\n",
       "      <th>product_id</th>\n",
       "      <th>product_name</th>\n",
       "      <th>category</th>\n",
       "      <th>discounted_price</th>\n",
       "      <th>actual_price</th>\n",
       "      <th>discount_percentage</th>\n",
       "      <th>rating</th>\n",
       "      <th>rating_count</th>\n",
       "      <th>about_product</th>\n",
       "      <th>user_id</th>\n",
       "      <th>user_name</th>\n",
       "      <th>review_id</th>\n",
       "      <th>review_title</th>\n",
       "      <th>review_content</th>\n",
       "      <th>img_link</th>\n",
       "      <th>product_link</th>\n",
       "    </tr>\n",
       "  </thead>\n",
       "  <tbody>\n",
       "    <tr>\n",
       "      <th>1460</th>\n",
       "      <td>B08L7J3T31</td>\n",
       "      <td>Noir Aqua - 5pcs PP Spun Filter + 1 Spanner | ...</td>\n",
       "      <td>Home&amp;Kitchen|Kitchen&amp;HomeAppliances|WaterPurif...</td>\n",
       "      <td>₹379</td>\n",
       "      <td>₹919</td>\n",
       "      <td>59%</td>\n",
       "      <td>4</td>\n",
       "      <td>1,090</td>\n",
       "      <td>SUPREME QUALITY 90 GRAM 3 LAYER THIK PP SPUN F...</td>\n",
       "      <td>AHITFY6AHALOFOHOZEOC6XBP4FEA,AFRABBODZJZQB6Z4U...</td>\n",
       "      <td>Prabha ds,Raghuram bk,Real Deal,Amazon Custome...</td>\n",
       "      <td>R3G3XFHPBFF0E8,R3C0BZCD32EIGW,R2EBVBCN9QPD9R,R...</td>\n",
       "      <td>Received the product without spanner,Excellent...</td>\n",
       "      <td>I received product without spanner,Excellent p...</td>\n",
       "      <td>https://m.media-amazon.com/images/I/41fDdRtjfx...</td>\n",
       "      <td>https://www.amazon.in/Noir-Aqua-Spanner-Purifi...</td>\n",
       "    </tr>\n",
       "    <tr>\n",
       "      <th>1461</th>\n",
       "      <td>B01M6453MB</td>\n",
       "      <td>Prestige Delight PRWO Electric Rice Cooker (1 ...</td>\n",
       "      <td>Home&amp;Kitchen|Kitchen&amp;HomeAppliances|SmallKitch...</td>\n",
       "      <td>₹2,280</td>\n",
       "      <td>₹3,045</td>\n",
       "      <td>25%</td>\n",
       "      <td>4.1</td>\n",
       "      <td>4,118</td>\n",
       "      <td>230 Volts, 400 watts, 1 Year</td>\n",
       "      <td>AFG5FM3NEMOL6BNFRV2NK5FNJCHQ,AGEINTRN6Z563RMLH...</td>\n",
       "      <td>Manu Bhai,Naveenpittu,Evatira Sangma,JAGANNADH...</td>\n",
       "      <td>R3DDL2UPKQ2CK9,R2SYYU1OATVIU5,R1VM993161IYRW,R...</td>\n",
       "      <td>ok,everything was good couldn't return bcoz I ...</td>\n",
       "      <td>ok,got everything as mentioned but the measuri...</td>\n",
       "      <td>https://m.media-amazon.com/images/I/41gzDxk4+k...</td>\n",
       "      <td>https://www.amazon.in/Prestige-Delight-PRWO-1-...</td>\n",
       "    </tr>\n",
       "    <tr>\n",
       "      <th>1462</th>\n",
       "      <td>B009P2LIL4</td>\n",
       "      <td>Bajaj Majesty RX10 2000 Watts Heat Convector R...</td>\n",
       "      <td>Home&amp;Kitchen|Heating,Cooling&amp;AirQuality|RoomHe...</td>\n",
       "      <td>₹2,219</td>\n",
       "      <td>₹3,080</td>\n",
       "      <td>28%</td>\n",
       "      <td>3.6</td>\n",
       "      <td>468</td>\n",
       "      <td>International design and styling|Two heat sett...</td>\n",
       "      <td>AGVPWCMAHYQWJOQKMUJN4DW3KM5Q,AF4Q3E66MY4SR7YQZ...</td>\n",
       "      <td>Nehal Desai,Danish Parwez,Amazon Customer,Amaz...</td>\n",
       "      <td>R1TLRJVW4STY5I,R2O455KRN493R1,R3Q5MVGBRIAS2G,R...</td>\n",
       "      <td>very good,Work but front melt after 2 month,Go...</td>\n",
       "      <td>plastic but cool body ,u have to find sturdy s...</td>\n",
       "      <td>https://m.media-amazon.com/images/W/WEBP_40237...</td>\n",
       "      <td>https://www.amazon.in/Bajaj-RX-10-2000-Watt-Co...</td>\n",
       "    </tr>\n",
       "    <tr>\n",
       "      <th>1463</th>\n",
       "      <td>B00J5DYCCA</td>\n",
       "      <td>Havells Ventil Air DSP 230mm Exhaust Fan (Pist...</td>\n",
       "      <td>Home&amp;Kitchen|Heating,Cooling&amp;AirQuality|Fans|E...</td>\n",
       "      <td>₹1,399</td>\n",
       "      <td>₹1,890</td>\n",
       "      <td>26%</td>\n",
       "      <td>4</td>\n",
       "      <td>8,031</td>\n",
       "      <td>Fan sweep area: 230 MM ; Noise level: (40 - 45...</td>\n",
       "      <td>AF2JQCLSCY3QJATWUNNHUSVUPNQQ,AFDMLUXC5LS5RXDJS...</td>\n",
       "      <td>Shubham Dubey,E.GURUBARAN,Mayank S.,eusuf khan...</td>\n",
       "      <td>R39Q2Y79MM9SWK,R3079BG1NIH6MB,R29A31ZELTZNJM,R...</td>\n",
       "      <td>Fan Speed is slow,Good quality,Good product,go...</td>\n",
       "      <td>I have installed this in my kitchen working fi...</td>\n",
       "      <td>https://m.media-amazon.com/images/W/WEBP_40237...</td>\n",
       "      <td>https://www.amazon.in/Havells-Ventilair-230mm-...</td>\n",
       "    </tr>\n",
       "    <tr>\n",
       "      <th>1464</th>\n",
       "      <td>B01486F4G6</td>\n",
       "      <td>Borosil Jumbo 1000-Watt Grill Sandwich Maker (...</td>\n",
       "      <td>Home&amp;Kitchen|Kitchen&amp;HomeAppliances|SmallKitch...</td>\n",
       "      <td>₹2,863</td>\n",
       "      <td>₹3,690</td>\n",
       "      <td>22%</td>\n",
       "      <td>4.3</td>\n",
       "      <td>6,987</td>\n",
       "      <td>Brand-Borosil, Specification â€“ 23V ~ 5Hz;1 W...</td>\n",
       "      <td>AFGW5PT3R6ZAVQR4Y5MWVAKBZAYA,AG7QNJ2SCS5VS5VYY...</td>\n",
       "      <td>Rajib,Ajay B,Vikas Kahol,PARDEEP,Anindya Prama...</td>\n",
       "      <td>R20RBRZ0WEUJT9,ROKIFK9R2ISSE,R30EEG2FNJSN5I,R2...</td>\n",
       "      <td>Works perfect,Ok good product,Nice Product. Re...</td>\n",
       "      <td>It does it job perfectly..only issue is temp c...</td>\n",
       "      <td>https://m.media-amazon.com/images/W/WEBP_40237...</td>\n",
       "      <td>https://www.amazon.in/Borosil-Jumbo-1000-Watt-...</td>\n",
       "    </tr>\n",
       "  </tbody>\n",
       "</table>\n",
       "</div>"
      ],
      "text/plain": [
       "      product_id                                       product_name  \\\n",
       "1460  B08L7J3T31  Noir Aqua - 5pcs PP Spun Filter + 1 Spanner | ...   \n",
       "1461  B01M6453MB  Prestige Delight PRWO Electric Rice Cooker (1 ...   \n",
       "1462  B009P2LIL4  Bajaj Majesty RX10 2000 Watts Heat Convector R...   \n",
       "1463  B00J5DYCCA  Havells Ventil Air DSP 230mm Exhaust Fan (Pist...   \n",
       "1464  B01486F4G6  Borosil Jumbo 1000-Watt Grill Sandwich Maker (...   \n",
       "\n",
       "                                               category discounted_price  \\\n",
       "1460  Home&Kitchen|Kitchen&HomeAppliances|WaterPurif...             ₹379   \n",
       "1461  Home&Kitchen|Kitchen&HomeAppliances|SmallKitch...           ₹2,280   \n",
       "1462  Home&Kitchen|Heating,Cooling&AirQuality|RoomHe...           ₹2,219   \n",
       "1463  Home&Kitchen|Heating,Cooling&AirQuality|Fans|E...           ₹1,399   \n",
       "1464  Home&Kitchen|Kitchen&HomeAppliances|SmallKitch...           ₹2,863   \n",
       "\n",
       "     actual_price discount_percentage rating rating_count  \\\n",
       "1460         ₹919                 59%      4        1,090   \n",
       "1461       ₹3,045                 25%    4.1        4,118   \n",
       "1462       ₹3,080                 28%    3.6          468   \n",
       "1463       ₹1,890                 26%      4        8,031   \n",
       "1464       ₹3,690                 22%    4.3        6,987   \n",
       "\n",
       "                                          about_product  \\\n",
       "1460  SUPREME QUALITY 90 GRAM 3 LAYER THIK PP SPUN F...   \n",
       "1461                       230 Volts, 400 watts, 1 Year   \n",
       "1462  International design and styling|Two heat sett...   \n",
       "1463  Fan sweep area: 230 MM ; Noise level: (40 - 45...   \n",
       "1464  Brand-Borosil, Specification â€“ 23V ~ 5Hz;1 W...   \n",
       "\n",
       "                                                user_id  \\\n",
       "1460  AHITFY6AHALOFOHOZEOC6XBP4FEA,AFRABBODZJZQB6Z4U...   \n",
       "1461  AFG5FM3NEMOL6BNFRV2NK5FNJCHQ,AGEINTRN6Z563RMLH...   \n",
       "1462  AGVPWCMAHYQWJOQKMUJN4DW3KM5Q,AF4Q3E66MY4SR7YQZ...   \n",
       "1463  AF2JQCLSCY3QJATWUNNHUSVUPNQQ,AFDMLUXC5LS5RXDJS...   \n",
       "1464  AFGW5PT3R6ZAVQR4Y5MWVAKBZAYA,AG7QNJ2SCS5VS5VYY...   \n",
       "\n",
       "                                              user_name  \\\n",
       "1460  Prabha ds,Raghuram bk,Real Deal,Amazon Custome...   \n",
       "1461  Manu Bhai,Naveenpittu,Evatira Sangma,JAGANNADH...   \n",
       "1462  Nehal Desai,Danish Parwez,Amazon Customer,Amaz...   \n",
       "1463  Shubham Dubey,E.GURUBARAN,Mayank S.,eusuf khan...   \n",
       "1464  Rajib,Ajay B,Vikas Kahol,PARDEEP,Anindya Prama...   \n",
       "\n",
       "                                              review_id  \\\n",
       "1460  R3G3XFHPBFF0E8,R3C0BZCD32EIGW,R2EBVBCN9QPD9R,R...   \n",
       "1461  R3DDL2UPKQ2CK9,R2SYYU1OATVIU5,R1VM993161IYRW,R...   \n",
       "1462  R1TLRJVW4STY5I,R2O455KRN493R1,R3Q5MVGBRIAS2G,R...   \n",
       "1463  R39Q2Y79MM9SWK,R3079BG1NIH6MB,R29A31ZELTZNJM,R...   \n",
       "1464  R20RBRZ0WEUJT9,ROKIFK9R2ISSE,R30EEG2FNJSN5I,R2...   \n",
       "\n",
       "                                           review_title  \\\n",
       "1460  Received the product without spanner,Excellent...   \n",
       "1461  ok,everything was good couldn't return bcoz I ...   \n",
       "1462  very good,Work but front melt after 2 month,Go...   \n",
       "1463  Fan Speed is slow,Good quality,Good product,go...   \n",
       "1464  Works perfect,Ok good product,Nice Product. Re...   \n",
       "\n",
       "                                         review_content  \\\n",
       "1460  I received product without spanner,Excellent p...   \n",
       "1461  ok,got everything as mentioned but the measuri...   \n",
       "1462  plastic but cool body ,u have to find sturdy s...   \n",
       "1463  I have installed this in my kitchen working fi...   \n",
       "1464  It does it job perfectly..only issue is temp c...   \n",
       "\n",
       "                                               img_link  \\\n",
       "1460  https://m.media-amazon.com/images/I/41fDdRtjfx...   \n",
       "1461  https://m.media-amazon.com/images/I/41gzDxk4+k...   \n",
       "1462  https://m.media-amazon.com/images/W/WEBP_40237...   \n",
       "1463  https://m.media-amazon.com/images/W/WEBP_40237...   \n",
       "1464  https://m.media-amazon.com/images/W/WEBP_40237...   \n",
       "\n",
       "                                           product_link  \n",
       "1460  https://www.amazon.in/Noir-Aqua-Spanner-Purifi...  \n",
       "1461  https://www.amazon.in/Prestige-Delight-PRWO-1-...  \n",
       "1462  https://www.amazon.in/Bajaj-RX-10-2000-Watt-Co...  \n",
       "1463  https://www.amazon.in/Havells-Ventilair-230mm-...  \n",
       "1464  https://www.amazon.in/Borosil-Jumbo-1000-Watt-...  "
      ]
     },
     "execution_count": 989,
     "metadata": {},
     "output_type": "execute_result"
    }
   ],
   "source": [
    "#printing of the last rows\n",
    "df.tail()"
   ]
  },
  {
   "cell_type": "code",
   "execution_count": 990,
   "metadata": {},
   "outputs": [
    {
     "name": "stdout",
     "output_type": "stream",
     "text": [
      "Total number of rows: 1465 -> Total number of columns: 16\n"
     ]
    }
   ],
   "source": [
    "# check the number of rows and columns \n",
    "print(f'Total number of rows: {df.shape[0]} -> Total number of columns: {df.shape[1]}')"
   ]
  },
  {
   "cell_type": "code",
   "execution_count": 991,
   "metadata": {},
   "outputs": [
    {
     "data": {
      "text/html": [
       "<div>\n",
       "<style scoped>\n",
       "    .dataframe tbody tr th:only-of-type {\n",
       "        vertical-align: middle;\n",
       "    }\n",
       "\n",
       "    .dataframe tbody tr th {\n",
       "        vertical-align: top;\n",
       "    }\n",
       "\n",
       "    .dataframe thead th {\n",
       "        text-align: right;\n",
       "    }\n",
       "</style>\n",
       "<table border=\"1\" class=\"dataframe\">\n",
       "  <thead>\n",
       "    <tr style=\"text-align: right;\">\n",
       "      <th></th>\n",
       "      <th>product_id</th>\n",
       "      <th>product_name</th>\n",
       "      <th>category</th>\n",
       "      <th>discounted_price</th>\n",
       "      <th>actual_price</th>\n",
       "      <th>discount_percentage</th>\n",
       "      <th>rating</th>\n",
       "      <th>rating_count</th>\n",
       "      <th>about_product</th>\n",
       "      <th>user_id</th>\n",
       "      <th>user_name</th>\n",
       "      <th>review_id</th>\n",
       "      <th>review_title</th>\n",
       "      <th>review_content</th>\n",
       "      <th>img_link</th>\n",
       "      <th>product_link</th>\n",
       "    </tr>\n",
       "  </thead>\n",
       "  <tbody>\n",
       "    <tr>\n",
       "      <th>count</th>\n",
       "      <td>1465</td>\n",
       "      <td>1465</td>\n",
       "      <td>1465</td>\n",
       "      <td>1465</td>\n",
       "      <td>1465</td>\n",
       "      <td>1465</td>\n",
       "      <td>1465</td>\n",
       "      <td>1463</td>\n",
       "      <td>1465</td>\n",
       "      <td>1465</td>\n",
       "      <td>1465</td>\n",
       "      <td>1465</td>\n",
       "      <td>1465</td>\n",
       "      <td>1465</td>\n",
       "      <td>1465</td>\n",
       "      <td>1465</td>\n",
       "    </tr>\n",
       "    <tr>\n",
       "      <th>unique</th>\n",
       "      <td>1351</td>\n",
       "      <td>1337</td>\n",
       "      <td>211</td>\n",
       "      <td>550</td>\n",
       "      <td>449</td>\n",
       "      <td>92</td>\n",
       "      <td>28</td>\n",
       "      <td>1143</td>\n",
       "      <td>1293</td>\n",
       "      <td>1194</td>\n",
       "      <td>1194</td>\n",
       "      <td>1194</td>\n",
       "      <td>1194</td>\n",
       "      <td>1212</td>\n",
       "      <td>1412</td>\n",
       "      <td>1465</td>\n",
       "    </tr>\n",
       "    <tr>\n",
       "      <th>top</th>\n",
       "      <td>B07JW9H4J1</td>\n",
       "      <td>Fire-Boltt Ninja Call Pro Plus 1.83\" Smart Wat...</td>\n",
       "      <td>Computers&amp;Accessories|Accessories&amp;Peripherals|...</td>\n",
       "      <td>₹199</td>\n",
       "      <td>₹999</td>\n",
       "      <td>50%</td>\n",
       "      <td>4.1</td>\n",
       "      <td>9,378</td>\n",
       "      <td>[CHARGE &amp; SYNC FUNCTION]- This cable comes wit...</td>\n",
       "      <td>AHIKJUDTVJ4T6DV6IUGFYZ5LXMPA,AE55KTFVNXYFD5FPY...</td>\n",
       "      <td>$@|\\|TO$|-|,Sethu madhav,Akash Thakur,Burger P...</td>\n",
       "      <td>R3F4T5TRYPTMIG,R3DQIEC603E7AY,R1O4Z15FD40PV5,R...</td>\n",
       "      <td>Worked on iPhone 7 and didn’t work on XR,Good ...</td>\n",
       "      <td>I am not big on camera usage, personally. I wa...</td>\n",
       "      <td>https://m.media-amazon.com/images/I/413sCRKobN...</td>\n",
       "      <td>https://www.amazon.in/Wayona-Braided-WN3LG1-Sy...</td>\n",
       "    </tr>\n",
       "    <tr>\n",
       "      <th>freq</th>\n",
       "      <td>3</td>\n",
       "      <td>5</td>\n",
       "      <td>233</td>\n",
       "      <td>53</td>\n",
       "      <td>120</td>\n",
       "      <td>56</td>\n",
       "      <td>244</td>\n",
       "      <td>9</td>\n",
       "      <td>6</td>\n",
       "      <td>10</td>\n",
       "      <td>10</td>\n",
       "      <td>10</td>\n",
       "      <td>10</td>\n",
       "      <td>8</td>\n",
       "      <td>3</td>\n",
       "      <td>1</td>\n",
       "    </tr>\n",
       "  </tbody>\n",
       "</table>\n",
       "</div>"
      ],
      "text/plain": [
       "        product_id                                       product_name  \\\n",
       "count         1465                                               1465   \n",
       "unique        1351                                               1337   \n",
       "top     B07JW9H4J1  Fire-Boltt Ninja Call Pro Plus 1.83\" Smart Wat...   \n",
       "freq             3                                                  5   \n",
       "\n",
       "                                                 category discounted_price  \\\n",
       "count                                                1465             1465   \n",
       "unique                                                211              550   \n",
       "top     Computers&Accessories|Accessories&Peripherals|...             ₹199   \n",
       "freq                                                  233               53   \n",
       "\n",
       "       actual_price discount_percentage rating rating_count  \\\n",
       "count          1465                1465   1465         1463   \n",
       "unique          449                  92     28         1143   \n",
       "top            ₹999                 50%    4.1        9,378   \n",
       "freq            120                  56    244            9   \n",
       "\n",
       "                                            about_product  \\\n",
       "count                                                1465   \n",
       "unique                                               1293   \n",
       "top     [CHARGE & SYNC FUNCTION]- This cable comes wit...   \n",
       "freq                                                    6   \n",
       "\n",
       "                                                  user_id  \\\n",
       "count                                                1465   \n",
       "unique                                               1194   \n",
       "top     AHIKJUDTVJ4T6DV6IUGFYZ5LXMPA,AE55KTFVNXYFD5FPY...   \n",
       "freq                                                   10   \n",
       "\n",
       "                                                user_name  \\\n",
       "count                                                1465   \n",
       "unique                                               1194   \n",
       "top     $@|\\|TO$|-|,Sethu madhav,Akash Thakur,Burger P...   \n",
       "freq                                                   10   \n",
       "\n",
       "                                                review_id  \\\n",
       "count                                                1465   \n",
       "unique                                               1194   \n",
       "top     R3F4T5TRYPTMIG,R3DQIEC603E7AY,R1O4Z15FD40PV5,R...   \n",
       "freq                                                   10   \n",
       "\n",
       "                                             review_title  \\\n",
       "count                                                1465   \n",
       "unique                                               1194   \n",
       "top     Worked on iPhone 7 and didn’t work on XR,Good ...   \n",
       "freq                                                   10   \n",
       "\n",
       "                                           review_content  \\\n",
       "count                                                1465   \n",
       "unique                                               1212   \n",
       "top     I am not big on camera usage, personally. I wa...   \n",
       "freq                                                    8   \n",
       "\n",
       "                                                 img_link  \\\n",
       "count                                                1465   \n",
       "unique                                               1412   \n",
       "top     https://m.media-amazon.com/images/I/413sCRKobN...   \n",
       "freq                                                    3   \n",
       "\n",
       "                                             product_link  \n",
       "count                                                1465  \n",
       "unique                                               1465  \n",
       "top     https://www.amazon.in/Wayona-Braided-WN3LG1-Sy...  \n",
       "freq                                                    1  "
      ]
     },
     "execution_count": 991,
     "metadata": {},
     "output_type": "execute_result"
    }
   ],
   "source": [
    "#Provides a summary of discriptive statistics for columns\n",
    "df.describe()"
   ]
  },
  {
   "cell_type": "code",
   "execution_count": 992,
   "metadata": {},
   "outputs": [
    {
     "name": "stdout",
     "output_type": "stream",
     "text": [
      "<class 'pandas.core.frame.DataFrame'>\n",
      "RangeIndex: 1465 entries, 0 to 1464\n",
      "Data columns (total 16 columns):\n",
      " #   Column               Non-Null Count  Dtype \n",
      "---  ------               --------------  ----- \n",
      " 0   product_id           1465 non-null   object\n",
      " 1   product_name         1465 non-null   object\n",
      " 2   category             1465 non-null   object\n",
      " 3   discounted_price     1465 non-null   object\n",
      " 4   actual_price         1465 non-null   object\n",
      " 5   discount_percentage  1465 non-null   object\n",
      " 6   rating               1465 non-null   object\n",
      " 7   rating_count         1463 non-null   object\n",
      " 8   about_product        1465 non-null   object\n",
      " 9   user_id              1465 non-null   object\n",
      " 10  user_name            1465 non-null   object\n",
      " 11  review_id            1465 non-null   object\n",
      " 12  review_title         1465 non-null   object\n",
      " 13  review_content       1465 non-null   object\n",
      " 14  img_link             1465 non-null   object\n",
      " 15  product_link         1465 non-null   object\n",
      "dtypes: object(16)\n",
      "memory usage: 183.3+ KB\n"
     ]
    }
   ],
   "source": [
    "#Provides summary of the Dataframe, including infomation about data types\n",
    "df.info()\n"
   ]
  },
  {
   "cell_type": "code",
   "execution_count": 993,
   "metadata": {},
   "outputs": [
    {
     "data": {
      "text/plain": [
       "False    1465\n",
       "Name: count, dtype: int64"
      ]
     },
     "execution_count": 993,
     "metadata": {},
     "output_type": "execute_result"
    }
   ],
   "source": [
    "#Returns false value counts if there are no duplicates in the dadaframe, otherwise True\n",
    "df.duplicated().value_counts()"
   ]
  },
  {
   "cell_type": "code",
   "execution_count": 994,
   "metadata": {},
   "outputs": [
    {
     "data": {
      "text/plain": [
       "Index(['product_id', 'product_name', 'category', 'discounted_price',\n",
       "       'actual_price', 'discount_percentage', 'rating', 'rating_count',\n",
       "       'about_product', 'user_id', 'user_name', 'review_id', 'review_title',\n",
       "       'review_content', 'img_link', 'product_link'],\n",
       "      dtype='object')"
      ]
     },
     "execution_count": 994,
     "metadata": {},
     "output_type": "execute_result"
    }
   ],
   "source": [
    "#Provides information in the columns in the dataframe as well as the data type\n",
    "df.columns"
   ]
  },
  {
   "cell_type": "code",
   "execution_count": 995,
   "metadata": {},
   "outputs": [],
   "source": [
    "#Renaming a column \n",
    "df = df.rename(columns={'category':'sub_category'})"
   ]
  },
  {
   "cell_type": "code",
   "execution_count": 996,
   "metadata": {},
   "outputs": [
    {
     "data": {
      "text/plain": [
       "product_id             0\n",
       "product_name           0\n",
       "sub_category           0\n",
       "discounted_price       0\n",
       "actual_price           0\n",
       "discount_percentage    0\n",
       "rating                 0\n",
       "rating_count           2\n",
       "about_product          0\n",
       "user_id                0\n",
       "user_name              0\n",
       "review_id              0\n",
       "review_title           0\n",
       "review_content         0\n",
       "img_link               0\n",
       "product_link           0\n",
       "dtype: int64"
      ]
     },
     "execution_count": 996,
     "metadata": {},
     "output_type": "execute_result"
    }
   ],
   "source": [
    "#Provides the total number of null values for each column\n",
    "df.isnull().sum()"
   ]
  },
  {
   "cell_type": "code",
   "execution_count": 997,
   "metadata": {},
   "outputs": [
    {
     "name": "stdout",
     "output_type": "stream",
     "text": [
      "product_id\n",
      "['B07JW9H4J1' 'B098NS6PVG' 'B096MSW6CT' ... 'B009P2LIL4' 'B00J5DYCCA'\n",
      " 'B01486F4G6']\n",
      "product_name\n",
      "['Wayona Nylon Braided USB to Lightning Fast Charging and Data Sync Cable Compatible for iPhone 13, 12,11, X, 8, 7, 6, 5, iPad Air, Pro, Mini (3 FT Pack of 1, Grey)'\n",
      " 'Ambrane Unbreakable 60W / 3A Fast Charging 1.5m Braided Type C Cable for Smartphones, Tablets, Laptops & other Type C devices, PD Technology, 480Mbps Data Sync, Quick Charge 3.0 (RCT15A, Black)'\n",
      " 'Sounce Fast Phone Charging Cable & Data Sync USB Cable Compatible for iPhone 13, 12,11, X, 8, 7, 6, 5, iPad Air, Pro, Mini & iOS Devices'\n",
      " ...\n",
      " 'Bajaj Majesty RX10 2000 Watts Heat Convector Room Heater (White, ISI Approved)'\n",
      " 'Havells Ventil Air DSP 230mm Exhaust Fan (Pista Green)'\n",
      " 'Borosil Jumbo 1000-Watt Grill Sandwich Maker (Black)']\n",
      "sub_category\n",
      "['Computers&Accessories|Accessories&Peripherals|Cables&Accessories|Cables|USBCables'\n",
      " 'Computers&Accessories|NetworkingDevices|NetworkAdapters|WirelessUSBAdapters'\n",
      " 'Electronics|HomeTheater,TV&Video|Accessories|Cables|HDMICables'\n",
      " 'Electronics|HomeTheater,TV&Video|Televisions|SmartTelevisions'\n",
      " 'Electronics|HomeTheater,TV&Video|Accessories|RemoteControls'\n",
      " 'Electronics|HomeTheater,TV&Video|Televisions|StandardTelevisions'\n",
      " 'Electronics|HomeTheater,TV&Video|Accessories|TVMounts,Stands&Turntables|TVWall&CeilingMounts'\n",
      " 'Electronics|HomeTheater,TV&Video|Accessories|Cables|RCACables'\n",
      " 'Electronics|HomeAudio|Accessories|SpeakerAccessories|Mounts'\n",
      " 'Electronics|HomeTheater,TV&Video|Accessories|Cables|OpticalCables'\n",
      " 'Electronics|HomeTheater,TV&Video|Projectors'\n",
      " 'Electronics|HomeAudio|Accessories|Adapters'\n",
      " 'Electronics|HomeTheater,TV&Video|SatelliteEquipment|SatelliteReceivers'\n",
      " 'Computers&Accessories|Accessories&Peripherals|Cables&Accessories|Cables|DVICables'\n",
      " 'Electronics|HomeTheater,TV&Video|Accessories|Cables|SpeakerCables'\n",
      " 'Electronics|HomeAudio|MediaStreamingDevices|StreamingClients'\n",
      " 'Electronics|HomeTheater,TV&Video|AVReceivers&Amplifiers'\n",
      " 'Electronics|HomeAudio|Speakers|TowerSpeakers'\n",
      " 'Electronics|HomeTheater,TV&Video|Accessories|3DGlasses'\n",
      " 'Electronics|WearableTechnology|SmartWatches'\n",
      " 'Electronics|Mobiles&Accessories|MobileAccessories|Chargers|PowerBanks'\n",
      " 'Electronics|Mobiles&Accessories|Smartphones&BasicMobiles|Smartphones'\n",
      " 'Electronics|Accessories|MemoryCards|MicroSD'\n",
      " 'Electronics|Mobiles&Accessories|Smartphones&BasicMobiles|BasicMobiles'\n",
      " 'Electronics|Headphones,Earbuds&Accessories|Headphones|In-Ear'\n",
      " 'Electronics|Mobiles&Accessories|MobileAccessories|Chargers|AutomobileChargers'\n",
      " 'Electronics|Mobiles&Accessories|MobileAccessories|AutomobileAccessories|Cradles'\n",
      " 'Electronics|Mobiles&Accessories|MobileAccessories|Chargers|WallChargers'\n",
      " 'Electronics|Mobiles&Accessories|MobileAccessories|Cables&Adapters|OTGAdapters'\n",
      " 'Electronics|Mobiles&Accessories|MobileAccessories|Photo&VideoAccessories|Tripods'\n",
      " 'Electronics|Mobiles&Accessories|MobileAccessories|Photo&VideoAccessories|SelfieSticks'\n",
      " 'Electronics|Mobiles&Accessories|MobileAccessories|Stands'\n",
      " 'Computers&Accessories|Accessories&Peripherals|Cables&Accessories|CableConnectionProtectors'\n",
      " 'Electronics|Mobiles&Accessories|MobileAccessories|Décor'\n",
      " 'Electronics|Mobiles&Accessories|MobileAccessories|Maintenance,Upkeep&Repairs|ScreenProtectors'\n",
      " 'Electronics|Mobiles&Accessories|MobileAccessories|StylusPens'\n",
      " 'Electronics|Mobiles&Accessories|MobileAccessories|Mounts|Bedstand&DeskMounts'\n",
      " 'Electronics|Mobiles&Accessories|MobileAccessories|Cases&Covers|BasicCases'\n",
      " 'Electronics|Mobiles&Accessories|MobileAccessories|Mounts|HandlebarMounts'\n",
      " 'Electronics|Headphones,Earbuds&Accessories|Headphones|On-Ear'\n",
      " 'Computers&Accessories|Accessories&Peripherals|LaptopAccessories|CameraPrivacyCovers'\n",
      " 'Electronics|Headphones,Earbuds&Accessories|Adapters'\n",
      " 'Electronics|Mobiles&Accessories|MobileAccessories|Décor|PhoneCharms'\n",
      " 'Electronics|Mobiles&Accessories|MobileAccessories|Mounts|Shower&WallMounts'\n",
      " 'Computers&Accessories|ExternalDevices&DataStorage|PenDrives'\n",
      " 'Computers&Accessories|Accessories&Peripherals|Keyboards,Mice&InputDevices|Mice'\n",
      " 'Computers&Accessories|Accessories&Peripherals|Keyboards,Mice&InputDevices|GraphicTablets'\n",
      " 'Computers&Accessories|Accessories&Peripherals|LaptopAccessories|Lapdesks'\n",
      " 'Computers&Accessories|Accessories&Peripherals|LaptopAccessories|NotebookComputerStands'\n",
      " 'Computers&Accessories|Accessories&Peripherals|Keyboards,Mice&InputDevices|Keyboards'\n",
      " 'MusicalInstruments|Microphones|Condenser'\n",
      " 'Electronics|GeneralPurposeBatteries&BatteryChargers|DisposableBatteries'\n",
      " 'OfficeProducts|OfficePaperProducts|Paper|Stationery|Pens,Pencils&WritingSupplies|Pens&Refills|GelInkRollerballPens'\n",
      " 'Home&Kitchen|CraftMaterials|Scrapbooking|Tape'\n",
      " 'Computers&Accessories|Accessories&Peripherals|Keyboards,Mice&InputDevices|Keyboard&MouseSets'\n",
      " 'Computers&Accessories|ExternalDevices&DataStorage|ExternalHardDisks'\n",
      " 'Electronics|Cameras&Photography|VideoCameras'\n",
      " 'Electronics|Cameras&Photography|Accessories|Tripods&Monopods|Tabletop&TravelTripods'\n",
      " 'OfficeProducts|OfficeElectronics|Calculators|Scientific'\n",
      " 'Computers&Accessories|NetworkingDevices|Repeaters&Extenders'\n",
      " 'Electronics|Cameras&Photography|Accessories|Tripods&Monopods|TripodLegs'\n",
      " 'Computers&Accessories|Printers,Inks&Accessories|Inks,Toners&Cartridges|InkjetInkCartridges'\n",
      " 'Computers&Accessories|Accessories&Peripherals|Keyboards,Mice&InputDevices|Keyboard&MiceAccessories|DustCovers'\n",
      " 'Computers&Accessories|Accessories&Peripherals|PCGamingPeripherals|GamingMice'\n",
      " 'Home&Kitchen|CraftMaterials|PaintingMaterials|Paints'\n",
      " 'Computers&Accessories|Accessories&Peripherals|Keyboards,Mice&InputDevices|Keyboard&MiceAccessories|MousePads'\n",
      " 'Computers&Accessories|Accessories&Peripherals|HardDiskBags'\n",
      " 'Electronics|Cameras&Photography|Flashes|Macro&RinglightFlashes'\n",
      " 'Computers&Accessories|NetworkingDevices'\n",
      " 'Computers&Accessories|NetworkingDevices|Routers'\n",
      " 'Electronics|Headphones,Earbuds&Accessories|Headphones|Over-Ear'\n",
      " 'Electronics|HomeAudio|Speakers|BluetoothSpeakers'\n",
      " 'Electronics|GeneralPurposeBatteries&BatteryChargers'\n",
      " 'OfficeProducts|OfficePaperProducts|Paper|Stationery|Notebooks,WritingPads&Diaries|WireboundNotebooks'\n",
      " 'Electronics|GeneralPurposeBatteries&BatteryChargers|RechargeableBatteries'\n",
      " 'Computers&Accessories|NetworkingDevices|NetworkAdapters|BluetoothAdapters'\n",
      " 'Computers&Accessories|Accessories&Peripherals|Adapters|USBtoUSBAdapters'\n",
      " 'Electronics|Cameras&Photography|Accessories|Tripods&Monopods|CompleteTripodUnits'\n",
      " 'OfficeProducts|OfficePaperProducts|Paper|Stationery|Notebooks,WritingPads&Diaries|Notepads&MemoBooks'\n",
      " 'Electronics|Cameras&Photography|Accessories|Film'\n",
      " 'Computers&Accessories|Monitors'\n",
      " 'Computers&Accessories|Accessories&Peripherals|USBGadgets|Lamps'\n",
      " 'Electronics|Cameras&Photography|Accessories|Cleaners|CleaningKits'\n",
      " 'Electronics|Cameras&Photography|SecurityCameras|DomeCameras'\n",
      " 'Computers&Accessories|Accessories&Peripherals|TabletAccessories|ScreenProtectors'\n",
      " 'Computers&Accessories|Accessories&Peripherals|PCGamingPeripherals|Gamepads'\n",
      " 'OfficeProducts|OfficeElectronics|Calculators|Basic'\n",
      " 'Computers&Accessories|Accessories&Peripherals|USBHubs'\n",
      " 'Computers&Accessories|Accessories&Peripherals|Audio&VideoAccessories|PCMicrophones'\n",
      " 'Electronics|HomeAudio|Speakers|OutdoorSpeakers'\n",
      " 'Computers&Accessories|Accessories&Peripherals|LaptopAccessories|Bags&Sleeves|LaptopSleeves&Slipcases'\n",
      " 'Computers&Accessories|ExternalDevices&DataStorage|ExternalMemoryCardReaders'\n",
      " 'OfficeProducts|OfficePaperProducts|Paper|Stationery|Pens,Pencils&WritingSupplies|Pens&Refills|BottledInk'\n",
      " 'OfficeProducts|OfficePaperProducts|Paper|Stationery|Notebooks,WritingPads&Diaries|CompositionNotebooks'\n",
      " 'OfficeProducts|OfficePaperProducts|Paper|Stationery|Pens,Pencils&WritingSupplies|Pens&Refills|RetractableBallpointPens'\n",
      " 'Computers&Accessories|Accessories&Peripherals|Cables&Accessories|Cables|EthernetCables'\n",
      " 'Computers&Accessories|Components|Memory'\n",
      " 'Computers&Accessories|Accessories&Peripherals|UninterruptedPowerSupplies'\n",
      " 'Electronics|Headphones,Earbuds&Accessories|Cases'\n",
      " 'Electronics|Accessories|MemoryCards|SecureDigitalCards'\n",
      " 'Electronics|Mobiles&Accessories|MobileAccessories|Photo&VideoAccessories|Flashes&SelfieLights|SelfieLights'\n",
      " 'Computers&Accessories|Accessories&Peripherals|Audio&VideoAccessories|Webcams&VoIPEquipment|Webcams'\n",
      " 'Computers&Accessories|Accessories&Peripherals|LaptopAccessories|CoolingPads'\n",
      " 'Computers&Accessories|Accessories&Peripherals|LaptopAccessories'\n",
      " 'Computers&Accessories|Accessories&Peripherals|TabletAccessories|Stands'\n",
      " 'HomeImprovement|Electrical|Adapters&Multi-Outlets'\n",
      " 'OfficeProducts|OfficePaperProducts|Paper|Copy&PrintingPaper|ColouredPaper'\n",
      " 'Computers&Accessories|Components|InternalSolidStateDrives'\n",
      " 'Electronics|HomeAudio|Speakers|MultimediaSpeakerSystems'\n",
      " 'Computers&Accessories|NetworkingDevices|DataCards&Dongles'\n",
      " 'Computers&Accessories|Accessories&Peripherals|LaptopAccessories|LaptopChargers&PowerSupplies'\n",
      " 'Computers&Accessories|Accessories&Peripherals|Audio&VideoAccessories|PCSpeakers'\n",
      " 'Electronics|Cameras&Photography|Accessories|Batteries&Chargers|BatteryChargers'\n",
      " 'Computers&Accessories|Accessories&Peripherals|TabletAccessories|Bags,Cases&Sleeves|Cases'\n",
      " 'OfficeProducts|OfficePaperProducts|Paper|Stationery|Pens,Pencils&WritingSupplies|Pens&Refills|StickBallpointPens'\n",
      " 'Home&Kitchen|CraftMaterials|DrawingMaterials|DrawingMedia|Pencils|WoodenPencils'\n",
      " 'Computers&Accessories|Components|InternalHardDrives'\n",
      " 'Computers&Accessories|Printers,Inks&Accessories|Printers'\n",
      " 'Home&Kitchen|CraftMaterials|DrawingMaterials|DrawingMedia|Pens'\n",
      " 'Computers&Accessories|Accessories&Peripherals|Cables&Accessories|Cables|SATACables'\n",
      " 'Computers&Accessories|Accessories&Peripherals|Audio&VideoAccessories|PCHeadsets'\n",
      " 'Computers&Accessories|Accessories&Peripherals|PCGamingPeripherals|GamingKeyboards'\n",
      " 'Electronics|HomeAudio|Speakers|SoundbarSpeakers'\n",
      " 'Electronics|Headphones,Earbuds&Accessories|Earpads'\n",
      " 'Computers&Accessories|Printers,Inks&Accessories|Printers|InkjetPrinters'\n",
      " 'Toys&Games|Arts&Crafts|Drawing&PaintingSupplies|ColouringPens&Markers'\n",
      " 'Computers&Accessories|Accessories&Peripherals|PCGamingPeripherals|Headsets'\n",
      " 'Computers&Accessories|ExternalDevices&DataStorage|ExternalSolidStateDrives'\n",
      " 'Computers&Accessories|NetworkingDevices|NetworkAdapters|PowerLANAdapters'\n",
      " 'Computers&Accessories|Printers,Inks&Accessories|Inks,Toners&Cartridges|InkjetInkRefills&Kits'\n",
      " 'OfficeProducts|OfficePaperProducts|Paper|Stationery|Notebooks,WritingPads&Diaries'\n",
      " 'Electronics|Cameras&Photography|Accessories|PhotoStudio&Lighting|PhotoBackgroundAccessories|BackgroundSupports'\n",
      " 'OfficeProducts|OfficeElectronics|Calculators|Financial&Business'\n",
      " 'Electronics|PowerAccessories|SurgeProtectors'\n",
      " 'Computers&Accessories|Tablets'\n",
      " 'HomeImprovement|Electrical|CordManagement'\n",
      " 'Home&Kitchen|CraftMaterials|PaintingMaterials'\n",
      " 'Computers&Accessories|Printers,Inks&Accessories|Inks,Toners&Cartridges|TonerCartridges'\n",
      " 'OfficeProducts|OfficePaperProducts|Paper|Stationery|Pens,Pencils&WritingSupplies|Pens&Refills|LiquidInkRollerballPens'\n",
      " 'OfficeProducts|OfficePaperProducts|Paper|Stationery|Pens,Pencils&WritingSupplies|Pens&Refills|FountainPens'\n",
      " 'Computers&Accessories|Accessories&Peripherals|HardDriveAccessories|Caddies'\n",
      " 'Computers&Accessories|Laptops|TraditionalLaptops'\n",
      " 'Home&Kitchen|Kitchen&HomeAppliances|SmallKitchenAppliances|Kettles&HotWaterDispensers|ElectricKettles'\n",
      " 'Home&Kitchen|Heating,Cooling&AirQuality|RoomHeaters|ElectricHeaters'\n",
      " 'Home&Kitchen|Heating,Cooling&AirQuality|RoomHeaters|FanHeaters'\n",
      " 'Home&Kitchen|Kitchen&HomeAppliances|Vacuum,Cleaning&Ironing|Irons,Steamers&Accessories|LintShavers'\n",
      " 'Home&Kitchen|Kitchen&HomeAppliances|SmallKitchenAppliances|DigitalKitchenScales'\n",
      " 'Home&Kitchen|Kitchen&Dining|KitchenTools|ManualChoppers&Chippers|Choppers'\n",
      " 'Home&Kitchen|Kitchen&HomeAppliances|SmallKitchenAppliances|InductionCooktop'\n",
      " 'Home&Kitchen|Kitchen&HomeAppliances|SmallKitchenAppliances|HandBlenders'\n",
      " 'Home&Kitchen|Kitchen&HomeAppliances|Vacuum,Cleaning&Ironing|Irons,Steamers&Accessories|Irons|DryIrons'\n",
      " 'Home&Kitchen|Kitchen&HomeAppliances|SmallKitchenAppliances|MixerGrinders'\n",
      " 'Home&Kitchen|Heating,Cooling&AirQuality|WaterHeaters&Geysers|InstantWaterHeaters'\n",
      " 'Home&Kitchen|Heating,Cooling&AirQuality|RoomHeaters'\n",
      " 'Home&Kitchen|Kitchen&HomeAppliances|SmallKitchenAppliances|Kettles&HotWaterDispensers|Kettle&ToasterSets'\n",
      " 'Home&Kitchen|Heating,Cooling&AirQuality|WaterHeaters&Geysers|StorageWaterHeaters'\n",
      " 'Home&Kitchen|Heating,Cooling&AirQuality|WaterHeaters&Geysers|ImmersionRods'\n",
      " 'Home&Kitchen|Kitchen&HomeAppliances|SmallKitchenAppliances|DeepFatFryers|AirFryers'\n",
      " 'Home&Kitchen|HomeStorage&Organization|LaundryOrganization|LaundryBaskets'\n",
      " 'Home&Kitchen|Kitchen&HomeAppliances|Vacuum,Cleaning&Ironing|Irons,Steamers&Accessories|Irons|SteamIrons'\n",
      " 'Home&Kitchen|Kitchen&HomeAppliances|SmallKitchenAppliances|JuicerMixerGrinders'\n",
      " 'Home&Kitchen|Kitchen&HomeAppliances|Vacuum,Cleaning&Ironing|Vacuums&FloorCare|Vacuums|HandheldVacuums'\n",
      " 'Home&Kitchen|Kitchen&HomeAppliances|SmallKitchenAppliances|EggBoilers'\n",
      " 'Home&Kitchen|Kitchen&HomeAppliances|SmallKitchenAppliances|SandwichMakers'\n",
      " 'Home&Kitchen|Kitchen&HomeAppliances|SmallKitchenAppliances|MiniFoodProcessors&Choppers'\n",
      " 'Home&Kitchen|Kitchen&HomeAppliances|SmallKitchenAppliances|DigitalKitchenScales|DigitalScales'\n",
      " 'Home&Kitchen|Kitchen&HomeAppliances|SmallKitchenAppliances|VacuumSealers'\n",
      " 'Home&Kitchen|Heating,Cooling&AirQuality|Fans|CeilingFans'\n",
      " 'Home&Kitchen|Kitchen&HomeAppliances|Vacuum,Cleaning&Ironing|Vacuums&FloorCare|Vacuums|CanisterVacuums'\n",
      " 'Home&Kitchen|Kitchen&HomeAppliances|Vacuum,Cleaning&Ironing|PressureWashers,Steam&WindowCleaners'\n",
      " 'Home&Kitchen|Heating,Cooling&AirQuality|RoomHeaters|HalogenHeaters'\n",
      " 'Home&Kitchen|Kitchen&HomeAppliances|SmallKitchenAppliances|Pop-upToasters'\n",
      " 'Home&Kitchen|Heating,Cooling&AirQuality|RoomHeaters|HeatConvectors'\n",
      " 'Home&Kitchen|Kitchen&HomeAppliances|Coffee,Tea&Espresso|CoffeeGrinders|ElectricGrinders'\n",
      " 'Home&Kitchen|Heating,Cooling&AirQuality|Fans|ExhaustFans'\n",
      " 'Home&Kitchen|Kitchen&HomeAppliances|Coffee,Tea&Espresso|DripCoffeeMachines'\n",
      " 'Home&Kitchen|Kitchen&HomeAppliances|WaterPurifiers&Accessories|WaterPurifierAccessories'\n",
      " 'Home&Kitchen|Kitchen&HomeAppliances|WaterPurifiers&Accessories|WaterCartridges'\n",
      " 'Home&Kitchen|Kitchen&HomeAppliances|SmallKitchenAppliances|Rice&PastaCookers'\n",
      " 'Car&Motorbike|CarAccessories|InteriorAccessories|AirPurifiers&Ionizers'\n",
      " 'Home&Kitchen|Kitchen&HomeAppliances|Vacuum,Cleaning&Ironing|Vacuums&FloorCare|Vacuums|Wet-DryVacuums'\n",
      " 'Home&Kitchen|Heating,Cooling&AirQuality|AirPurifiers|HEPAAirPurifiers'\n",
      " 'Home&Kitchen|Kitchen&HomeAppliances|WaterPurifiers&Accessories|WaterFilters&Purifiers'\n",
      " 'Home&Kitchen|HomeStorage&Organization|LaundryOrganization|LaundryBags'\n",
      " 'Home&Kitchen|Kitchen&HomeAppliances|SewingMachines&Accessories|Sewing&EmbroideryMachines'\n",
      " 'Home&Kitchen|HomeStorage&Organization|LaundryOrganization|IroningAccessories|SprayBottles'\n",
      " 'Home&Kitchen|Kitchen&HomeAppliances|SmallKitchenAppliances|HandMixers'\n",
      " 'Home&Kitchen|Kitchen&HomeAppliances|SmallKitchenAppliances|Mills&Grinders|WetGrinders'\n",
      " 'Home&Kitchen|Kitchen&HomeAppliances|SmallKitchenAppliances|OvenToasterGrills'\n",
      " 'Home&Kitchen|Kitchen&HomeAppliances|SmallKitchenAppliances|Juicers'\n",
      " 'Home&Kitchen|Kitchen&HomeAppliances|SmallKitchenAppliances'\n",
      " 'Health&PersonalCare|HomeMedicalSupplies&Equipment|HealthMonitors|WeighingScales|DigitalBathroomScales'\n",
      " 'Home&Kitchen|Kitchen&HomeAppliances|Coffee,Tea&Espresso|EspressoMachines'\n",
      " 'Home&Kitchen|Heating,Cooling&AirQuality|Fans|TableFans'\n",
      " 'Home&Kitchen|Kitchen&HomeAppliances|Coffee,Tea&Espresso|MilkFrothers'\n",
      " 'Home&Kitchen|Heating,Cooling&AirQuality|Humidifiers'\n",
      " 'Home&Kitchen|Kitchen&HomeAppliances|SmallKitchenAppliances|SmallApplianceParts&Accessories|StandMixerAccessories'\n",
      " 'Home&Kitchen|Kitchen&HomeAppliances|Vacuum,Cleaning&Ironing|Vacuums&FloorCare|Vacuums|RoboticVacuums'\n",
      " 'Home&Kitchen|Kitchen&HomeAppliances|SmallKitchenAppliances|YogurtMakers'\n",
      " 'Home&Kitchen|Kitchen&HomeAppliances|SmallKitchenAppliances|Juicers|ColdPressJuicers'\n",
      " 'Home&Kitchen|Heating,Cooling&AirQuality|AirConditioners|Split-SystemAirConditioners'\n",
      " 'Home&Kitchen|Kitchen&HomeAppliances|SmallKitchenAppliances|SmallApplianceParts&Accessories'\n",
      " 'Home&Kitchen|Kitchen&HomeAppliances|SmallKitchenAppliances|WaffleMakers&Irons'\n",
      " 'Home&Kitchen|Kitchen&HomeAppliances|Coffee,Tea&Espresso|StovetopEspressoPots'\n",
      " 'Home&Kitchen|Kitchen&HomeAppliances|Coffee,Tea&Espresso|CoffeeMakerAccessories|MeasuringSpoons'\n",
      " 'Home&Kitchen|Kitchen&HomeAppliances|Coffee,Tea&Espresso|CoffeePresses'\n",
      " 'Home&Kitchen|Kitchen&HomeAppliances|SmallKitchenAppliances|RotiMakers'\n",
      " 'Home&Kitchen|Heating,Cooling&AirQuality|Parts&Accessories|FanParts&Accessories'\n",
      " 'Home&Kitchen|Kitchen&HomeAppliances|SmallKitchenAppliances|StandMixers'\n",
      " 'Home&Kitchen|Heating,Cooling&AirQuality|Fans|PedestalFans'\n",
      " 'Home&Kitchen|Kitchen&HomeAppliances|Vacuum,Cleaning&Ironing|Vacuums&FloorCare|VacuumAccessories|VacuumBags|HandheldBags']\n",
      "discounted_price\n",
      "['₹399' '₹199' '₹329' '₹154' '₹149' '₹176.63' '₹229' '₹499' '₹299' '₹219'\n",
      " '₹350' '₹159' '₹349' '₹13,999' '₹249' '₹13,490' '₹970' '₹279' '₹59'\n",
      " '₹11,499' '₹14,999' '₹179' '₹389' '₹599' '₹99' '₹899' '₹32,999' '₹209'\n",
      " '₹19,999' '₹999' '₹333' '₹507' '₹309' '₹1,199' '₹799' '₹6,999' '₹230'\n",
      " '₹649' '₹15,999' '₹348' '₹32,990' '₹139' '₹263' '₹7,999' '₹1,599'\n",
      " '₹26,999' '₹115' '₹10,901' '₹1,434' '₹7,299' '₹325' '₹29,999' '₹27,999'\n",
      " '₹30,990' '₹269' '₹24,999' '₹18,990' '₹290' '₹345' '₹1,099' '₹719' '₹849'\n",
      " '₹21,999' '₹449' '₹37,999' '₹7,390' '₹273.10' '₹15,990' '₹210' '₹1,299'\n",
      " '₹347' '₹228' '₹1,499' '₹8,499' '₹20,990' '₹9,999' '₹489' '₹23,999'\n",
      " '₹689' '₹1,699' '₹655' '₹749' '₹195' '₹416' '₹368' '₹29,990' '₹339'\n",
      " '₹15,490' '₹9,490' '₹637' '₹1,089' '₹12,499' '₹1,399' '₹88' '₹57.89'\n",
      " '₹205' '₹949' '₹379' '₹8,990' '₹486' '₹5,699' '₹709' '₹47,990' '₹320'\n",
      " '₹129' '₹225' '₹547' '₹259' '₹239' '₹467' '₹11,990' '₹252' '₹204'\n",
      " '₹6,490' '₹235' '₹42,999' '₹173' '₹848.99' '₹1,249' '₹213' '₹598'\n",
      " '₹31,999' '₹128.31' '₹254' '₹89' '₹549' '₹77,990' '₹182' '₹96' '₹54,990'\n",
      " '₹439' '₹789' '₹790' '₹4,699' '₹18,999' '₹1,990' '₹2,299' '₹35,999'\n",
      " '₹8,999' '₹917' '₹45,999' '₹119' '₹21,990' '₹417.44' '₹215' '₹1,289'\n",
      " '₹609' '₹1,850' '₹13,990' '₹185' '₹218' '₹893' '₹10,990' '₹16,999' '₹699'\n",
      " '₹2,699' '₹246' '₹247' '₹1,369' '₹24,990' '₹61,999' '₹24,499' '₹10,499'\n",
      " '₹197' '₹1,519' '₹46,999' '₹1,799' '₹1,998' '₹1,999' '₹2,049' '₹6,499'\n",
      " '₹28,999' '₹569' '₹1,898' '₹9,499' '₹959' '₹1,149' '₹1,219' '₹18,499'\n",
      " '₹369' '₹12,999' '₹2,199' '₹16,499' '₹3,999' '₹2,998' '₹15,499' '₹873'\n",
      " '₹539' '₹1,075' '₹529' '₹4,790' '₹33,999' '₹10,999' '₹34,999' '₹2,999'\n",
      " '₹20,999' '₹22,999' '₹134' '₹7,499' '₹1,324' '₹12,490' '₹17,999' '₹2,099'\n",
      " '₹337' '₹251' '₹95' '₹4,499' '₹1,989' '₹4,999' '₹2,499' '₹79' '₹2,179'\n",
      " '₹44,999' '₹2,599' '₹2,799' '₹3,799' '₹281' '₹7,998' '₹120' '₹7,915'\n",
      " '₹1,055' '₹150' '₹474' '₹265' '₹37,990' '₹314' '₹365' '₹289' '₹217'\n",
      " '₹1,220' '₹475' '₹798' '₹266' '₹50' '₹130' '₹4,098' '₹519' '₹1,295'\n",
      " '₹1,889' '₹455' '₹1,059' '₹717' '₹39' '₹889' '₹191' '₹522' '₹681' '₹429'\n",
      " '₹100' '₹1,049' '₹656' '₹1,109' '₹169' '₹157' '₹479' '₹1,598' '₹294'\n",
      " '₹828' '₹745' '₹1,549' '₹1,469' '₹198' '₹12,000' '₹6,299' '₹571' '₹448'\n",
      " '₹579' '₹137' '₹1,495' '₹440' '₹1,329' '₹570' '₹1,529' '₹190' '₹729'\n",
      " '₹480' '₹238' '₹1,349' '₹1,792' '₹3,299' '₹125' '₹561' '₹5,599' '₹69'\n",
      " '₹478' '₹425' '₹378' '₹1,815' '₹67' '₹5,799' '₹4,449' '₹629' '₹2,595'\n",
      " '₹90' '₹1,345' '₹287' '₹879' '₹250' '₹469' '₹1,187' '₹328' '₹114'\n",
      " '₹1,490' '₹575' '₹178' '₹939' '₹1,439' '₹175' '₹3,303' '₹1,890' '₹310'\n",
      " '₹1,709' '₹2,025' '₹900' '₹2,490' '₹116' '₹200' '₹2,649' '₹596' '₹330'\n",
      " '₹1,234' '₹272' '₹3,498' '₹10,099' '₹397' '₹1,679' '₹354' '₹10,389'\n",
      " '₹1,409' '₹5,998' '₹300' '₹535' '₹341' '₹5,899' '₹1,565' '₹326' '₹657'\n",
      " '₹1,995' '₹1,500' '₹2,640' '₹5,299' '₹165' '₹398' '₹770' '₹420' '₹8,349'\n",
      " '₹3,307' '₹380' '₹37,247' '₹298' '₹293' '₹1,043' '₹1,464' '₹625' '₹1,290'\n",
      " '₹3,600' '₹6,549' '₹1,625' '₹5,499' '₹2,148' '₹3,599' '₹351' '₹1,614'\n",
      " '₹678' '₹809' '₹1,969' '₹1,665' '₹3,229' '₹1,260' '₹3,499' '₹1,321'\n",
      " '₹775' '₹3,190' '₹6,199' '₹1,819' '₹3,249' '₹1,400' '₹355' '₹2,169'\n",
      " '₹653' '₹4,789' '₹753' '₹353' '₹8,799' '₹2,095' '₹1,498' '₹3,699' '₹177'\n",
      " '₹244' '₹1,959' '₹319' '₹9,590' '₹292' '₹160' '₹600' '₹1,130' '₹3,199'\n",
      " '₹616' '₹610' '₹453' '₹2,464' '₹2,719' '₹2,088' '₹2,399' '₹308' '₹245'\n",
      " '₹3,569' '₹2,089' '₹2,339' '₹784' '₹1,695' '₹1,448' '₹6,990' '₹2,698'\n",
      " '₹1,414' '₹5,999' '₹9,970' '₹698' '₹14,400' '₹664' '₹260' '₹1,484'\n",
      " '₹4,280' '₹189' '₹1,449' '₹3,657.66' '₹1,849' '₹8,199' '₹1,595' '₹1,182'\n",
      " '₹1,052' '₹1,547' '₹510' '₹1,899' '₹14,499' '₹950' '₹7,199' '₹2,439'\n",
      " '₹7,799' '₹2,899' '₹9,799' '₹669' '₹5,890' '₹9,199' '₹6,236' '₹2,742'\n",
      " '₹721' '₹2,903' '₹1,656' '₹2,079' '₹3,179' '₹4,799' '₹948' '₹850'\n",
      " '₹3,711' '₹980' '₹3,349' '₹2,249' '₹1,235' '₹6,800' '₹1,069' '₹2,092'\n",
      " '₹3,859' '₹1,804' '₹6,525' '₹1,189' '₹2,590' '₹998' '₹998.06' '₹8,886'\n",
      " '₹4,995' '₹395' '₹635' '₹27,900' '₹193' '₹2,449' '₹2,286' '₹5,395' '₹559'\n",
      " '₹660' '₹419' '₹7,349' '₹1,474' '₹3,645' '₹375' '₹2,976' '₹2,575'\n",
      " '₹1,649' '₹765' '₹587' '₹12,609' '₹640' '₹979' '₹5,365' '₹929' '₹3,710'\n",
      " '₹2,033' '₹9,495' '₹2,790' '₹645' '₹2,237.81' '₹8,699' '₹42,990' '₹825'\n",
      " '₹161' '₹697' '₹688' '₹6,850' '₹1,090' '₹295' '₹2,949' '₹335' '₹778'\n",
      " '₹1,190' '₹6,120' '₹3,685' '₹8,599' '₹1,110' '₹759' '₹2,669' '₹85'\n",
      " '₹5,865' '₹1,928' '₹1,456' '₹4,899' '₹3,290' '₹5,490' '₹3,041.67'\n",
      " '₹1,745' '₹3,180' '₹390' '₹1,624' '₹184' '₹445' '₹1,601' '₹231' '₹6,790'\n",
      " '₹1,982.84' '₹1,180' '₹253' '₹457' '₹426' '₹2,320' '₹1,563' '₹3,487.77'\n",
      " '₹498' '₹2,695' '₹2,280' '₹2,219' '₹2,863']\n",
      "actual_price\n",
      "['₹1,099' '₹349' '₹1,899' '₹699' '₹399' '₹1,000' '₹499' '₹299' '₹999'\n",
      " '₹339' '₹799' '₹700' '₹899' '₹24,999' '₹21,990' '₹1,799' '₹22,900' '₹199'\n",
      " '₹19,990' '₹19,999' '₹1,999' '₹750' '₹599' '₹666.66' '₹1,900' '₹45,999'\n",
      " '₹695' '₹34,999' '₹1,599' '₹1,208' '₹475' '₹395' '₹2,199' '₹500' '₹2,100'\n",
      " '₹12,999' '₹1,399' '₹21,999' '₹1,499' '₹47,900' '₹845' '₹1,400' '₹14,990'\n",
      " '₹2,999' '₹42,999' '₹30,990' '₹3,999' '₹249' '₹19,125' '₹1,299' '₹39,999'\n",
      " '₹40,990' '₹52,900' '₹800' '₹31,999' '₹1,809' '₹29,999' '₹65,000'\n",
      " '₹20,000' '₹23,990' '₹15,999' '₹44,990' '₹44,999' '₹1,700' '₹595'\n",
      " '₹27,990' '₹1,200' '₹34,990' '₹1,500' '₹49,990' '₹931' '₹2,399' '₹1,339'\n",
      " '₹20,900' '₹15,990' '₹1,600' '₹849' '₹1,199' '₹22,990' '₹2,499' '₹47,990'\n",
      " '₹485' '₹18,990' '₹11,000' '₹70,900' '₹549' '₹35,999' '₹1,699' '₹31,990'\n",
      " '₹9,990' '₹16,990' '₹59,999' '₹600' '₹1,490' '₹2,299' '₹4,999' '₹1,749'\n",
      " '₹1,100' '₹49,999' '₹56,790' '₹795' '₹798' '₹995' '₹1,39,900' '₹85,000'\n",
      " '₹758' '₹4,699' '₹24,990' '₹650' '₹3,100' '₹18,999' '₹69,900' '₹670'\n",
      " '₹79,990' '₹35,000' '₹54,990' '₹50,999' '₹4,500' '₹28,900' '₹449' '₹900'\n",
      " '₹1,052' '₹25,999' '₹3,500' '₹14,999' '₹51,990' '₹69,999' '₹50,000'\n",
      " '₹19,499' '₹9,999' '₹7,990' '₹8,999' '₹28,999' '₹6,990' '₹11,999'\n",
      " '₹1,800' '₹7,999' '₹17,999' '₹20,999' '₹10,999' '₹8,499' '₹495' '₹16,999'\n",
      " '₹5,999' '₹20,990' '₹3,990' '₹33,999' '₹38,999' '₹26,999' '₹649' '₹171'\n",
      " '₹2,899' '₹29,990' '₹1,630' '₹13,499' '₹6,999' '₹6,499' '₹2,990' '₹2,400'\n",
      " '₹149' '₹5,299' '₹32,999' '₹39,990' '₹3,499' '₹2,599' '₹1,249' '₹9,499'\n",
      " '₹74,999' '₹4,490' '₹895' '₹237' '₹1,995' '₹315' '₹50' '₹165' '₹1,290'\n",
      " '₹2,498' '₹5,499' '₹1,350' '₹1,295' '₹761' '₹2,500' '₹180' '₹225'\n",
      " '₹4,499' '₹550' '₹3,490' '₹250' '₹2,800' '₹404' '₹160' '₹3,000' '₹861'\n",
      " '₹2,495' '₹13,750' '₹59' '₹3,299' '₹375' '₹440' '₹2,000' '₹2,900' '₹100'\n",
      " '₹1,795' '₹220' '₹1,650' '₹2,198' '₹4,100' '₹1,190' '₹99' '₹3,495' '₹720'\n",
      " '₹590' '₹7,350' '₹2,595' '₹2,490' '₹4,990' '₹75' '₹2,699' '₹5,734'\n",
      " '₹1,390' '₹3,295' '₹2,911' '₹175' '₹3,250' '₹2,295' '₹450' '₹1,109'\n",
      " '₹1,929' '₹400' '₹120' '₹2,799' '₹210' '₹2,890' '₹4,700' '₹4,332.96'\n",
      " '₹990' '₹5,490' '₹2,790' '₹1,645' '₹310' '₹4,199' '₹4,000' '₹200' '₹230'\n",
      " '₹2,796' '₹723' '₹12,499' '₹320' '₹3,875' '₹19,110' '₹150' '₹775'\n",
      " '₹32,000' '₹1,300' '₹300' '₹535' '₹7,005' '₹2,895' '₹3,195' '₹6,355'\n",
      " '₹7,500' '₹39' '₹37,999' '₹1,990' '₹1,949' '₹1,547' '₹1,150' '₹1,090'\n",
      " '₹3,599' '₹420' '₹9,625' '₹6,100' '₹59,890' '₹1,245' '₹1,695' '₹1,549'\n",
      " '₹1,445' '₹3,193' '₹1,345' '₹6,190' '₹13,999' '₹2,995' '₹5,890' '₹13,150'\n",
      " '₹785' '₹3,210' '₹1,595' '₹3,645' '₹7,950' '₹1,745' '₹1,545' '₹5,000'\n",
      " '₹3,945' '₹2,099' '₹5,295' '₹3,595' '₹1,129' '₹5,795' '₹875' '₹15,270'\n",
      " '₹4,195' '₹1,989' '₹1,111' '₹10,400' '₹6,295' '₹9,650' '₹10,590' '₹89'\n",
      " '₹2,485' '₹3,279' '₹3,799' '₹7,299' '₹625' '₹1,020' '₹8,990' '₹1,639'\n",
      " '₹11,595' '₹1,750' '₹2,095' '₹2,300' '₹4,295' '₹749' '₹1,775' '₹1,130'\n",
      " '₹9,455' '₹825' '₹9,995' '₹6,000' '₹5,550' '₹4,590' '₹4,400' '₹5,190'\n",
      " '₹940' '₹79' '₹14,290' '₹1,950' '₹3,190' '₹2,660' '₹59,900' '₹6,375'\n",
      " '₹350' '₹8,500' '₹1,560' '₹6,500' '₹7,795' '₹5,995' '₹2,349' '₹4,775'\n",
      " '₹1,230' '₹5,156' '₹19,825' '₹1,920' '₹16,000' '₹11,995' '₹1,690'\n",
      " '₹1,790' '₹8,995' '₹239' '₹4,290' '₹640' '₹3,790' '₹4,560' '₹2,600'\n",
      " '₹3,300' '₹23,559' '₹2,545' '₹5,500' '₹12,150' '₹4,995' '₹7,506'\n",
      " '₹18,000' '₹1,850' '₹3,995' '₹2,695' '₹2,290' '₹3,099' '₹1,075' '₹7,290'\n",
      " '₹3,398' '₹1,620' '₹4,495' '₹980' '₹11,500' '₹3,550' '₹1,975' '₹4,600'\n",
      " '₹10,295' '₹2,380' '₹8,820' '₹4,200' '₹1,282' '₹11,850' '₹20,049'\n",
      " '₹24,850' '₹16,490' '₹975' '₹635' '₹3,390' '₹1,010' '₹10,900' '₹4,005'\n",
      " '₹4,650' '₹24,500' '₹6,070' '₹6,700' '₹970' '₹23,999' '₹850' '₹7,445'\n",
      " '₹1,395' '₹4,330' '₹12,500' '₹2,385' '₹4,890' '₹3,899' '₹16,899'\n",
      " '₹75,990' '₹747' '₹11,990' '₹4,849' '₹510' '₹2,550' '₹8,478' '₹3,895'\n",
      " '₹5,495' '₹3,199' '₹7,776' '₹2,590' '₹6,299' '₹4,799' '₹5,799' '₹7,200'\n",
      " '₹389' '₹13,049' '₹3,890' '₹260' '₹8,073' '₹2,360' '₹11,495' '₹4,780'\n",
      " '₹10,995' '₹1,440' '₹3,045' '₹3,290' '₹3,098' '₹919' '₹3,080' '₹1,890'\n",
      " '₹3,690']\n",
      "discount_percentage\n",
      "['64%' '43%' '90%' '53%' '61%' '85%' '65%' '23%' '50%' '33%' '55%' '63%'\n",
      " '69%' '60%' '13%' '44%' '38%' '39%' '46%' '41%' '70%' '42%' '72%' '25%'\n",
      " '51%' '73%' '0%' '80%' '28%' '67%' '58%' '35%' '45%' '62%' '54%' '27%'\n",
      " '77%' '56%' '78%' '31%' '86%' '47%' '37%' '75%' '32%' '68%' '66%' '22%'\n",
      " '57%' '17%' '52%' '88%' '20%' '59%' '40%' '26%' '29%' '83%' '71%' '15%'\n",
      " '76%' '48%' '82%' '36%' '89%' '87%' '24%' '34%' '11%' '91%' '7%' '19%'\n",
      " '79%' '21%' '81%' '18%' '49%' '30%' '84%' '10%' '6%' '14%' '74%' '4%'\n",
      " '5%' '16%' '8%' '2%' '94%' '12%' '3%' '9%']\n",
      "rating\n",
      "['4.2' '4.0' '3.9' '4.1' '4.3' '4.4' '4.5' '3.7' '3.3' '3.6' '3.4' '3.8'\n",
      " '3.5' '4.6' '3.2' '5.0' '4.7' '3.0' '2.8' '4' '3.1' '4.8' '2.3' '|' '2'\n",
      " '3' '2.6' '2.9']\n",
      "rating_count\n",
      "['24,269' '43,994' '7,928' ... '468' '8,031' '6,987']\n",
      "about_product\n",
      "[\"High Compatibility : Compatible With iPhone 12, 11, X/XsMax/Xr ,iPhone 8/8 Plus,iPhone 7/7 Plus,iPhone 6s/6s Plus,iPhone 6/6 Plus,iPhone 5/5s/5c/se,iPad Pro,iPad Air 1/2,iPad mini 1/2/3,iPod nano7,iPod touch and more apple devices.|Fast Charge&Data Sync : It can charge and sync simultaneously at a rapid speed, Compatible with any charging adaptor, multi-port charging station or power bank.|Durability : Durable nylon braided design with premium aluminum housing and toughened nylon fiber wound tightly around the cord lending it superior durability and adding a bit to its flexibility.|High Security Level : It is designed to fully protect your device from damaging excessive current.Copper core thick+Multilayer shielding, Anti-interference, Protective circuit equipment.|WARRANTY: 12 months warranty and friendly customer services, ensures the long-time enjoyment of your purchase. If you meet any question or problem, please don't hesitate to contact us.\"\n",
      " 'Compatible with all Type C enabled devices, be it an android smartphone (Mi, Samsung, Oppo, Vivo, Realme, OnePlus, etc), tablet, laptop (Macbook, Chromebook, etc)|Supports Quick Charging (2.0/3.0)|Unbreakable – Made of special braided outer with rugged interior bindings, it is ultra-durable cable that won’t be affected by daily rough usage|Ideal Length – It has ideal length of 1.5 meters which is neither too short like your typical 1meter cable or too long like a 2meters cable|Supports maximum 3A fast charging and 480 Mbps data transfer speed|6 months manufacturer warranty from the date of purchase'\n",
      " \"【 Fast Charger& Data Sync】-With built-in safety proctections and four-core copper wires promote maximum signal quality and strength and enhance charging & data transfer speed with up to 480 mb/s transferring speed.|【 Compatibility】-Compatible with iPhone 13, 12,11, X, 8, 7, 6, 5, iPad Air, Pro, Mini & iOS devices.|【 Sturdy & Durable】-The jacket and enforced connector made of TPE and premium copper, are resistant to repeatedly bending and coiling.|【 Ultra High Quality】: According to the experimental results, the fishbone design can accept at least 20,000 bending and insertion tests for extra protection and durability. Upgraded 3D aluminum connector and exclusive laser welding technology, which to ensure the metal part won't break and also have a tighter connection which fits well even with a protective case on and will never loose connection.|【 Good After Sales Service】-Our friendly and reliable customer service will respond to you within 24 hours ! you can purchase with confidence,and every sale includes a 365-day worry-free Service to prove the importance we set on quality.\"\n",
      " ...\n",
      " 'International design and styling|Two heat settings 1000 W and 2000 W. Rated Voltage : 230 V|Adjustable thermostat for desirable temperature|Fan forced hot air circulation|Cool touch housing with built in handle|Two way installation- vertical and horizontal|Heater in winter, personal fan in summer'\n",
      " 'Fan sweep area: 230 MM ; Noise level: (40 - 45) dB; Fan body dimension (Length x Width x Depth): 290MM x 290MM x 200MM|With bird guard to protect the fan in running condition, Air flow rate: 510 cmh , Speed: 1350 RPM , Sweep size: 230 mm , Guard: 29 Spokes. Rated frequency : 50 Hz. Pull cord : No|Powder coated metallic finish, Adjustable upward and downward tilt mechanism: No|Sturdy steel bird guard with specially designed metal blade|For any functional defect, please reach out to customer care team @ Email: customercare@h'\n",
      " 'Brand-Borosil, Specification â€“ 23V ~ 5Hz;1 W Power for Faster Grilling|Makes 2 Sandwiches in minutes;Stainless Steel Mirror Finish Body; Easy to use;Easy to clean coated plates|Auto-lock latch;Larger deep ribbed grill plates for Krisp grilling|Rubber feet to avoid slipping on Countertop;Indicator Display.|Material Type: Plastic|Suitable for gifting on Diwali and other special occasions.']\n",
      "user_id\n",
      "['AG3D6O4STAQKAY2UVGEUV46KN35Q,AHMY5CWJMMK5BJRBBSNLYT3ONILA,AHCTC6ULH4XB6YHDY6PCH2R772LQ,AGYHHIERNXKA6P5T7CZLXKVPT7IQ,AG4OGOFWXJZTQ2HKYIOCOY3KXF2Q,AENGU523SXMOS7JPDTW52PNNVWGQ,AEQJHCVTNINBS4FKTBGQRQTGTE5Q,AFC3FFC5PKFF5PMA52S3VCHOZ5FQ'\n",
      " 'AECPFYFQVRUWC3KGNLJIOREFP5LQ,AGYYVPDD7YG7FYNBXNGXZJT525AQ,AHONIZU3ICIEHQIGQ6R2VFRSBXOQ,AFPHD2CRPDZMWMBL7WXRSVYWS5JA,AEZ346GX3HJ4O4XNRPHCNHXQURMQ,AEPSWFPNECKO34PUC7I56ITGXR6Q,AHWVEHR5DYLVFTO2KF3IZATFQSWQ,AH4QT33M55677I7ISQOAKEQWACYQ'\n",
      " 'AGU3BBQ2V2DDAMOAKGFAWDDQ6QHA,AESFLDV2PT363T2AQLWQOWZ4N3OA,AHTPQRIMGUD4BYR5YIHBH3CCGEFQ,AEUVWXYP5LT7PZLLZENEO2NODPBQ,AHC7MPW55DOO6WNCOQVA2VHOD26A,AFDI6FRPFBTNBG7BAEB7JDJSMKDQ,AFQKCEEEKXCOHTDG4WUN3XPPHJQQ,AHKUUFNMBZIDLSSPA4FEHIO2EC7Q'\n",
      " ...\n",
      " 'AGVPWCMAHYQWJOQKMUJN4DW3KM5Q,AF4Q3E66MY4SR7YQZSWBBRU5XQKQ,AEM2ZDSQE4QZIGTCTE4HSNZOS7DQ,AEHMIAQFYXW3CY6Z37ABRXSOJRPA,AHJCYSNMFLZM7CA4FGDPU7A4UHYQ,AEQTWNQ6GKTOSJO3ZEPHRTH56VCA,AHIHPBLP6PPV66Y3AWOSYFBVZPFA,AGHBKUHIWVOPUQYFRA6PXIIC6R5Q'\n",
      " 'AF2JQCLSCY3QJATWUNNHUSVUPNQQ,AFDMLUXC5LS5RXDJSJJRHNBURIVQ,AHMWJ32LQF2YEADFPUML4EKXUC3Q,AFXERFNWKFFWECCPZJBRP2N23XJA,AG74HALEHHRAVFNXFHBM75RWZD6Q,AEDOS7O5DUVDYA7EHU6VERPRAFMA,AFKWDCNGBBYBDQBKMFJUVJYY77XQ,AGQCHAIK5FZZOA67FTG7HET7VVJQ'\n",
      " 'AFGW5PT3R6ZAVQR4Y5MWVAKBZAYA,AG7QNJ2SCS5VS5VYYBNV4HDSIJ4Q,AFUDGN5MEXLKUULNTM7Y2G5P7TYA,AHXCDNSXAESERITAFELQABFVNLCA,AGRZD6CHLCUNOLMMIMIHUCG7PIFA,AFQZVGSOSOJHKFQQMCEI4725QEKQ,AEALVGXXIP46OZVXKRUXSDWZJMEA,AGEFL3AY7YXEFZA4ZJU3LP7K7OJQ']\n",
      "user_name\n",
      "['Manav,Adarsh gupta,Sundeep,S.Sayeed Ahmed,jaspreet singh,Khaja moin,Anand,S.ARUMUGAM'\n",
      " 'ArdKn,Nirbhay kumar,Sagar Viswanathan,Asp,Placeholder,BharanI,sonia,Niam'\n",
      " 'Kunal,Himanshu,viswanath,sai niharka,saqib malik,Aashiq,Ramu Challa,Sanjay gupta'\n",
      " ...\n",
      " 'Nehal Desai,Danish Parwez,Amazon Customer,Amazon Customer,Pankaj Kumar Singh,Pattabhi udaya kumar,Sandip Bhargava,BATTU SURESHKUMAR'\n",
      " 'Shubham Dubey,E.GURUBARAN,Mayank S.,eusuf khan,ASHISHGAJBE,hirabhai thakarda,khageswar,A.Ramu'\n",
      " 'Rajib,Ajay B,Vikas Kahol,PARDEEP,Anindya Pramanik,Vikas Singh,Harshada Pimple,Saw a.']\n",
      "review_id\n",
      "['R3HXWT0LRP0NMF,R2AJM3LFTLZHFO,R6AQJGUP6P86,R1KD19VHEDV0OR,R3C02RMYQMK6FC,R39GQRVBUZBWGY,R2K9EDOE15QIRJ,R3OI7YT648TL8I'\n",
      " 'RGIQEG07R9HS2,R1SMWZQ86XIN8U,R2J3Y1WL29GWDE,RYGGS0M09S3KY,R17KQRUTAN5DKS,R3AAQGS6HP2QUK,R1HDNOG6TO2CCA,R3PHKXYA5AFEOU'\n",
      " 'R3J3EQQ9TZI5ZJ,R3E7WBGK7ID0KV,RWU79XKQ6I1QF,R25X4TBMPY91LX,R27OK7G99VK0TR,R207CYDCHJJTCJ,R3PCU8XMU173BT,R1IMONDOWRNU5V'\n",
      " ...\n",
      " 'R1TLRJVW4STY5I,R2O455KRN493R1,R3Q5MVGBRIAS2G,RDUWK5R7MYO0F,R2PLXU82PLNOS,R3OGEQWZH4DYFA,R5I0WH8YY7K9V,R1MC4M4R6ZDUBE'\n",
      " 'R39Q2Y79MM9SWK,R3079BG1NIH6MB,R29A31ZELTZNJM,RQ7XAO5UTJQZT,R223OFAZGIK4X7,R27WMZV25K3TN1,R302QB4GVL3F8T,RBZRSE5J6HCF3'\n",
      " 'R20RBRZ0WEUJT9,ROKIFK9R2ISSE,R30EEG2FNJSN5I,R2ZC03S4QXOW4Y,R186H8YW34BQD5,R10NC3D321N59G,REKF75G4SOAOX,R2G0ZT4JQX322I']\n",
      "review_title\n",
      "['Satisfied,Charging is really fast,Value for money,Product review,Good quality,Good product,Good Product,As of now seems good'\n",
      " 'A Good Braided Cable for Your Type C Device,Good quality product from ambrane,Super cable,As,Good quality,Good product,its good,Good quality for the price but one issue with my unit'\n",
      " \"Good speed for earlier versions,Good Product,Working good,Good for the price,Good,Worth for money,Working nice,it's a really nice product\"\n",
      " ...\n",
      " 'very good,Work but front melt after 2 month,Good one,It is durable,Review.,DEFECTIVE PRODUCT,Nice product,Nice product'\n",
      " 'Fan Speed is slow,Good quality,Good product,good,Old is gold.,Good product,Nice product,Super 💕'\n",
      " 'Works perfect,Ok good product,Nice Product. Recommend it. But cleaning its exterior is cumbersome.,Excellent product✌,A good product for household use,मुझे बिल्कुल भी मजा नहीं आया और वापस कर दिया।,Best product,Good']\n",
      "review_content\n",
      "['Looks durable Charging is fine tooNo complains,Charging is really fast, good product.,Till now satisfied with the quality.,This is a good product . The charging speed is slower than the original iPhone cable,Good quality, would recommend,https://m.media-amazon.com/images/W/WEBP_402378-T1/images/I/81---F1ZgHL._SY88.jpg,Product had worked well till date and was having no issue.Cable is also sturdy enough...Have asked for replacement and company is doing the same...,Value for money'\n",
      " \"I ordered this cable to connect my phone to Android Auto of car. The cable is really strong and the connection ports are really well made. I already has a Micro USB cable from Ambrane and it's still in good shape. I connected my phone to the car using the cable and it got connected well and no issues. I also connected it to the charging port and yes it has Fast Charging support.,It quality is good at this price and the main thing is that i didn't ever thought that this cable will be so long it's good one and charging power is too good and also supports fast charging,Value for money, with extra length👍,Good, working fine,Product quality is good,Good,very good,Bought for my daughter's old phone.Brand new cable it was not charging, I already repacked and requested for replacement.I checked again, and there was some green colour paste/fungus inside the micro USB connector. I cleaned with an alcoholic and starts working again.Checked the ampere of charging speed got around 1400ma-1500ma - not bad, came with braided 1.5m long cable, pretty impressive for the price.Can't blame the manufacturer.But quality issues by the distributor, they might have stored in very humid place.\"\n",
      " \"Not quite durable and sturdy,https://m.media-amazon.com/images/W/WEBP_402378-T1/images/I/71rIggrbUCL._SY88.jpg,Working good,https://m.media-amazon.com/images/W/WEBP_402378-T1/images/I/61bKp9YO6wL._SY88.jpg,Product,Very nice product,Working well,It's a really nice product\"\n",
      " ...\n",
      " \"plastic but cool body ,u have to find sturdy surface to put it vertically , on plastic stool it vibrate in vertical position ,u need bigger plug point for it ,very fast and effective heating ,it through cold air too ,price is bit high but it's bajaj so good.very good buy.,Using after only 2 months, the front part of this bajaj rx10, room heater melt starting.,Useful in winter, box gets heated which may cause damage but so far so good.,The body flaps look very delicate and did not align well when received. I had to fix them,This Heater is good for a room with 10X10 ft dimension. The best part is 2 years warranty from Bajaj. Personally recommend you to purchase this product to stay stress free.,RECEIVED DEFECTIVE PRODUCT FROM AMAZON SELLER M/S ROYAL ELECTRONICS INDIA.I AM SURPRISED ,HOW AMAZON IS ALLOWING THIS TYPE OF SELLERS ON THEIR PLATFORM.,Nice product,Nice product\"\n",
      " 'I have installed this in my kitchen working fine is just fan speed is very slow could have been faster but not it is slow thats the reason this exhaust smoke very slow but it does exhaust.,Good quality,https://m.media-amazon.com/images/W/WEBP_402378-T1/images/I/61izko3RxDL._SY88.jpg,speed could have been little bit more,,Beat performance this product.,Connecting wire is too short,Super'\n",
      " 'It does it job perfectly..only issue is temp control is not perfect . U need to keep checking the browness of sandwich untill it gets upto ur choise,Product is good, but the control knob is to be be modified cause after the cooking process completes the control knob should be return back to initial starting place. If not that process timer should be given basically. So think well what happens whether didn\\'t had atleast one option.Not a indicator option.,It is a nice product, easy to use. The grilling function is also wonderful. But the exterior metallic finish picks up finger marks and other spots which tend to become permanent. Cleaning them is almost impossible.,Very good product,This is a pretty powerful sandwich maker, for home use. The product looks good, has a sturdy build, and heats up quick. The sandwiches are made pretty quickly, without burning.,बोरोसिल ब्रांड का यह \"सेंडविच मेकर\" देखने में तो अच्छा लगता है मगर इसकी बिल्ड क्वालिटी अच्छी नहीं है।  यह लगभग Rs 3000 के आसपास आता है।  इस प्रकार की बिल्ड क्वालिटी ₹2000 के करीब मिल जाती है तो कोई क्यों ₹1000 अधिक भुगतान करें।  पहले मैंने इसे review देखने के बाद ऑर्डर किया था लेकिन जब घर पर डिलीवरी होने के पश्चात  unboxing करके देखा तो इसकी बिल्ड क्वालिटी कुछ खास नहीं लगी इसलिए अपने पैसे बचाने के लिए मैंने इसे वापस भेज दिया। मैंने इसकी पैकेजिंग, मैनुअल और सैंडविच मेकर की फोटोग्राफ आप सभी से शेयर की है।  आप स्वयं देख के अनुमान लगा सकते हैं।,Recommend work as expected,Its easy tp use']\n",
      "img_link\n",
      "['https://m.media-amazon.com/images/W/WEBP_402378-T1/images/I/51UsScvHQNL._SX300_SY300_QL70_FMwebp_.jpg'\n",
      " 'https://m.media-amazon.com/images/W/WEBP_402378-T2/images/I/31zOsqQOAOL._SY445_SX342_QL70_FMwebp_.jpg'\n",
      " 'https://m.media-amazon.com/images/W/WEBP_402378-T1/images/I/31IvNJZnmdL._SY445_SX342_QL70_FMwebp_.jpg'\n",
      " ...\n",
      " 'https://m.media-amazon.com/images/W/WEBP_402378-T1/images/I/41qmt2a159L._SX300_SY300_QL70_FMwebp_.jpg'\n",
      " 'https://m.media-amazon.com/images/W/WEBP_402378-T1/images/I/51pNg1Zy4+L._SX300_SY300_.jpg'\n",
      " 'https://m.media-amazon.com/images/W/WEBP_402378-T1/images/I/51J2Wk-+c+L._SY300_SX300_.jpg']\n",
      "product_link\n",
      "['https://www.amazon.in/Wayona-Braided-WN3LG1-Syncing-Charging/dp/B07JW9H4J1/ref=sr_1_1?qid=1672909124&s=electronics&sr=1-1'\n",
      " 'https://www.amazon.in/Ambrane-Unbreakable-Charging-Braided-Cable/dp/B098NS6PVG/ref=sr_1_2?qid=1672909124&s=electronics&sr=1-2'\n",
      " 'https://www.amazon.in/Sounce-iPhone-Charging-Compatible-Devices/dp/B096MSW6CT/ref=sr_1_3?qid=1672909124&s=electronics&sr=1-3'\n",
      " ...\n",
      " 'https://www.amazon.in/Bajaj-RX-10-2000-Watt-Convector/dp/B009P2LIL4/ref=sr_1_504?qid=1672923617&s=kitchen&sr=1-504'\n",
      " 'https://www.amazon.in/Havells-Ventilair-230mm-Exhaust-Grey/dp/B00J5DYCCA/ref=sr_1_505?qid=1672923617&s=kitchen&sr=1-505'\n",
      " 'https://www.amazon.in/Borosil-Jumbo-1000-Watt-Grill-Sandwich/dp/B01486F4G6/ref=sr_1_506?qid=1672923617&s=kitchen&sr=1-506']\n"
     ]
    }
   ],
   "source": [
    "#printing unique values for all columns in the dataframe\n",
    "for col in df.columns:\n",
    "    print(col)\n",
    "    print(df[f'{col}'].unique())"
   ]
  },
  {
   "cell_type": "code",
   "execution_count": 998,
   "metadata": {},
   "outputs": [
    {
     "data": {
      "text/html": [
       "<div>\n",
       "<style scoped>\n",
       "    .dataframe tbody tr th:only-of-type {\n",
       "        vertical-align: middle;\n",
       "    }\n",
       "\n",
       "    .dataframe tbody tr th {\n",
       "        vertical-align: top;\n",
       "    }\n",
       "\n",
       "    .dataframe thead th {\n",
       "        text-align: right;\n",
       "    }\n",
       "</style>\n",
       "<table border=\"1\" class=\"dataframe\">\n",
       "  <thead>\n",
       "    <tr style=\"text-align: right;\">\n",
       "      <th></th>\n",
       "      <th>product_id</th>\n",
       "      <th>product_name</th>\n",
       "      <th>sub_category</th>\n",
       "      <th>discounted_price</th>\n",
       "      <th>actual_price</th>\n",
       "      <th>discount_percentage</th>\n",
       "      <th>rating</th>\n",
       "      <th>rating_count</th>\n",
       "      <th>about_product</th>\n",
       "      <th>user_id</th>\n",
       "      <th>user_name</th>\n",
       "      <th>review_id</th>\n",
       "      <th>review_title</th>\n",
       "      <th>review_content</th>\n",
       "      <th>img_link</th>\n",
       "      <th>product_link</th>\n",
       "    </tr>\n",
       "  </thead>\n",
       "  <tbody>\n",
       "    <tr>\n",
       "      <th>0</th>\n",
       "      <td>B07JW9H4J1</td>\n",
       "      <td>Wayona Nylon Braided USB to Lightning Fast Cha...</td>\n",
       "      <td>Computers&amp;Accessories|Accessories&amp;Peripherals|...</td>\n",
       "      <td>399.0</td>\n",
       "      <td>1099.0</td>\n",
       "      <td>64</td>\n",
       "      <td>4.2</td>\n",
       "      <td>24269.0</td>\n",
       "      <td>High Compatibility : Compatible With iPhone 12...</td>\n",
       "      <td>AG3D6O4STAQKAY2UVGEUV46KN35Q,AHMY5CWJMMK5BJRBB...</td>\n",
       "      <td>Manav,Adarsh gupta,Sundeep,S.Sayeed Ahmed,jasp...</td>\n",
       "      <td>R3HXWT0LRP0NMF,R2AJM3LFTLZHFO,R6AQJGUP6P86,R1K...</td>\n",
       "      <td>Satisfied,Charging is really fast,Value for mo...</td>\n",
       "      <td>Looks durable Charging is fine tooNo complains...</td>\n",
       "      <td>https://m.media-amazon.com/images/W/WEBP_40237...</td>\n",
       "      <td>https://www.amazon.in/Wayona-Braided-WN3LG1-Sy...</td>\n",
       "    </tr>\n",
       "    <tr>\n",
       "      <th>1</th>\n",
       "      <td>B098NS6PVG</td>\n",
       "      <td>Ambrane Unbreakable 60W / 3A Fast Charging 1.5...</td>\n",
       "      <td>Computers&amp;Accessories|Accessories&amp;Peripherals|...</td>\n",
       "      <td>199.0</td>\n",
       "      <td>349.0</td>\n",
       "      <td>43</td>\n",
       "      <td>4.0</td>\n",
       "      <td>43994.0</td>\n",
       "      <td>Compatible with all Type C enabled devices, be...</td>\n",
       "      <td>AECPFYFQVRUWC3KGNLJIOREFP5LQ,AGYYVPDD7YG7FYNBX...</td>\n",
       "      <td>ArdKn,Nirbhay kumar,Sagar Viswanathan,Asp,Plac...</td>\n",
       "      <td>RGIQEG07R9HS2,R1SMWZQ86XIN8U,R2J3Y1WL29GWDE,RY...</td>\n",
       "      <td>A Good Braided Cable for Your Type C Device,Go...</td>\n",
       "      <td>I ordered this cable to connect my phone to An...</td>\n",
       "      <td>https://m.media-amazon.com/images/W/WEBP_40237...</td>\n",
       "      <td>https://www.amazon.in/Ambrane-Unbreakable-Char...</td>\n",
       "    </tr>\n",
       "    <tr>\n",
       "      <th>2</th>\n",
       "      <td>B096MSW6CT</td>\n",
       "      <td>Sounce Fast Phone Charging Cable &amp; Data Sync U...</td>\n",
       "      <td>Computers&amp;Accessories|Accessories&amp;Peripherals|...</td>\n",
       "      <td>199.0</td>\n",
       "      <td>1899.0</td>\n",
       "      <td>90</td>\n",
       "      <td>3.9</td>\n",
       "      <td>7928.0</td>\n",
       "      <td>【 Fast Charger&amp; Data Sync】-With built-in safet...</td>\n",
       "      <td>AGU3BBQ2V2DDAMOAKGFAWDDQ6QHA,AESFLDV2PT363T2AQ...</td>\n",
       "      <td>Kunal,Himanshu,viswanath,sai niharka,saqib mal...</td>\n",
       "      <td>R3J3EQQ9TZI5ZJ,R3E7WBGK7ID0KV,RWU79XKQ6I1QF,R2...</td>\n",
       "      <td>Good speed for earlier versions,Good Product,W...</td>\n",
       "      <td>Not quite durable and sturdy,https://m.media-a...</td>\n",
       "      <td>https://m.media-amazon.com/images/W/WEBP_40237...</td>\n",
       "      <td>https://www.amazon.in/Sounce-iPhone-Charging-C...</td>\n",
       "    </tr>\n",
       "    <tr>\n",
       "      <th>3</th>\n",
       "      <td>B08HDJ86NZ</td>\n",
       "      <td>boAt Deuce USB 300 2 in 1 Type-C &amp; Micro USB S...</td>\n",
       "      <td>Computers&amp;Accessories|Accessories&amp;Peripherals|...</td>\n",
       "      <td>329.0</td>\n",
       "      <td>699.0</td>\n",
       "      <td>53</td>\n",
       "      <td>4.2</td>\n",
       "      <td>94363.0</td>\n",
       "      <td>The boAt Deuce USB 300 2 in 1 cable is compati...</td>\n",
       "      <td>AEWAZDZZJLQUYVOVGBEUKSLXHQ5A,AG5HTSFRRE6NL3M5S...</td>\n",
       "      <td>Omkar dhale,JD,HEMALATHA,Ajwadh a.,amar singh ...</td>\n",
       "      <td>R3EEUZKKK9J36I,R3HJVYCLYOY554,REDECAZ7AMPQC,R1...</td>\n",
       "      <td>Good product,Good one,Nice,Really nice product...</td>\n",
       "      <td>Good product,long wire,Charges good,Nice,I bou...</td>\n",
       "      <td>https://m.media-amazon.com/images/I/41V5FtEWPk...</td>\n",
       "      <td>https://www.amazon.in/Deuce-300-Resistant-Tang...</td>\n",
       "    </tr>\n",
       "    <tr>\n",
       "      <th>4</th>\n",
       "      <td>B08CF3B7N1</td>\n",
       "      <td>Portronics Konnect L 1.2M Fast Charging 3A 8 P...</td>\n",
       "      <td>Computers&amp;Accessories|Accessories&amp;Peripherals|...</td>\n",
       "      <td>154.0</td>\n",
       "      <td>399.0</td>\n",
       "      <td>61</td>\n",
       "      <td>4.2</td>\n",
       "      <td>16905.0</td>\n",
       "      <td>[CHARGE &amp; SYNC FUNCTION]- This cable comes wit...</td>\n",
       "      <td>AE3Q6KSUK5P75D5HFYHCRAOLODSA,AFUGIFH5ZAFXRDSZH...</td>\n",
       "      <td>rahuls6099,Swasat Borah,Ajay Wadke,Pranali,RVK...</td>\n",
       "      <td>R1BP4L2HH9TFUP,R16PVJEXKV6QZS,R2UPDB81N66T4P,R...</td>\n",
       "      <td>As good as original,Decent,Good one for second...</td>\n",
       "      <td>Bought this instead of original apple, does th...</td>\n",
       "      <td>https://m.media-amazon.com/images/W/WEBP_40237...</td>\n",
       "      <td>https://www.amazon.in/Portronics-Konnect-POR-1...</td>\n",
       "    </tr>\n",
       "  </tbody>\n",
       "</table>\n",
       "</div>"
      ],
      "text/plain": [
       "   product_id                                       product_name  \\\n",
       "0  B07JW9H4J1  Wayona Nylon Braided USB to Lightning Fast Cha...   \n",
       "1  B098NS6PVG  Ambrane Unbreakable 60W / 3A Fast Charging 1.5...   \n",
       "2  B096MSW6CT  Sounce Fast Phone Charging Cable & Data Sync U...   \n",
       "3  B08HDJ86NZ  boAt Deuce USB 300 2 in 1 Type-C & Micro USB S...   \n",
       "4  B08CF3B7N1  Portronics Konnect L 1.2M Fast Charging 3A 8 P...   \n",
       "\n",
       "                                        sub_category  discounted_price  \\\n",
       "0  Computers&Accessories|Accessories&Peripherals|...             399.0   \n",
       "1  Computers&Accessories|Accessories&Peripherals|...             199.0   \n",
       "2  Computers&Accessories|Accessories&Peripherals|...             199.0   \n",
       "3  Computers&Accessories|Accessories&Peripherals|...             329.0   \n",
       "4  Computers&Accessories|Accessories&Peripherals|...             154.0   \n",
       "\n",
       "   actual_price  discount_percentage  rating  rating_count  \\\n",
       "0        1099.0                   64     4.2       24269.0   \n",
       "1         349.0                   43     4.0       43994.0   \n",
       "2        1899.0                   90     3.9        7928.0   \n",
       "3         699.0                   53     4.2       94363.0   \n",
       "4         399.0                   61     4.2       16905.0   \n",
       "\n",
       "                                       about_product  \\\n",
       "0  High Compatibility : Compatible With iPhone 12...   \n",
       "1  Compatible with all Type C enabled devices, be...   \n",
       "2  【 Fast Charger& Data Sync】-With built-in safet...   \n",
       "3  The boAt Deuce USB 300 2 in 1 cable is compati...   \n",
       "4  [CHARGE & SYNC FUNCTION]- This cable comes wit...   \n",
       "\n",
       "                                             user_id  \\\n",
       "0  AG3D6O4STAQKAY2UVGEUV46KN35Q,AHMY5CWJMMK5BJRBB...   \n",
       "1  AECPFYFQVRUWC3KGNLJIOREFP5LQ,AGYYVPDD7YG7FYNBX...   \n",
       "2  AGU3BBQ2V2DDAMOAKGFAWDDQ6QHA,AESFLDV2PT363T2AQ...   \n",
       "3  AEWAZDZZJLQUYVOVGBEUKSLXHQ5A,AG5HTSFRRE6NL3M5S...   \n",
       "4  AE3Q6KSUK5P75D5HFYHCRAOLODSA,AFUGIFH5ZAFXRDSZH...   \n",
       "\n",
       "                                           user_name  \\\n",
       "0  Manav,Adarsh gupta,Sundeep,S.Sayeed Ahmed,jasp...   \n",
       "1  ArdKn,Nirbhay kumar,Sagar Viswanathan,Asp,Plac...   \n",
       "2  Kunal,Himanshu,viswanath,sai niharka,saqib mal...   \n",
       "3  Omkar dhale,JD,HEMALATHA,Ajwadh a.,amar singh ...   \n",
       "4  rahuls6099,Swasat Borah,Ajay Wadke,Pranali,RVK...   \n",
       "\n",
       "                                           review_id  \\\n",
       "0  R3HXWT0LRP0NMF,R2AJM3LFTLZHFO,R6AQJGUP6P86,R1K...   \n",
       "1  RGIQEG07R9HS2,R1SMWZQ86XIN8U,R2J3Y1WL29GWDE,RY...   \n",
       "2  R3J3EQQ9TZI5ZJ,R3E7WBGK7ID0KV,RWU79XKQ6I1QF,R2...   \n",
       "3  R3EEUZKKK9J36I,R3HJVYCLYOY554,REDECAZ7AMPQC,R1...   \n",
       "4  R1BP4L2HH9TFUP,R16PVJEXKV6QZS,R2UPDB81N66T4P,R...   \n",
       "\n",
       "                                        review_title  \\\n",
       "0  Satisfied,Charging is really fast,Value for mo...   \n",
       "1  A Good Braided Cable for Your Type C Device,Go...   \n",
       "2  Good speed for earlier versions,Good Product,W...   \n",
       "3  Good product,Good one,Nice,Really nice product...   \n",
       "4  As good as original,Decent,Good one for second...   \n",
       "\n",
       "                                      review_content  \\\n",
       "0  Looks durable Charging is fine tooNo complains...   \n",
       "1  I ordered this cable to connect my phone to An...   \n",
       "2  Not quite durable and sturdy,https://m.media-a...   \n",
       "3  Good product,long wire,Charges good,Nice,I bou...   \n",
       "4  Bought this instead of original apple, does th...   \n",
       "\n",
       "                                            img_link  \\\n",
       "0  https://m.media-amazon.com/images/W/WEBP_40237...   \n",
       "1  https://m.media-amazon.com/images/W/WEBP_40237...   \n",
       "2  https://m.media-amazon.com/images/W/WEBP_40237...   \n",
       "3  https://m.media-amazon.com/images/I/41V5FtEWPk...   \n",
       "4  https://m.media-amazon.com/images/W/WEBP_40237...   \n",
       "\n",
       "                                        product_link  \n",
       "0  https://www.amazon.in/Wayona-Braided-WN3LG1-Sy...  \n",
       "1  https://www.amazon.in/Ambrane-Unbreakable-Char...  \n",
       "2  https://www.amazon.in/Sounce-iPhone-Charging-C...  \n",
       "3  https://www.amazon.in/Deuce-300-Resistant-Tang...  \n",
       "4  https://www.amazon.in/Portronics-Konnect-POR-1...  "
      ]
     },
     "execution_count": 998,
     "metadata": {},
     "output_type": "execute_result"
    }
   ],
   "source": [
    "#Changing data type\n",
    "#Remove the currency symbol \"₹\", \", and \"%\" from the columns and then convert into numeric data type and changing unsual values to na.\n",
    "\n",
    "\n",
    "df['discounted_price'] = df['discounted_price'].str.replace('₹', '').str.replace(',', '')\n",
    "df['discounted_price'] = pd.to_numeric(df['discounted_price'], errors='coerce')\n",
    "df\n",
    "\n",
    "df['actual_price'] = df['actual_price'].str.replace('₹', '').str.replace(',', '')\n",
    "df['actual_price'] = pd.to_numeric(df['actual_price'], errors='coerce')\n",
    "\n",
    "\n",
    "df['discount_percentage'] = df['discount_percentage'].str.replace('%', '')\n",
    "df['discount_percentage'] = pd.to_numeric(df['discount_percentage'], errors='coerce')\n",
    "\n",
    "\n",
    "df['rating'] = pd.to_numeric(df['rating'], errors='coerce')\n",
    "\n",
    "df['rating_count'] = df['rating_count'].str.replace(',', '')\n",
    "df['rating_count'] = pd.to_numeric(df['rating_count'], errors='coerce')\n",
    "\n",
    "#printing the first rows of the dataset after the change in data type\n",
    "df.head()\n"
   ]
  },
  {
   "cell_type": "code",
   "execution_count": 999,
   "metadata": {},
   "outputs": [
    {
     "data": {
      "text/plain": [
       "product_id             0\n",
       "product_name           0\n",
       "sub_category           0\n",
       "discounted_price       0\n",
       "actual_price           0\n",
       "discount_percentage    0\n",
       "rating                 1\n",
       "rating_count           2\n",
       "about_product          0\n",
       "user_id                0\n",
       "user_name              0\n",
       "review_id              0\n",
       "review_title           0\n",
       "review_content         0\n",
       "img_link               0\n",
       "product_link           0\n",
       "dtype: int64"
      ]
     },
     "execution_count": 999,
     "metadata": {},
     "output_type": "execute_result"
    }
   ],
   "source": [
    "#Provides the total number of null values for each column\n",
    "df.isnull().sum()"
   ]
  },
  {
   "cell_type": "code",
   "execution_count": 1000,
   "metadata": {},
   "outputs": [
    {
     "name": "stdout",
     "output_type": "stream",
     "text": [
      "<class 'pandas.core.frame.DataFrame'>\n",
      "RangeIndex: 1465 entries, 0 to 1464\n",
      "Data columns (total 16 columns):\n",
      " #   Column               Non-Null Count  Dtype  \n",
      "---  ------               --------------  -----  \n",
      " 0   product_id           1465 non-null   object \n",
      " 1   product_name         1465 non-null   object \n",
      " 2   sub_category         1465 non-null   object \n",
      " 3   discounted_price     1465 non-null   float64\n",
      " 4   actual_price         1465 non-null   float64\n",
      " 5   discount_percentage  1465 non-null   int64  \n",
      " 6   rating               1464 non-null   float64\n",
      " 7   rating_count         1463 non-null   float64\n",
      " 8   about_product        1465 non-null   object \n",
      " 9   user_id              1465 non-null   object \n",
      " 10  user_name            1465 non-null   object \n",
      " 11  review_id            1465 non-null   object \n",
      " 12  review_title         1465 non-null   object \n",
      " 13  review_content       1465 non-null   object \n",
      " 14  img_link             1465 non-null   object \n",
      " 15  product_link         1465 non-null   object \n",
      "dtypes: float64(4), int64(1), object(11)\n",
      "memory usage: 183.3+ KB\n"
     ]
    }
   ],
   "source": [
    "#Provides summary of the Dataframe, including infomation about data types\n",
    "df.info()"
   ]
  },
  {
   "cell_type": "code",
   "execution_count": 1001,
   "metadata": {},
   "outputs": [],
   "source": [
    "#dropna method is used to remove rows or columns with missing value\n",
    "df.dropna(inplace= True) \n"
   ]
  },
  {
   "cell_type": "code",
   "execution_count": 1002,
   "metadata": {},
   "outputs": [
    {
     "data": {
      "text/html": [
       "<div>\n",
       "<style scoped>\n",
       "    .dataframe tbody tr th:only-of-type {\n",
       "        vertical-align: middle;\n",
       "    }\n",
       "\n",
       "    .dataframe tbody tr th {\n",
       "        vertical-align: top;\n",
       "    }\n",
       "\n",
       "    .dataframe thead th {\n",
       "        text-align: right;\n",
       "    }\n",
       "</style>\n",
       "<table border=\"1\" class=\"dataframe\">\n",
       "  <thead>\n",
       "    <tr style=\"text-align: right;\">\n",
       "      <th></th>\n",
       "      <th>discounted_price</th>\n",
       "      <th>actual_price</th>\n",
       "      <th>discount_percentage</th>\n",
       "      <th>rating</th>\n",
       "      <th>rating_count</th>\n",
       "    </tr>\n",
       "  </thead>\n",
       "  <tbody>\n",
       "    <tr>\n",
       "      <th>count</th>\n",
       "      <td>1462.000000</td>\n",
       "      <td>1462.000000</td>\n",
       "      <td>1462.000000</td>\n",
       "      <td>1462.000000</td>\n",
       "      <td>1462.000000</td>\n",
       "    </tr>\n",
       "    <tr>\n",
       "      <th>mean</th>\n",
       "      <td>3129.981826</td>\n",
       "      <td>5453.087743</td>\n",
       "      <td>47.672367</td>\n",
       "      <td>4.096717</td>\n",
       "      <td>18307.376881</td>\n",
       "    </tr>\n",
       "    <tr>\n",
       "      <th>std</th>\n",
       "      <td>6950.548042</td>\n",
       "      <td>10884.467444</td>\n",
       "      <td>21.613905</td>\n",
       "      <td>0.289497</td>\n",
       "      <td>42766.096572</td>\n",
       "    </tr>\n",
       "    <tr>\n",
       "      <th>min</th>\n",
       "      <td>39.000000</td>\n",
       "      <td>39.000000</td>\n",
       "      <td>0.000000</td>\n",
       "      <td>2.000000</td>\n",
       "      <td>2.000000</td>\n",
       "    </tr>\n",
       "    <tr>\n",
       "      <th>25%</th>\n",
       "      <td>325.000000</td>\n",
       "      <td>800.000000</td>\n",
       "      <td>32.000000</td>\n",
       "      <td>4.000000</td>\n",
       "      <td>1191.500000</td>\n",
       "    </tr>\n",
       "    <tr>\n",
       "      <th>50%</th>\n",
       "      <td>799.000000</td>\n",
       "      <td>1670.000000</td>\n",
       "      <td>50.000000</td>\n",
       "      <td>4.100000</td>\n",
       "      <td>5179.000000</td>\n",
       "    </tr>\n",
       "    <tr>\n",
       "      <th>75%</th>\n",
       "      <td>1999.000000</td>\n",
       "      <td>4321.250000</td>\n",
       "      <td>63.000000</td>\n",
       "      <td>4.300000</td>\n",
       "      <td>17342.250000</td>\n",
       "    </tr>\n",
       "    <tr>\n",
       "      <th>max</th>\n",
       "      <td>77990.000000</td>\n",
       "      <td>139900.000000</td>\n",
       "      <td>94.000000</td>\n",
       "      <td>5.000000</td>\n",
       "      <td>426973.000000</td>\n",
       "    </tr>\n",
       "  </tbody>\n",
       "</table>\n",
       "</div>"
      ],
      "text/plain": [
       "       discounted_price   actual_price  discount_percentage       rating  \\\n",
       "count       1462.000000    1462.000000          1462.000000  1462.000000   \n",
       "mean        3129.981826    5453.087743            47.672367     4.096717   \n",
       "std         6950.548042   10884.467444            21.613905     0.289497   \n",
       "min           39.000000      39.000000             0.000000     2.000000   \n",
       "25%          325.000000     800.000000            32.000000     4.000000   \n",
       "50%          799.000000    1670.000000            50.000000     4.100000   \n",
       "75%         1999.000000    4321.250000            63.000000     4.300000   \n",
       "max        77990.000000  139900.000000            94.000000     5.000000   \n",
       "\n",
       "        rating_count  \n",
       "count    1462.000000  \n",
       "mean    18307.376881  \n",
       "std     42766.096572  \n",
       "min         2.000000  \n",
       "25%      1191.500000  \n",
       "50%      5179.000000  \n",
       "75%     17342.250000  \n",
       "max    426973.000000  "
      ]
     },
     "execution_count": 1002,
     "metadata": {},
     "output_type": "execute_result"
    }
   ],
   "source": [
    "#Provides a summary of discriptive statistics for numerical columns\n",
    "df.describe()"
   ]
  },
  {
   "cell_type": "code",
   "execution_count": 1003,
   "metadata": {},
   "outputs": [
    {
     "name": "stdout",
     "output_type": "stream",
     "text": [
      "Outliers:       product_id                                       product_name  \\\n",
      "33    B008FWZGSG  Samsung Original Type C to C Cable - 3.28 Feet...   \n",
      "138   B071VMP1Z4  LRIPL Compatible Sony Bravia LCD/led Remote Wo...   \n",
      "264   B09LQQYNZQ                           Realme Smart TV Stick 4K   \n",
      "321   B084872DQY  Mi 80 cm (32 inches) HD Ready Android Smart LE...   \n",
      "334   B0BF57RN3K  Fire-Boltt Ninja Call Pro Plus 1.83\" Smart Wat...   \n",
      "...          ...                                                ...   \n",
      "1307  B00SMFPJG0                 Kent Gold, Optima, Gold+ Spare Kit   \n",
      "1355  B00LP9RFSU  Eureka Forbes Aquasure Amrit Twin Cartridge (P...   \n",
      "1386  B07P1BR7L8  Philips HD6975/00 25 Litre Digital Oven Toaste...   \n",
      "1411  B08SJVD8QD  CARDEX Digital Kitchen Weighing Machine Multip...   \n",
      "1457  B00TI8E7BI  Philips HD9306/06 1.5-Litre Electric Kettle (M...   \n",
      "\n",
      "                                           sub_category  discounted_price  \\\n",
      "33    Computers&Accessories|Accessories&Peripherals|...             599.0   \n",
      "138   Electronics|HomeTheater,TV&Video|Accessories|R...             399.0   \n",
      "264   Electronics|HomeAudio|MediaStreamingDevices|St...            4699.0   \n",
      "321   Electronics|HomeTheater,TV&Video|Televisions|S...           14999.0   \n",
      "334         Electronics|WearableTechnology|SmartWatches            1799.0   \n",
      "...                                                 ...               ...   \n",
      "1307  Home&Kitchen|Kitchen&HomeAppliances|WaterPurif...             649.0   \n",
      "1355  Home&Kitchen|Kitchen&HomeAppliances|WaterPurif...             825.0   \n",
      "1386  Home&Kitchen|Kitchen&HomeAppliances|SmallKitch...            8599.0   \n",
      "1411  Home&Kitchen|Kitchen&HomeAppliances|SmallKitch...             379.0   \n",
      "1457  Home&Kitchen|Kitchen&HomeAppliances|SmallKitch...            2695.0   \n",
      "\n",
      "      actual_price  discount_percentage  rating  rating_count  \\\n",
      "33           599.0                    0     4.3         355.0   \n",
      "138          399.0                    0     3.9        1951.0   \n",
      "264         4699.0                    0     4.5         224.0   \n",
      "321        14999.0                    0     4.3       27508.0   \n",
      "334        19999.0                   91     4.2       13937.0   \n",
      "...            ...                  ...     ...           ...   \n",
      "1307         670.0                    3     4.1        7786.0   \n",
      "1355         825.0                    0     4.0        3246.0   \n",
      "1386        8995.0                    4     4.4        9734.0   \n",
      "1411         389.0                    3     4.2        3739.0   \n",
      "1457        2695.0                    0     4.4        2518.0   \n",
      "\n",
      "                                          about_product  \\\n",
      "33    USB Type-C to Type-C cable with universal comp...   \n",
      "138   Before Order Please Match Your Remote With Ima...   \n",
      "264   Type: HDMI|Power Requirement: DC 5 V|Number of...   \n",
      "321   Resolution: HD Ready Android TV (1366x768) | R...   \n",
      "334   Fire-Boltt is India' No 1 Wearable Watch Brand...   \n",
      "...                                                 ...   \n",
      "1307  Color: White|For gold, gold+, kool, star and o...   \n",
      "1355  Color: White|Specially designed for AquaSure s...   \n",
      "1386  Capacity: 25 litres, s for 4-5 people;Cooking ...   \n",
      "1411  Kitchen Scale is Compact portable and easy to ...   \n",
      "1457  Food grade stainless steel, Frequency: 50 Hz. ...   \n",
      "\n",
      "                                                user_id  \\\n",
      "33    AEQWVGESA7TDGK7KZ4DAJQGYH32A,AECGAMNNIMW5QOPOB...   \n",
      "138   AELO5I776X3QUOQZ7AEEFC565CYA,AEJNUCP6WR35MUUPR...   \n",
      "264   AGIZGHZQQHZLE5L3CHVG7RHBP32Q,AEQ6N6MXEZYWGKZZI...   \n",
      "321   AG2CJB47VQE4AVBUYWE7TYPVMYHQ,AF22S3IGZ42YVFNOU...   \n",
      "334   AEC6UDCEAUIBIFHGQDQ4KR67GC4A,AHRKSUOZXKKDERRY3...   \n",
      "...                                                 ...   \n",
      "1307  AH6L4HL7SHZ5FT3XJRTBG4VRQDDQ,AHM3BEM5TLDWOMRDA...   \n",
      "1355  AHFGOH4GBUXQQ45BNRBY7MHPN4NQ,AHY6F4BLYRDJCSKQS...   \n",
      "1386  AHEZ2YIPI6Z3RJH22BSRYMSPEWOA,AEHUTTWMDAOEZMG66...   \n",
      "1411  AFSITWWNNRRRYZ6LBPGPBIZAQDXQ,AEKOYL2NITTWDV272...   \n",
      "1457  AHYXOMUJUKZHBWHP43ZAB265EDGA,AG4C27NTZZ7HTG6W3...   \n",
      "\n",
      "                                              user_name  \\\n",
      "33    Verified Buyer,Avishek Majumdar,Drowna roy,mah...   \n",
      "138   Vishal Nagpal,sharmila,Amazon Customer,Ashish ...   \n",
      "264   Sayan Dutta,Harish,Saurabh Majumdar,Ajay Kumar...   \n",
      "321   MUNIYANDI. D,Rathod Ganesh.,Pankaj,Arulkumar M...   \n",
      "334   venkatesh kg,Raghuram,YOGESH,Manan Parmar,Niku...   \n",
      "...                                                 ...   \n",
      "1307  Shivraj,Subham,yedukondalu,MOHD MOHSIN,Jagdish...   \n",
      "1355  dr. sunil,Fayaz Ahmed,Rajesh A. Dhok,Sham s.,S...   \n",
      "1386  Imran Ahmed K,Himanshu Kumar Sinha,Faizan-ul I...   \n",
      "1411  Hem Chand,MSA Baig,Swaroop,Amazon Customer,Nit...   \n",
      "1457  AmazonCust,DD_Zen,Amazon Customer,VINISH THOMA...   \n",
      "\n",
      "                                              review_id  \\\n",
      "33    R2Z9ENI1BK4EAB,R2JTBG4GO7WPMG,R3GKCN4UH999M8,R...   \n",
      "138   R17PVKPPX1FJYC,R34PJA3123VAT3,R1AYZQXNSM6U7F,R...   \n",
      "264   R1PBLR66RA2JLZ,R2Q6NGR94WBB6N,R2DIHIFERXYMB,R3...   \n",
      "321   R1OHBRJRE6GHDZ,R24I7EFZQG9TE6,R3G0UPCD2KN4F7,R...   \n",
      "334   R1PKIMKR1E8X8T,R23UV7ZBIEEZD3,RYRHNVDKS5RFY,RS...   \n",
      "...                                                 ...   \n",
      "1307  R3K3LMO7VBZ15E,RIMQ7KGAFAY45,R1KDTPUO1RHWGT,RN...   \n",
      "1355  R2UVKVQN13D4BP,ROIDOHU6ZPBY6,RVYETD2GBOPL1,R35...   \n",
      "1386  R2QOX3VCM8T6PV,RPYQIR3334L89,R2IRKJDUONHPDR,R1...   \n",
      "1411  R1LQ6NZSPIU0AF,R17S7B0QSFHJTC,R3SJIFJH77JC1O,R...   \n",
      "1457  R252H4TFMWK9L7,R3SAFGRVGD7GTV,R1FVCFYT4SGY76,R...   \n",
      "\n",
      "                                           review_title  \\\n",
      "33    Good,Genuine product,Not first charge this cab...   \n",
      "138   Works like Charm,Useful,Good,Very nice,Doesn't...   \n",
      "264   Great Product,Very good and working very nice,...   \n",
      "321   Nice tv,Good product,Average,No operation butt...   \n",
      "334   Worth the money,Good smart watch,the screen do...   \n",
      "...                                                 ...   \n",
      "1307  Good quality, plz add 1 syringe with this kit,...   \n",
      "1355  Pack of two but only one compatible,Using the ...   \n",
      "1386  Love it,Very good product quality,Awesome prod...   \n",
      "1411  Good,It’s okay,Cheap quality product, not wort...   \n",
      "1457  3,Sturdy and Works Flawlessly,Excellent 👍,Real...   \n",
      "\n",
      "                                         review_content  \\\n",
      "33    Buy it,Received in good condition and is worki...   \n",
      "138   The remote looks very similar to the original ...   \n",
      "264   Everything is great. I love this.,Very good an...   \n",
      "321   Good quality,Good product,Average,No operation...   \n",
      "334   I liked it, worth the money, light weight and ...   \n",
      "...                                                 ...   \n",
      "1307  Quality very good, but 1 injection syringe mus...   \n",
      "1355  Though I bought a pack of two, after seeing th...   \n",
      "1386  Bought this product after going through lots o...   \n",
      "1411  Good,Need to improve weight accuracy,Product i...   \n",
      "1457  Cord is small and sound while heating,Well bui...   \n",
      "\n",
      "                                               img_link  \\\n",
      "33    https://m.media-amazon.com/images/W/WEBP_40237...   \n",
      "138   https://m.media-amazon.com/images/W/WEBP_40237...   \n",
      "264   https://m.media-amazon.com/images/W/WEBP_40237...   \n",
      "321   https://m.media-amazon.com/images/W/WEBP_40237...   \n",
      "334   https://m.media-amazon.com/images/I/41WCgGbvwh...   \n",
      "...                                                 ...   \n",
      "1307  https://m.media-amazon.com/images/W/WEBP_40237...   \n",
      "1355  https://m.media-amazon.com/images/I/41WfA7FDnz...   \n",
      "1386  https://m.media-amazon.com/images/I/417VKyMXuY...   \n",
      "1411  https://m.media-amazon.com/images/I/31HohsWo-+...   \n",
      "1457  https://m.media-amazon.com/images/I/41JyZuDzDg...   \n",
      "\n",
      "                                           product_link  \n",
      "33    https://www.amazon.in/Samsung-Original-Type-Ca...  \n",
      "138   https://www.amazon.in/LRIPL-Compatible-Bravia-...  \n",
      "264   https://www.amazon.in/Realme-Smart-TV-Stick-4K...  \n",
      "321   https://www.amazon.in/Mi-inches-Ready-Android-...  \n",
      "334   https://www.amazon.in/Fire-Boltt-Bluetooth-Cal...  \n",
      "...                                                 ...  \n",
      "1307  https://www.amazon.in/Kent-Gold-Optima-Spare-K...  \n",
      "1355  https://www.amazon.in/Eureka-Forbes-Amrit-Twin...  \n",
      "1386  https://www.amazon.in/Philips-HD6975-00-25-Lit...  \n",
      "1411  https://www.amazon.in/Weighing-Multipurpose-El...  \n",
      "1457  https://www.amazon.in/Philips-HD9306-06-1-5-Li...  \n",
      "\n",
      "[64 rows x 16 columns]\n"
     ]
    }
   ],
   "source": [
    "# Checking for anomalies in the data distribution\n",
    "# Assuming 'value' is the feature containing numeric values\n",
    "\n",
    "mean_value = df['discount_percentage'].mean()\n",
    "std_dev = df['discount_percentage'].std()\n",
    "threshold = 2  # Adjust this threshold based on your data distribution\n",
    "\n",
    "outliers = df[(df['discount_percentage'] > mean_value + threshold * std_dev) | (df['discount_percentage'] < mean_value - threshold * std_dev)]\n",
    "print('Outliers:', outliers)\n"
   ]
  },
  {
   "cell_type": "code",
   "execution_count": 1004,
   "metadata": {},
   "outputs": [
    {
     "data": {
      "image/png": "[encoded data removed]",
      "text/plain": [
       "<Figure size 640x480 with 2 Axes>"
      ]
     },
     "metadata": {},
     "output_type": "display_data"
    }
   ],
   "source": [
    "#Checking for correlation between numeric columns\n",
    "# Select columns for correlation analysis\n",
    "numeric_columns = ['discounted_price','discount_percentage', 'rating', 'rating_count']\n",
    "numeric_df = df[numeric_columns]\n",
    "\n",
    "# Calculate the correlation matrix\n",
    "correlation_matrix = numeric_df.corr()\n",
    "\n",
    "# Visualize the correlation matrix using a heatmap\n",
    "sns.heatmap(correlation_matrix, annot=True, cmap='coolwarm', fmt='.2f')\n",
    "plt.title('Correlation Matrix for Discounted Price, Discount Percentage, Rating and Rating Count')\n",
    "plt.show()"
   ]
  },
  {
   "cell_type": "code",
   "execution_count": 1005,
   "metadata": {},
   "outputs": [
    {
     "data": {
      "text/plain": [
       "category\n",
       "Electronics              526\n",
       "Computers&Accessories    451\n",
       "Home&Kitchen             447\n",
       "OfficeProducts            31\n",
       "MusicalInstruments         2\n",
       "HomeImprovement            2\n",
       "Toys&Games                 1\n",
       "Car&Motorbike              1\n",
       "Health&PersonalCare        1\n",
       "Name: count, dtype: int64"
      ]
     },
     "execution_count": 1005,
     "metadata": {},
     "output_type": "execute_result"
    }
   ],
   "source": [
    "#Creating a new column to narrow down product category.\n",
    "#The variables in the original column(category) was split up for this \n",
    "\n",
    "df['category'] = df['sub_category'].str.split('|').str[0]\n",
    "g=pd.DataFrame()\n",
    "df1=df['category'].value_counts()\n",
    "df1\n"
   ]
  },
  {
   "cell_type": "code",
   "execution_count": 1006,
   "metadata": {},
   "outputs": [
    {
     "data": {
      "application/vnd.plotly.v1+json": {
       "config": {
        "plotlyServerURL": "https://plot.ly"
       },
       "data": [
        {
         "hovertemplate": "No. of Sales=%{x}<br>Product Category=%{y}<extra></extra>",
         "legendgroup": "",
         "line": {
          "color": "#636efa",
          "dash": "solid"
         },
         "marker": {
          "symbol": "circle"
         },
         "mode": "lines",
         "name": "",
         "orientation": "v",
         "showlegend": false,
         "type": "scatter",
         "x": [
          "Electronics",
          "Computers&Accessories",
          "Home&Kitchen",
          "OfficeProducts",
          "MusicalInstruments",
          "HomeImprovement",
          "Toys&Games",
          "Car&Motorbike",
          "Health&PersonalCare"
         ],
         "xaxis": "x",
         "y": [
          526,
          451,
          447,
          31,
          2,
          2,
          1,
          1,
          1
         ],
         "yaxis": "y"
        }
       ],
       "layout": {
        "legend": {
         "tracegroupgap": 0
        },
        "template": {
         "data": {
          "bar": [
           {
            "error_x": {
             "color": "#2a3f5f"
            },
            "error_y": {
             "color": "#2a3f5f"
            },
            "marker": {
             "line": {
              "color": "#E5ECF6",
              "width": 0.5
             },
             "pattern": {
              "fillmode": "overlay",
              "size": 10,
              "solidity": 0.2
             }
            },
            "type": "bar"
           }
          ],
          "barpolar": [
           {
            "marker": {
             "line": {
              "color": "#E5ECF6",
              "width": 0.5
             },
             "pattern": {
              "fillmode": "overlay",
              "size": 10,
              "solidity": 0.2
             }
            },
            "type": "barpolar"
           }
          ],
          "carpet": [
           {
            "aaxis": {
             "endlinecolor": "#2a3f5f",
             "gridcolor": "white",
             "linecolor": "white",
             "minorgridcolor": "white",
             "startlinecolor": "#2a3f5f"
            },
            "baxis": {
             "endlinecolor": "#2a3f5f",
             "gridcolor": "white",
             "linecolor": "white",
             "minorgridcolor": "white",
             "startlinecolor": "#2a3f5f"
            },
            "type": "carpet"
           }
          ],
          "choropleth": [
           {
            "colorbar": {
             "outlinewidth": 0,
             "ticks": ""
            },
            "type": "choropleth"
           }
          ],
          "contour": [
           {
            "colorbar": {
             "outlinewidth": 0,
             "ticks": ""
            },
            "colorscale": [
             [
              0,
              "#0d0887"
             ],
             [
              0.1111111111111111,
              "#46039f"
             ],
             [
              0.2222222222222222,
              "#7201a8"
             ],
             [
              0.3333333333333333,
              "#9c179e"
             ],
             [
              0.4444444444444444,
              "#bd3786"
             ],
             [
              0.5555555555555556,
              "#d8576b"
             ],
             [
              0.6666666666666666,
              "#ed7953"
             ],
             [
              0.7777777777777778,
              "#fb9f3a"
             ],
             [
              0.8888888888888888,
              "#fdca26"
             ],
             [
              1,
              "#f0f921"
             ]
            ],
            "type": "contour"
           }
          ],
          "contourcarpet": [
           {
            "colorbar": {
             "outlinewidth": 0,
             "ticks": ""
            },
            "type": "contourcarpet"
           }
          ],
          "heatmap": [
           {
            "colorbar": {
             "outlinewidth": 0,
             "ticks": ""
            },
            "colorscale": [
             [
              0,
              "#0d0887"
             ],
             [
              0.1111111111111111,
              "#46039f"
             ],
             [
              0.2222222222222222,
              "#7201a8"
             ],
             [
              0.3333333333333333,
              "#9c179e"
             ],
             [
              0.4444444444444444,
              "#bd3786"
             ],
             [
              0.5555555555555556,
              "#d8576b"
             ],
             [
              0.6666666666666666,
              "#ed7953"
             ],
             [
              0.7777777777777778,
              "#fb9f3a"
             ],
             [
              0.8888888888888888,
              "#fdca26"
             ],
             [
              1,
              "#f0f921"
             ]
            ],
            "type": "heatmap"
           }
          ],
          "heatmapgl": [
           {
            "colorbar": {
             "outlinewidth": 0,
             "ticks": ""
            },
            "colorscale": [
             [
              0,
              "#0d0887"
             ],
             [
              0.1111111111111111,
              "#46039f"
             ],
             [
              0.2222222222222222,
              "#7201a8"
             ],
             [
              0.3333333333333333,
              "#9c179e"
             ],
             [
              0.4444444444444444,
              "#bd3786"
             ],
             [
              0.5555555555555556,
              "#d8576b"
             ],
             [
              0.6666666666666666,
              "#ed7953"
             ],
             [
              0.7777777777777778,
              "#fb9f3a"
             ],
             [
              0.8888888888888888,
              "#fdca26"
             ],
             [
              1,
              "#f0f921"
             ]
            ],
            "type": "heatmapgl"
           }
          ],
          "histogram": [
           {
            "marker": {
             "pattern": {
              "fillmode": "overlay",
              "size": 10,
              "solidity": 0.2
             }
            },
            "type": "histogram"
           }
          ],
          "histogram2d": [
           {
            "colorbar": {
             "outlinewidth": 0,
             "ticks": ""
            },
            "colorscale": [
             [
              0,
              "#0d0887"
             ],
             [
              0.1111111111111111,
              "#46039f"
             ],
             [
              0.2222222222222222,
              "#7201a8"
             ],
             [
              0.3333333333333333,
              "#9c179e"
             ],
             [
              0.4444444444444444,
              "#bd3786"
             ],
             [
              0.5555555555555556,
              "#d8576b"
             ],
             [
              0.6666666666666666,
              "#ed7953"
             ],
             [
              0.7777777777777778,
              "#fb9f3a"
             ],
             [
              0.8888888888888888,
              "#fdca26"
             ],
             [
              1,
              "#f0f921"
             ]
            ],
            "type": "histogram2d"
           }
          ],
          "histogram2dcontour": [
           {
            "colorbar": {
             "outlinewidth": 0,
             "ticks": ""
            },
            "colorscale": [
             [
              0,
              "#0d0887"
             ],
             [
              0.1111111111111111,
              "#46039f"
             ],
             [
              0.2222222222222222,
              "#7201a8"
             ],
             [
              0.3333333333333333,
              "#9c179e"
             ],
             [
              0.4444444444444444,
              "#bd3786"
             ],
             [
              0.5555555555555556,
              "#d8576b"
             ],
             [
              0.6666666666666666,
              "#ed7953"
             ],
             [
              0.7777777777777778,
              "#fb9f3a"
             ],
             [
              0.8888888888888888,
              "#fdca26"
             ],
             [
              1,
              "#f0f921"
             ]
            ],
            "type": "histogram2dcontour"
           }
          ],
          "mesh3d": [
           {
            "colorbar": {
             "outlinewidth": 0,
             "ticks": ""
            },
            "type": "mesh3d"
           }
          ],
          "parcoords": [
           {
            "line": {
             "colorbar": {
              "outlinewidth": 0,
              "ticks": ""
             }
            },
            "type": "parcoords"
           }
          ],
          "pie": [
           {
            "automargin": true,
            "type": "pie"
           }
          ],
          "scatter": [
           {
            "fillpattern": {
             "fillmode": "overlay",
             "size": 10,
             "solidity": 0.2
            },
            "type": "scatter"
           }
          ],
          "scatter3d": [
           {
            "line": {
             "colorbar": {
              "outlinewidth": 0,
              "ticks": ""
             }
            },
            "marker": {
             "colorbar": {
              "outlinewidth": 0,
              "ticks": ""
             }
            },
            "type": "scatter3d"
           }
          ],
          "scattercarpet": [
           {
            "marker": {
             "colorbar": {
              "outlinewidth": 0,
              "ticks": ""
             }
            },
            "type": "scattercarpet"
           }
          ],
          "scattergeo": [
           {
            "marker": {
             "colorbar": {
              "outlinewidth": 0,
              "ticks": ""
             }
            },
            "type": "scattergeo"
           }
          ],
          "scattergl": [
           {
            "marker": {
             "colorbar": {
              "outlinewidth": 0,
              "ticks": ""
             }
            },
            "type": "scattergl"
           }
          ],
          "scattermapbox": [
           {
            "marker": {
             "colorbar": {
              "outlinewidth": 0,
              "ticks": ""
             }
            },
            "type": "scattermapbox"
           }
          ],
          "scatterpolar": [
           {
            "marker": {
             "colorbar": {
              "outlinewidth": 0,
              "ticks": ""
             }
            },
            "type": "scatterpolar"
           }
          ],
          "scatterpolargl": [
           {
            "marker": {
             "colorbar": {
              "outlinewidth": 0,
              "ticks": ""
             }
            },
            "type": "scatterpolargl"
           }
          ],
          "scatterternary": [
           {
            "marker": {
             "colorbar": {
              "outlinewidth": 0,
              "ticks": ""
             }
            },
            "type": "scatterternary"
           }
          ],
          "surface": [
           {
            "colorbar": {
             "outlinewidth": 0,
             "ticks": ""
            },
            "colorscale": [
             [
              0,
              "#0d0887"
             ],
             [
              0.1111111111111111,
              "#46039f"
             ],
             [
              0.2222222222222222,
              "#7201a8"
             ],
             [
              0.3333333333333333,
              "#9c179e"
             ],
             [
              0.4444444444444444,
              "#bd3786"
             ],
             [
              0.5555555555555556,
              "#d8576b"
             ],
             [
              0.6666666666666666,
              "#ed7953"
             ],
             [
              0.7777777777777778,
              "#fb9f3a"
             ],
             [
              0.8888888888888888,
              "#fdca26"
             ],
             [
              1,
              "#f0f921"
             ]
            ],
            "type": "surface"
           }
          ],
          "table": [
           {
            "cells": {
             "fill": {
              "color": "#EBF0F8"
             },
             "line": {
              "color": "white"
             }
            },
            "header": {
             "fill": {
              "color": "#C8D4E3"
             },
             "line": {
              "color": "white"
             }
            },
            "type": "table"
           }
          ]
         },
         "layout": {
          "annotationdefaults": {
           "arrowcolor": "#2a3f5f",
           "arrowhead": 0,
           "arrowwidth": 1
          },
          "autotypenumbers": "strict",
          "coloraxis": {
           "colorbar": {
            "outlinewidth": 0,
            "ticks": ""
           }
          },
          "colorscale": {
           "diverging": [
            [
             0,
             "#8e0152"
            ],
            [
             0.1,
             "#c51b7d"
            ],
            [
             0.2,
             "#de77ae"
            ],
            [
             0.3,
             "#f1b6da"
            ],
            [
             0.4,
             "#fde0ef"
            ],
            [
             0.5,
             "#f7f7f7"
            ],
            [
             0.6,
             "#e6f5d0"
            ],
            [
             0.7,
             "#b8e186"
            ],
            [
             0.8,
             "#7fbc41"
            ],
            [
             0.9,
             "#4d9221"
            ],
            [
             1,
             "#276419"
            ]
           ],
           "sequential": [
            [
             0,
             "#0d0887"
            ],
            [
             0.1111111111111111,
             "#46039f"
            ],
            [
             0.2222222222222222,
             "#7201a8"
            ],
            [
             0.3333333333333333,
             "#9c179e"
            ],
            [
             0.4444444444444444,
             "#bd3786"
            ],
            [
             0.5555555555555556,
             "#d8576b"
            ],
            [
             0.6666666666666666,
             "#ed7953"
            ],
            [
             0.7777777777777778,
             "#fb9f3a"
            ],
            [
             0.8888888888888888,
             "#fdca26"
            ],
            [
             1,
             "#f0f921"
            ]
           ],
           "sequentialminus": [
            [
             0,
             "#0d0887"
            ],
            [
             0.1111111111111111,
             "#46039f"
            ],
            [
             0.2222222222222222,
             "#7201a8"
            ],
            [
             0.3333333333333333,
             "#9c179e"
            ],
            [
             0.4444444444444444,
             "#bd3786"
            ],
            [
             0.5555555555555556,
             "#d8576b"
            ],
            [
             0.6666666666666666,
             "#ed7953"
            ],
            [
             0.7777777777777778,
             "#fb9f3a"
            ],
            [
             0.8888888888888888,
             "#fdca26"
            ],
            [
             1,
             "#f0f921"
            ]
           ]
          },
          "colorway": [
           "#636efa",
           "#EF553B",
           "#00cc96",
           "#ab63fa",
           "#FFA15A",
           "#19d3f3",
           "#FF6692",
           "#B6E880",
           "#FF97FF",
           "#FECB52"
          ],
          "font": {
           "color": "#2a3f5f"
          },
          "geo": {
           "bgcolor": "white",
           "lakecolor": "white",
           "landcolor": "#E5ECF6",
           "showlakes": true,
           "showland": true,
           "subunitcolor": "white"
          },
          "hoverlabel": {
           "align": "left"
          },
          "hovermode": "closest",
          "mapbox": {
           "style": "light"
          },
          "paper_bgcolor": "white",
          "plot_bgcolor": "#E5ECF6",
          "polar": {
           "angularaxis": {
            "gridcolor": "white",
            "linecolor": "white",
            "ticks": ""
           },
           "bgcolor": "#E5ECF6",
           "radialaxis": {
            "gridcolor": "white",
            "linecolor": "white",
            "ticks": ""
           }
          },
          "scene": {
           "xaxis": {
            "backgroundcolor": "#E5ECF6",
            "gridcolor": "white",
            "gridwidth": 2,
            "linecolor": "white",
            "showbackground": true,
            "ticks": "",
            "zerolinecolor": "white"
           },
           "yaxis": {
            "backgroundcolor": "#E5ECF6",
            "gridcolor": "white",
            "gridwidth": 2,
            "linecolor": "white",
            "showbackground": true,
            "ticks": "",
            "zerolinecolor": "white"
           },
           "zaxis": {
            "backgroundcolor": "#E5ECF6",
            "gridcolor": "white",
            "gridwidth": 2,
            "linecolor": "white",
            "showbackground": true,
            "ticks": "",
            "zerolinecolor": "white"
           }
          },
          "shapedefaults": {
           "line": {
            "color": "#2a3f5f"
           }
          },
          "ternary": {
           "aaxis": {
            "gridcolor": "white",
            "linecolor": "white",
            "ticks": ""
           },
           "baxis": {
            "gridcolor": "white",
            "linecolor": "white",
            "ticks": ""
           },
           "bgcolor": "#E5ECF6",
           "caxis": {
            "gridcolor": "white",
            "linecolor": "white",
            "ticks": ""
           }
          },
          "title": {
           "x": 0.05
          },
          "xaxis": {
           "automargin": true,
           "gridcolor": "white",
           "linecolor": "white",
           "ticks": "",
           "title": {
            "standoff": 15
           },
           "zerolinecolor": "white",
           "zerolinewidth": 2
          },
          "yaxis": {
           "automargin": true,
           "gridcolor": "white",
           "linecolor": "white",
           "ticks": "",
           "title": {
            "standoff": 15
           },
           "zerolinecolor": "white",
           "zerolinewidth": 2
          }
         }
        },
        "title": {
         "text": "No. of Sales for each Product Category"
        },
        "xaxis": {
         "anchor": "y",
         "domain": [
          0,
          1
         ],
         "title": {
          "text": "No. of Sales"
         }
        },
        "yaxis": {
         "anchor": "x",
         "domain": [
          0,
          1
         ],
         "title": {
          "text": "Product Category"
         }
        }
       }
      }
     },
     "metadata": {},
     "output_type": "display_data"
    }
   ],
   "source": [
    "#A visualization for the frequency of our category_new\n",
    "\n",
    "g=pd.DataFrame()\n",
    "df1=df['category'].value_counts()\n",
    "\n",
    "df1=df1.to_frame()\n",
    "df1.reset_index(inplace=True)\n",
    "fig=px.line(df1,x='category',y='count',\n",
    "          labels={'count':'Product Category','category':'No. of Sales'},\n",
    "          title='No. of Sales for each Product Category')\n",
    "fig.show()"
   ]
  },
  {
   "cell_type": "code",
   "execution_count": 1007,
   "metadata": {},
   "outputs": [],
   "source": [
    "#Creating a new column to Discount_percentage into range.\n",
    "# Define bin edges\n",
    "bins = [0, 25, 50, 75, 100]\n",
    "\n",
    "# Define bin labels\n",
    "labels = ['0-25%', '26-50%', '51-75%', '76-100%']\n",
    "\n",
    "# Create a new column 'Percentage_Group' with the assigned bins\n",
    "df['Percentage_Group'] = pd.cut(df['discount_percentage'], bins=bins, labels=labels, include_lowest=True)\n",
    "\n",
    "\n"
   ]
  },
  {
   "cell_type": "code",
   "execution_count": 1008,
   "metadata": {},
   "outputs": [
    {
     "data": {
      "image/png": "[encoded data removed]",
      "text/plain": [
       "<Figure size 600x600 with 1 Axes>"
      ]
     },
     "metadata": {},
     "output_type": "display_data"
    }
   ],
   "source": [
    "# Create a visualization\n",
    "df_counts = df['Percentage_Group'].value_counts()\n",
    "\n",
    "# Plot a pie chart\n",
    "plt.figure(figsize=(6, 6))\n",
    "plt.pie(df_counts, labels=df_counts.index, autopct='%1.1f%%', startangle=90, colors=['skyblue', 'lightcoral','red', 'lightgreen'])\n",
    "\n",
    "# Draw a white circle in the center to create a doughnut chart\n",
    "centre_circle = plt.Circle((0, 0), 0.70, fc='white')\n",
    "fig = plt.gcf()\n",
    "fig.gca().add_artist(centre_circle)\n",
    "\n",
    "plt.title('Distribution for Grouped Discount percentages')\n",
    "plt.show()\n",
    "\n"
   ]
  },
  {
   "cell_type": "code",
   "execution_count": null,
   "metadata": {},
   "outputs": [
    {
     "data": {
      "text/plain": [
       "rating_Group\n",
       "4.1-4.5    900\n",
       "3.6-4.0    467\n",
       "3.1-3.5     58\n",
       "4.6-5.0     28\n",
       "2.6-3.0      7\n",
       "2.0-2.5      2\n",
       "Name: count, dtype: int64"
      ]
     },
     "execution_count": 1009,
     "metadata": {},
     "output_type": "execute_result"
    }
   ],
   "source": [
    "\n",
    "# Define bin edges\n",
    "bins = [2.0, 2.5, 3.0, 3.5, 4.0, 4.5, 5.0]\n",
    "\n",
    "# Define bin labels\n",
    "labels = ['2.0-2.5', '2.6-3.0', '3.1-3.5', '3.6-4.0', '4.1-4.5', '4.6-5.0']\n",
    "\n",
    "# Create a new column 'rating_Group' with the assigned bins\n",
    "df['rating_Group'] = pd.cut(df['rating'], bins=bins, labels=labels, include_lowest=True)\n",
    "\n",
    "\n",
    "df['rating_Group'].value_counts()\n",
    "\n"
   ]
  },
  {
   "cell_type": "code",
   "execution_count": 1010,
   "metadata": {},
   "outputs": [
    {
     "data": {
      "application/vnd.plotly.v1+json": {
       "config": {
        "plotlyServerURL": "https://plot.ly"
       },
       "data": [
        {
         "alignmentgroup": "True",
         "hovertemplate": "No. of ratings=%{x}<br>count=%{y}<extra></extra>",
         "legendgroup": "",
         "marker": {
          "color": "#636efa",
          "pattern": {
           "shape": ""
          }
         },
         "name": "",
         "offsetgroup": "",
         "orientation": "v",
         "showlegend": false,
         "textposition": "auto",
         "type": "bar",
         "x": [
          "4.1-4.5",
          "3.6-4.0",
          "3.1-3.5",
          "4.6-5.0",
          "2.6-3.0",
          "2.0-2.5"
         ],
         "xaxis": "x",
         "y": [
          900,
          467,
          58,
          28,
          7,
          2
         ],
         "yaxis": "y"
        }
       ],
       "layout": {
        "barmode": "relative",
        "legend": {
         "tracegroupgap": 0
        },
        "template": {
         "data": {
          "bar": [
           {
            "error_x": {
             "color": "#2a3f5f"
            },
            "error_y": {
             "color": "#2a3f5f"
            },
            "marker": {
             "line": {
              "color": "#E5ECF6",
              "width": 0.5
             },
             "pattern": {
              "fillmode": "overlay",
              "size": 10,
              "solidity": 0.2
             }
            },
            "type": "bar"
           }
          ],
          "barpolar": [
           {
            "marker": {
             "line": {
              "color": "#E5ECF6",
              "width": 0.5
             },
             "pattern": {
              "fillmode": "overlay",
              "size": 10,
              "solidity": 0.2
             }
            },
            "type": "barpolar"
           }
          ],
          "carpet": [
           {
            "aaxis": {
             "endlinecolor": "#2a3f5f",
             "gridcolor": "white",
             "linecolor": "white",
             "minorgridcolor": "white",
             "startlinecolor": "#2a3f5f"
            },
            "baxis": {
             "endlinecolor": "#2a3f5f",
             "gridcolor": "white",
             "linecolor": "white",
             "minorgridcolor": "white",
             "startlinecolor": "#2a3f5f"
            },
            "type": "carpet"
           }
          ],
          "choropleth": [
           {
            "colorbar": {
             "outlinewidth": 0,
             "ticks": ""
            },
            "type": "choropleth"
           }
          ],
          "contour": [
           {
            "colorbar": {
             "outlinewidth": 0,
             "ticks": ""
            },
            "colorscale": [
             [
              0,
              "#0d0887"
             ],
             [
              0.1111111111111111,
              "#46039f"
             ],
             [
              0.2222222222222222,
              "#7201a8"
             ],
             [
              0.3333333333333333,
              "#9c179e"
             ],
             [
              0.4444444444444444,
              "#bd3786"
             ],
             [
              0.5555555555555556,
              "#d8576b"
             ],
             [
              0.6666666666666666,
              "#ed7953"
             ],
             [
              0.7777777777777778,
              "#fb9f3a"
             ],
             [
              0.8888888888888888,
              "#fdca26"
             ],
             [
              1,
              "#f0f921"
             ]
            ],
            "type": "contour"
           }
          ],
          "contourcarpet": [
           {
            "colorbar": {
             "outlinewidth": 0,
             "ticks": ""
            },
            "type": "contourcarpet"
           }
          ],
          "heatmap": [
           {
            "colorbar": {
             "outlinewidth": 0,
             "ticks": ""
            },
            "colorscale": [
             [
              0,
              "#0d0887"
             ],
             [
              0.1111111111111111,
              "#46039f"
             ],
             [
              0.2222222222222222,
              "#7201a8"
             ],
             [
              0.3333333333333333,
              "#9c179e"
             ],
             [
              0.4444444444444444,
              "#bd3786"
             ],
             [
              0.5555555555555556,
              "#d8576b"
             ],
             [
              0.6666666666666666,
              "#ed7953"
             ],
             [
              0.7777777777777778,
              "#fb9f3a"
             ],
             [
              0.8888888888888888,
              "#fdca26"
             ],
             [
              1,
              "#f0f921"
             ]
            ],
            "type": "heatmap"
           }
          ],
          "heatmapgl": [
           {
            "colorbar": {
             "outlinewidth": 0,
             "ticks": ""
            },
            "colorscale": [
             [
              0,
              "#0d0887"
             ],
             [
              0.1111111111111111,
              "#46039f"
             ],
             [
              0.2222222222222222,
              "#7201a8"
             ],
             [
              0.3333333333333333,
              "#9c179e"
             ],
             [
              0.4444444444444444,
              "#bd3786"
             ],
             [
              0.5555555555555556,
              "#d8576b"
             ],
             [
              0.6666666666666666,
              "#ed7953"
             ],
             [
              0.7777777777777778,
              "#fb9f3a"
             ],
             [
              0.8888888888888888,
              "#fdca26"
             ],
             [
              1,
              "#f0f921"
             ]
            ],
            "type": "heatmapgl"
           }
          ],
          "histogram": [
           {
            "marker": {
             "pattern": {
              "fillmode": "overlay",
              "size": 10,
              "solidity": 0.2
             }
            },
            "type": "histogram"
           }
          ],
          "histogram2d": [
           {
            "colorbar": {
             "outlinewidth": 0,
             "ticks": ""
            },
            "colorscale": [
             [
              0,
              "#0d0887"
             ],
             [
              0.1111111111111111,
              "#46039f"
             ],
             [
              0.2222222222222222,
              "#7201a8"
             ],
             [
              0.3333333333333333,
              "#9c179e"
             ],
             [
              0.4444444444444444,
              "#bd3786"
             ],
             [
              0.5555555555555556,
              "#d8576b"
             ],
             [
              0.6666666666666666,
              "#ed7953"
             ],
             [
              0.7777777777777778,
              "#fb9f3a"
             ],
             [
              0.8888888888888888,
              "#fdca26"
             ],
             [
              1,
              "#f0f921"
             ]
            ],
            "type": "histogram2d"
           }
          ],
          "histogram2dcontour": [
           {
            "colorbar": {
             "outlinewidth": 0,
             "ticks": ""
            },
            "colorscale": [
             [
              0,
              "#0d0887"
             ],
             [
              0.1111111111111111,
              "#46039f"
             ],
             [
              0.2222222222222222,
              "#7201a8"
             ],
             [
              0.3333333333333333,
              "#9c179e"
             ],
             [
              0.4444444444444444,
              "#bd3786"
             ],
             [
              0.5555555555555556,
              "#d8576b"
             ],
             [
              0.6666666666666666,
              "#ed7953"
             ],
             [
              0.7777777777777778,
              "#fb9f3a"
             ],
             [
              0.8888888888888888,
              "#fdca26"
             ],
             [
              1,
              "#f0f921"
             ]
            ],
            "type": "histogram2dcontour"
           }
          ],
          "mesh3d": [
           {
            "colorbar": {
             "outlinewidth": 0,
             "ticks": ""
            },
            "type": "mesh3d"
           }
          ],
          "parcoords": [
           {
            "line": {
             "colorbar": {
              "outlinewidth": 0,
              "ticks": ""
             }
            },
            "type": "parcoords"
           }
          ],
          "pie": [
           {
            "automargin": true,
            "type": "pie"
           }
          ],
          "scatter": [
           {
            "fillpattern": {
             "fillmode": "overlay",
             "size": 10,
             "solidity": 0.2
            },
            "type": "scatter"
           }
          ],
          "scatter3d": [
           {
            "line": {
             "colorbar": {
              "outlinewidth": 0,
              "ticks": ""
             }
            },
            "marker": {
             "colorbar": {
              "outlinewidth": 0,
              "ticks": ""
             }
            },
            "type": "scatter3d"
           }
          ],
          "scattercarpet": [
           {
            "marker": {
             "colorbar": {
              "outlinewidth": 0,
              "ticks": ""
             }
            },
            "type": "scattercarpet"
           }
          ],
          "scattergeo": [
           {
            "marker": {
             "colorbar": {
              "outlinewidth": 0,
              "ticks": ""
             }
            },
            "type": "scattergeo"
           }
          ],
          "scattergl": [
           {
            "marker": {
             "colorbar": {
              "outlinewidth": 0,
              "ticks": ""
             }
            },
            "type": "scattergl"
           }
          ],
          "scattermapbox": [
           {
            "marker": {
             "colorbar": {
              "outlinewidth": 0,
              "ticks": ""
             }
            },
            "type": "scattermapbox"
           }
          ],
          "scatterpolar": [
           {
            "marker": {
             "colorbar": {
              "outlinewidth": 0,
              "ticks": ""
             }
            },
            "type": "scatterpolar"
           }
          ],
          "scatterpolargl": [
           {
            "marker": {
             "colorbar": {
              "outlinewidth": 0,
              "ticks": ""
             }
            },
            "type": "scatterpolargl"
           }
          ],
          "scatterternary": [
           {
            "marker": {
             "colorbar": {
              "outlinewidth": 0,
              "ticks": ""
             }
            },
            "type": "scatterternary"
           }
          ],
          "surface": [
           {
            "colorbar": {
             "outlinewidth": 0,
             "ticks": ""
            },
            "colorscale": [
             [
              0,
              "#0d0887"
             ],
             [
              0.1111111111111111,
              "#46039f"
             ],
             [
              0.2222222222222222,
              "#7201a8"
             ],
             [
              0.3333333333333333,
              "#9c179e"
             ],
             [
              0.4444444444444444,
              "#bd3786"
             ],
             [
              0.5555555555555556,
              "#d8576b"
             ],
             [
              0.6666666666666666,
              "#ed7953"
             ],
             [
              0.7777777777777778,
              "#fb9f3a"
             ],
             [
              0.8888888888888888,
              "#fdca26"
             ],
             [
              1,
              "#f0f921"
             ]
            ],
            "type": "surface"
           }
          ],
          "table": [
           {
            "cells": {
             "fill": {
              "color": "#EBF0F8"
             },
             "line": {
              "color": "white"
             }
            },
            "header": {
             "fill": {
              "color": "#C8D4E3"
             },
             "line": {
              "color": "white"
             }
            },
            "type": "table"
           }
          ]
         },
         "layout": {
          "annotationdefaults": {
           "arrowcolor": "#2a3f5f",
           "arrowhead": 0,
           "arrowwidth": 1
          },
          "autotypenumbers": "strict",
          "coloraxis": {
           "colorbar": {
            "outlinewidth": 0,
            "ticks": ""
           }
          },
          "colorscale": {
           "diverging": [
            [
             0,
             "#8e0152"
            ],
            [
             0.1,
             "#c51b7d"
            ],
            [
             0.2,
             "#de77ae"
            ],
            [
             0.3,
             "#f1b6da"
            ],
            [
             0.4,
             "#fde0ef"
            ],
            [
             0.5,
             "#f7f7f7"
            ],
            [
             0.6,
             "#e6f5d0"
            ],
            [
             0.7,
             "#b8e186"
            ],
            [
             0.8,
             "#7fbc41"
            ],
            [
             0.9,
             "#4d9221"
            ],
            [
             1,
             "#276419"
            ]
           ],
           "sequential": [
            [
             0,
             "#0d0887"
            ],
            [
             0.1111111111111111,
             "#46039f"
            ],
            [
             0.2222222222222222,
             "#7201a8"
            ],
            [
             0.3333333333333333,
             "#9c179e"
            ],
            [
             0.4444444444444444,
             "#bd3786"
            ],
            [
             0.5555555555555556,
             "#d8576b"
            ],
            [
             0.6666666666666666,
             "#ed7953"
            ],
            [
             0.7777777777777778,
             "#fb9f3a"
            ],
            [
             0.8888888888888888,
             "#fdca26"
            ],
            [
             1,
             "#f0f921"
            ]
           ],
           "sequentialminus": [
            [
             0,
             "#0d0887"
            ],
            [
             0.1111111111111111,
             "#46039f"
            ],
            [
             0.2222222222222222,
             "#7201a8"
            ],
            [
             0.3333333333333333,
             "#9c179e"
            ],
            [
             0.4444444444444444,
             "#bd3786"
            ],
            [
             0.5555555555555556,
             "#d8576b"
            ],
            [
             0.6666666666666666,
             "#ed7953"
            ],
            [
             0.7777777777777778,
             "#fb9f3a"
            ],
            [
             0.8888888888888888,
             "#fdca26"
            ],
            [
             1,
             "#f0f921"
            ]
           ]
          },
          "colorway": [
           "#636efa",
           "#EF553B",
           "#00cc96",
           "#ab63fa",
           "#FFA15A",
           "#19d3f3",
           "#FF6692",
           "#B6E880",
           "#FF97FF",
           "#FECB52"
          ],
          "font": {
           "color": "#2a3f5f"
          },
          "geo": {
           "bgcolor": "white",
           "lakecolor": "white",
           "landcolor": "#E5ECF6",
           "showlakes": true,
           "showland": true,
           "subunitcolor": "white"
          },
          "hoverlabel": {
           "align": "left"
          },
          "hovermode": "closest",
          "mapbox": {
           "style": "light"
          },
          "paper_bgcolor": "white",
          "plot_bgcolor": "#E5ECF6",
          "polar": {
           "angularaxis": {
            "gridcolor": "white",
            "linecolor": "white",
            "ticks": ""
           },
           "bgcolor": "#E5ECF6",
           "radialaxis": {
            "gridcolor": "white",
            "linecolor": "white",
            "ticks": ""
           }
          },
          "scene": {
           "xaxis": {
            "backgroundcolor": "#E5ECF6",
            "gridcolor": "white",
            "gridwidth": 2,
            "linecolor": "white",
            "showbackground": true,
            "ticks": "",
            "zerolinecolor": "white"
           },
           "yaxis": {
            "backgroundcolor": "#E5ECF6",
            "gridcolor": "white",
            "gridwidth": 2,
            "linecolor": "white",
            "showbackground": true,
            "ticks": "",
            "zerolinecolor": "white"
           },
           "zaxis": {
            "backgroundcolor": "#E5ECF6",
            "gridcolor": "white",
            "gridwidth": 2,
            "linecolor": "white",
            "showbackground": true,
            "ticks": "",
            "zerolinecolor": "white"
           }
          },
          "shapedefaults": {
           "line": {
            "color": "#2a3f5f"
           }
          },
          "ternary": {
           "aaxis": {
            "gridcolor": "white",
            "linecolor": "white",
            "ticks": ""
           },
           "baxis": {
            "gridcolor": "white",
            "linecolor": "white",
            "ticks": ""
           },
           "bgcolor": "#E5ECF6",
           "caxis": {
            "gridcolor": "white",
            "linecolor": "white",
            "ticks": ""
           }
          },
          "title": {
           "x": 0.05
          },
          "xaxis": {
           "automargin": true,
           "gridcolor": "white",
           "linecolor": "white",
           "ticks": "",
           "title": {
            "standoff": 15
           },
           "zerolinecolor": "white",
           "zerolinewidth": 2
          },
          "yaxis": {
           "automargin": true,
           "gridcolor": "white",
           "linecolor": "white",
           "ticks": "",
           "title": {
            "standoff": 15
           },
           "zerolinecolor": "white",
           "zerolinewidth": 2
          }
         }
        },
        "title": {
         "text": "No. of Ratings for each Grouped Rating Category"
        },
        "xaxis": {
         "anchor": "y",
         "domain": [
          0,
          1
         ],
         "title": {
          "text": "No. of ratings"
         }
        },
        "yaxis": {
         "anchor": "x",
         "domain": [
          0,
          1
         ],
         "title": {
          "text": "count"
         }
        }
       }
      }
     },
     "metadata": {},
     "output_type": "display_data"
    }
   ],
   "source": [
    "#create a visualization\n",
    "g=pd.DataFrame()\n",
    "l=df['rating_Group'].value_counts()\n",
    "\n",
    "l=l.to_frame()\n",
    "l.reset_index(inplace=True)\n",
    "fig=px.bar(l,x='rating_Group',y='count',\n",
    "          labels={'index':'rating_Group','rating_Group':'No. of ratings'},\n",
    "          title='No. of Ratings for each Grouped Rating Category')\n",
    "fig.show()"
   ]
  },
  {
   "cell_type": "markdown",
   "metadata": {},
   "source": [
    "Q1: What is the average rating for each product category?"
   ]
  },
  {
   "cell_type": "code",
   "execution_count": 1011,
   "metadata": {},
   "outputs": [
    {
     "data": {
      "text/html": [
       "<div>\n",
       "<style scoped>\n",
       "    .dataframe tbody tr th:only-of-type {\n",
       "        vertical-align: middle;\n",
       "    }\n",
       "\n",
       "    .dataframe tbody tr th {\n",
       "        vertical-align: top;\n",
       "    }\n",
       "\n",
       "    .dataframe thead th {\n",
       "        text-align: right;\n",
       "    }\n",
       "</style>\n",
       "<table border=\"1\" class=\"dataframe\">\n",
       "  <thead>\n",
       "    <tr style=\"text-align: right;\">\n",
       "      <th></th>\n",
       "      <th>category</th>\n",
       "      <th>rating</th>\n",
       "    </tr>\n",
       "  </thead>\n",
       "  <tbody>\n",
       "    <tr>\n",
       "      <th>7</th>\n",
       "      <td>OfficeProducts</td>\n",
       "      <td>4.309677</td>\n",
       "    </tr>\n",
       "    <tr>\n",
       "      <th>8</th>\n",
       "      <td>Toys&amp;Games</td>\n",
       "      <td>4.300000</td>\n",
       "    </tr>\n",
       "    <tr>\n",
       "      <th>5</th>\n",
       "      <td>HomeImprovement</td>\n",
       "      <td>4.250000</td>\n",
       "    </tr>\n",
       "    <tr>\n",
       "      <th>1</th>\n",
       "      <td>Computers&amp;Accessories</td>\n",
       "      <td>4.155654</td>\n",
       "    </tr>\n",
       "    <tr>\n",
       "      <th>2</th>\n",
       "      <td>Electronics</td>\n",
       "      <td>4.081749</td>\n",
       "    </tr>\n",
       "    <tr>\n",
       "      <th>4</th>\n",
       "      <td>Home&amp;Kitchen</td>\n",
       "      <td>4.040716</td>\n",
       "    </tr>\n",
       "    <tr>\n",
       "      <th>3</th>\n",
       "      <td>Health&amp;PersonalCare</td>\n",
       "      <td>4.000000</td>\n",
       "    </tr>\n",
       "    <tr>\n",
       "      <th>6</th>\n",
       "      <td>MusicalInstruments</td>\n",
       "      <td>3.900000</td>\n",
       "    </tr>\n",
       "    <tr>\n",
       "      <th>0</th>\n",
       "      <td>Car&amp;Motorbike</td>\n",
       "      <td>3.800000</td>\n",
       "    </tr>\n",
       "  </tbody>\n",
       "</table>\n",
       "</div>"
      ],
      "text/plain": [
       "                category    rating\n",
       "7         OfficeProducts  4.309677\n",
       "8             Toys&Games  4.300000\n",
       "5        HomeImprovement  4.250000\n",
       "1  Computers&Accessories  4.155654\n",
       "2            Electronics  4.081749\n",
       "4           Home&Kitchen  4.040716\n",
       "3    Health&PersonalCare  4.000000\n",
       "6     MusicalInstruments  3.900000\n",
       "0          Car&Motorbike  3.800000"
      ]
     },
     "execution_count": 1011,
     "metadata": {},
     "output_type": "execute_result"
    }
   ],
   "source": [
    "\n",
    "df3 = (df[['category', 'rating']].groupby('category').agg({'rating':'mean'})).reset_index()\n",
    "df3 = df3.sort_values(by='rating', ascending = False)\n",
    "df3\n"
   ]
  },
  {
   "cell_type": "markdown",
   "metadata": {},
   "source": [
    "Answer 1:\n",
    "The output shows that most product categories have generally positive customer feedback, with average ratings above 3.50."
   ]
  },
  {
   "cell_type": "markdown",
   "metadata": {},
   "source": [
    "Q2: What is the relationship between discounted price and rating?"
   ]
  },
  {
   "cell_type": "code",
   "execution_count": 1013,
   "metadata": {},
   "outputs": [
    {
     "data": {
      "text/plain": [
       "0.1211318752606628"
      ]
     },
     "execution_count": 1013,
     "metadata": {},
     "output_type": "execute_result"
    }
   ],
   "source": [
    "# finding the correlation between discounted price and rating\n",
    "correlation_coefficient = df[\"discounted_price\"].corr(df[\"rating\"])\n",
    "correlation_coefficient"
   ]
  },
  {
   "cell_type": "markdown",
   "metadata": {},
   "source": [
    "Answer 2:\n",
    "Discounted price and rating have a weak positive correlation of 0.12. This means that products with higher discounted prices tend to have slightly higher ratings, but the relationship is not very strong."
   ]
  },
  {
   "cell_type": "markdown",
   "metadata": {},
   "source": [
    "Q3: What rating has the highest rating count?"
   ]
  },
  {
   "cell_type": "code",
   "execution_count": 1014,
   "metadata": {},
   "outputs": [
    {
     "data": {
      "application/vnd.plotly.v1+json": {
       "config": {
        "plotlyServerURL": "https://plot.ly"
       },
       "data": [
        {
         "alignmentgroup": "True",
         "hovertemplate": "Grouped Ratings=%{x}<br>Rating Count=%{y}<extra></extra>",
         "legendgroup": "",
         "marker": {
          "color": "#636efa",
          "pattern": {
           "shape": ""
          }
         },
         "name": "",
         "offsetgroup": "",
         "orientation": "v",
         "showlegend": false,
         "textposition": "auto",
         "type": "bar",
         "x": [
          "2.0-2.5",
          "2.6-3.0",
          "3.1-3.5",
          "3.6-4.0",
          "4.1-4.5",
          "4.6-5.0"
         ],
         "xaxis": "x",
         "y": [
          15,
          1780,
          303840,
          5468904,
          20793224,
          197622
         ],
         "yaxis": "y"
        }
       ],
       "layout": {
        "barmode": "relative",
        "legend": {
         "tracegroupgap": 0
        },
        "template": {
         "data": {
          "bar": [
           {
            "error_x": {
             "color": "#2a3f5f"
            },
            "error_y": {
             "color": "#2a3f5f"
            },
            "marker": {
             "line": {
              "color": "#E5ECF6",
              "width": 0.5
             },
             "pattern": {
              "fillmode": "overlay",
              "size": 10,
              "solidity": 0.2
             }
            },
            "type": "bar"
           }
          ],
          "barpolar": [
           {
            "marker": {
             "line": {
              "color": "#E5ECF6",
              "width": 0.5
             },
             "pattern": {
              "fillmode": "overlay",
              "size": 10,
              "solidity": 0.2
             }
            },
            "type": "barpolar"
           }
          ],
          "carpet": [
           {
            "aaxis": {
             "endlinecolor": "#2a3f5f",
             "gridcolor": "white",
             "linecolor": "white",
             "minorgridcolor": "white",
             "startlinecolor": "#2a3f5f"
            },
            "baxis": {
             "endlinecolor": "#2a3f5f",
             "gridcolor": "white",
             "linecolor": "white",
             "minorgridcolor": "white",
             "startlinecolor": "#2a3f5f"
            },
            "type": "carpet"
           }
          ],
          "choropleth": [
           {
            "colorbar": {
             "outlinewidth": 0,
             "ticks": ""
            },
            "type": "choropleth"
           }
          ],
          "contour": [
           {
            "colorbar": {
             "outlinewidth": 0,
             "ticks": ""
            },
            "colorscale": [
             [
              0,
              "#0d0887"
             ],
             [
              0.1111111111111111,
              "#46039f"
             ],
             [
              0.2222222222222222,
              "#7201a8"
             ],
             [
              0.3333333333333333,
              "#9c179e"
             ],
             [
              0.4444444444444444,
              "#bd3786"
             ],
             [
              0.5555555555555556,
              "#d8576b"
             ],
             [
              0.6666666666666666,
              "#ed7953"
             ],
             [
              0.7777777777777778,
              "#fb9f3a"
             ],
             [
              0.8888888888888888,
              "#fdca26"
             ],
             [
              1,
              "#f0f921"
             ]
            ],
            "type": "contour"
           }
          ],
          "contourcarpet": [
           {
            "colorbar": {
             "outlinewidth": 0,
             "ticks": ""
            },
            "type": "contourcarpet"
           }
          ],
          "heatmap": [
           {
            "colorbar": {
             "outlinewidth": 0,
             "ticks": ""
            },
            "colorscale": [
             [
              0,
              "#0d0887"
             ],
             [
              0.1111111111111111,
              "#46039f"
             ],
             [
              0.2222222222222222,
              "#7201a8"
             ],
             [
              0.3333333333333333,
              "#9c179e"
             ],
             [
              0.4444444444444444,
              "#bd3786"
             ],
             [
              0.5555555555555556,
              "#d8576b"
             ],
             [
              0.6666666666666666,
              "#ed7953"
             ],
             [
              0.7777777777777778,
              "#fb9f3a"
             ],
             [
              0.8888888888888888,
              "#fdca26"
             ],
             [
              1,
              "#f0f921"
             ]
            ],
            "type": "heatmap"
           }
          ],
          "heatmapgl": [
           {
            "colorbar": {
             "outlinewidth": 0,
             "ticks": ""
            },
            "colorscale": [
             [
              0,
              "#0d0887"
             ],
             [
              0.1111111111111111,
              "#46039f"
             ],
             [
              0.2222222222222222,
              "#7201a8"
             ],
             [
              0.3333333333333333,
              "#9c179e"
             ],
             [
              0.4444444444444444,
              "#bd3786"
             ],
             [
              0.5555555555555556,
              "#d8576b"
             ],
             [
              0.6666666666666666,
              "#ed7953"
             ],
             [
              0.7777777777777778,
              "#fb9f3a"
             ],
             [
              0.8888888888888888,
              "#fdca26"
             ],
             [
              1,
              "#f0f921"
             ]
            ],
            "type": "heatmapgl"
           }
          ],
          "histogram": [
           {
            "marker": {
             "pattern": {
              "fillmode": "overlay",
              "size": 10,
              "solidity": 0.2
             }
            },
            "type": "histogram"
           }
          ],
          "histogram2d": [
           {
            "colorbar": {
             "outlinewidth": 0,
             "ticks": ""
            },
            "colorscale": [
             [
              0,
              "#0d0887"
             ],
             [
              0.1111111111111111,
              "#46039f"
             ],
             [
              0.2222222222222222,
              "#7201a8"
             ],
             [
              0.3333333333333333,
              "#9c179e"
             ],
             [
              0.4444444444444444,
              "#bd3786"
             ],
             [
              0.5555555555555556,
              "#d8576b"
             ],
             [
              0.6666666666666666,
              "#ed7953"
             ],
             [
              0.7777777777777778,
              "#fb9f3a"
             ],
             [
              0.8888888888888888,
              "#fdca26"
             ],
             [
              1,
              "#f0f921"
             ]
            ],
            "type": "histogram2d"
           }
          ],
          "histogram2dcontour": [
           {
            "colorbar": {
             "outlinewidth": 0,
             "ticks": ""
            },
            "colorscale": [
             [
              0,
              "#0d0887"
             ],
             [
              0.1111111111111111,
              "#46039f"
             ],
             [
              0.2222222222222222,
              "#7201a8"
             ],
             [
              0.3333333333333333,
              "#9c179e"
             ],
             [
              0.4444444444444444,
              "#bd3786"
             ],
             [
              0.5555555555555556,
              "#d8576b"
             ],
             [
              0.6666666666666666,
              "#ed7953"
             ],
             [
              0.7777777777777778,
              "#fb9f3a"
             ],
             [
              0.8888888888888888,
              "#fdca26"
             ],
             [
              1,
              "#f0f921"
             ]
            ],
            "type": "histogram2dcontour"
           }
          ],
          "mesh3d": [
           {
            "colorbar": {
             "outlinewidth": 0,
             "ticks": ""
            },
            "type": "mesh3d"
           }
          ],
          "parcoords": [
           {
            "line": {
             "colorbar": {
              "outlinewidth": 0,
              "ticks": ""
             }
            },
            "type": "parcoords"
           }
          ],
          "pie": [
           {
            "automargin": true,
            "type": "pie"
           }
          ],
          "scatter": [
           {
            "fillpattern": {
             "fillmode": "overlay",
             "size": 10,
             "solidity": 0.2
            },
            "type": "scatter"
           }
          ],
          "scatter3d": [
           {
            "line": {
             "colorbar": {
              "outlinewidth": 0,
              "ticks": ""
             }
            },
            "marker": {
             "colorbar": {
              "outlinewidth": 0,
              "ticks": ""
             }
            },
            "type": "scatter3d"
           }
          ],
          "scattercarpet": [
           {
            "marker": {
             "colorbar": {
              "outlinewidth": 0,
              "ticks": ""
             }
            },
            "type": "scattercarpet"
           }
          ],
          "scattergeo": [
           {
            "marker": {
             "colorbar": {
              "outlinewidth": 0,
              "ticks": ""
             }
            },
            "type": "scattergeo"
           }
          ],
          "scattergl": [
           {
            "marker": {
             "colorbar": {
              "outlinewidth": 0,
              "ticks": ""
             }
            },
            "type": "scattergl"
           }
          ],
          "scattermapbox": [
           {
            "marker": {
             "colorbar": {
              "outlinewidth": 0,
              "ticks": ""
             }
            },
            "type": "scattermapbox"
           }
          ],
          "scatterpolar": [
           {
            "marker": {
             "colorbar": {
              "outlinewidth": 0,
              "ticks": ""
             }
            },
            "type": "scatterpolar"
           }
          ],
          "scatterpolargl": [
           {
            "marker": {
             "colorbar": {
              "outlinewidth": 0,
              "ticks": ""
             }
            },
            "type": "scatterpolargl"
           }
          ],
          "scatterternary": [
           {
            "marker": {
             "colorbar": {
              "outlinewidth": 0,
              "ticks": ""
             }
            },
            "type": "scatterternary"
           }
          ],
          "surface": [
           {
            "colorbar": {
             "outlinewidth": 0,
             "ticks": ""
            },
            "colorscale": [
             [
              0,
              "#0d0887"
             ],
             [
              0.1111111111111111,
              "#46039f"
             ],
             [
              0.2222222222222222,
              "#7201a8"
             ],
             [
              0.3333333333333333,
              "#9c179e"
             ],
             [
              0.4444444444444444,
              "#bd3786"
             ],
             [
              0.5555555555555556,
              "#d8576b"
             ],
             [
              0.6666666666666666,
              "#ed7953"
             ],
             [
              0.7777777777777778,
              "#fb9f3a"
             ],
             [
              0.8888888888888888,
              "#fdca26"
             ],
             [
              1,
              "#f0f921"
             ]
            ],
            "type": "surface"
           }
          ],
          "table": [
           {
            "cells": {
             "fill": {
              "color": "#EBF0F8"
             },
             "line": {
              "color": "white"
             }
            },
            "header": {
             "fill": {
              "color": "#C8D4E3"
             },
             "line": {
              "color": "white"
             }
            },
            "type": "table"
           }
          ]
         },
         "layout": {
          "annotationdefaults": {
           "arrowcolor": "#2a3f5f",
           "arrowhead": 0,
           "arrowwidth": 1
          },
          "autotypenumbers": "strict",
          "coloraxis": {
           "colorbar": {
            "outlinewidth": 0,
            "ticks": ""
           }
          },
          "colorscale": {
           "diverging": [
            [
             0,
             "#8e0152"
            ],
            [
             0.1,
             "#c51b7d"
            ],
            [
             0.2,
             "#de77ae"
            ],
            [
             0.3,
             "#f1b6da"
            ],
            [
             0.4,
             "#fde0ef"
            ],
            [
             0.5,
             "#f7f7f7"
            ],
            [
             0.6,
             "#e6f5d0"
            ],
            [
             0.7,
             "#b8e186"
            ],
            [
             0.8,
             "#7fbc41"
            ],
            [
             0.9,
             "#4d9221"
            ],
            [
             1,
             "#276419"
            ]
           ],
           "sequential": [
            [
             0,
             "#0d0887"
            ],
            [
             0.1111111111111111,
             "#46039f"
            ],
            [
             0.2222222222222222,
             "#7201a8"
            ],
            [
             0.3333333333333333,
             "#9c179e"
            ],
            [
             0.4444444444444444,
             "#bd3786"
            ],
            [
             0.5555555555555556,
             "#d8576b"
            ],
            [
             0.6666666666666666,
             "#ed7953"
            ],
            [
             0.7777777777777778,
             "#fb9f3a"
            ],
            [
             0.8888888888888888,
             "#fdca26"
            ],
            [
             1,
             "#f0f921"
            ]
           ],
           "sequentialminus": [
            [
             0,
             "#0d0887"
            ],
            [
             0.1111111111111111,
             "#46039f"
            ],
            [
             0.2222222222222222,
             "#7201a8"
            ],
            [
             0.3333333333333333,
             "#9c179e"
            ],
            [
             0.4444444444444444,
             "#bd3786"
            ],
            [
             0.5555555555555556,
             "#d8576b"
            ],
            [
             0.6666666666666666,
             "#ed7953"
            ],
            [
             0.7777777777777778,
             "#fb9f3a"
            ],
            [
             0.8888888888888888,
             "#fdca26"
            ],
            [
             1,
             "#f0f921"
            ]
           ]
          },
          "colorway": [
           "#636efa",
           "#EF553B",
           "#00cc96",
           "#ab63fa",
           "#FFA15A",
           "#19d3f3",
           "#FF6692",
           "#B6E880",
           "#FF97FF",
           "#FECB52"
          ],
          "font": {
           "color": "#2a3f5f"
          },
          "geo": {
           "bgcolor": "white",
           "lakecolor": "white",
           "landcolor": "#E5ECF6",
           "showlakes": true,
           "showland": true,
           "subunitcolor": "white"
          },
          "hoverlabel": {
           "align": "left"
          },
          "hovermode": "closest",
          "mapbox": {
           "style": "light"
          },
          "paper_bgcolor": "white",
          "plot_bgcolor": "#E5ECF6",
          "polar": {
           "angularaxis": {
            "gridcolor": "white",
            "linecolor": "white",
            "ticks": ""
           },
           "bgcolor": "#E5ECF6",
           "radialaxis": {
            "gridcolor": "white",
            "linecolor": "white",
            "ticks": ""
           }
          },
          "scene": {
           "xaxis": {
            "backgroundcolor": "#E5ECF6",
            "gridcolor": "white",
            "gridwidth": 2,
            "linecolor": "white",
            "showbackground": true,
            "ticks": "",
            "zerolinecolor": "white"
           },
           "yaxis": {
            "backgroundcolor": "#E5ECF6",
            "gridcolor": "white",
            "gridwidth": 2,
            "linecolor": "white",
            "showbackground": true,
            "ticks": "",
            "zerolinecolor": "white"
           },
           "zaxis": {
            "backgroundcolor": "#E5ECF6",
            "gridcolor": "white",
            "gridwidth": 2,
            "linecolor": "white",
            "showbackground": true,
            "ticks": "",
            "zerolinecolor": "white"
           }
          },
          "shapedefaults": {
           "line": {
            "color": "#2a3f5f"
           }
          },
          "ternary": {
           "aaxis": {
            "gridcolor": "white",
            "linecolor": "white",
            "ticks": ""
           },
           "baxis": {
            "gridcolor": "white",
            "linecolor": "white",
            "ticks": ""
           },
           "bgcolor": "#E5ECF6",
           "caxis": {
            "gridcolor": "white",
            "linecolor": "white",
            "ticks": ""
           }
          },
          "title": {
           "x": 0.05
          },
          "xaxis": {
           "automargin": true,
           "gridcolor": "white",
           "linecolor": "white",
           "ticks": "",
           "title": {
            "standoff": 15
           },
           "zerolinecolor": "white",
           "zerolinewidth": 2
          },
          "yaxis": {
           "automargin": true,
           "gridcolor": "white",
           "linecolor": "white",
           "ticks": "",
           "title": {
            "standoff": 15
           },
           "zerolinecolor": "white",
           "zerolinewidth": 2
          }
         }
        },
        "title": {
         "text": "Distribution of rating count across Grouped Ratings"
        },
        "xaxis": {
         "anchor": "y",
         "domain": [
          0,
          1
         ],
         "title": {
          "text": "Grouped Ratings"
         }
        },
        "yaxis": {
         "anchor": "x",
         "domain": [
          0,
          1
         ],
         "title": {
          "text": "Rating Count"
         }
        }
       }
      }
     },
     "metadata": {},
     "output_type": "display_data"
    }
   ],
   "source": [
    "#using the grouped rating for this analysis\n",
    "result=df[['rating_Group','rating_count']].\\\n",
    "groupby(['rating_Group']).agg('sum')\n",
    "result.reset_index(inplace=True)\n",
    "\n",
    "fig=px.bar(result,x='rating_Group',y='rating_count',\n",
    "          labels={'rating_Group':'Grouped Ratings','rating_count':'Rating Count'},\n",
    "          title='Distribution of rating count across Grouped Ratings')\n",
    "fig.show()"
   ]
  },
  {
   "cell_type": "markdown",
   "metadata": {},
   "source": [
    "Answer 3: The output shows that majority of the users rate product from 4.1 to 4.5. This also symbolises a positive customer experience "
   ]
  },
  {
   "cell_type": "markdown",
   "metadata": {},
   "source": [
    "Q4: What discount percentage had the highest sales count?"
   ]
  },
  {
   "cell_type": "code",
   "execution_count": 1015,
   "metadata": {},
   "outputs": [
    {
     "data": {
      "application/vnd.plotly.v1+json": {
       "config": {
        "plotlyServerURL": "https://plot.ly"
       },
       "data": [
        {
         "alignmentgroup": "True",
         "hovertemplate": "Grouped Discount Percentages=%{x}<br>sub_category=%{y}<extra></extra>",
         "legendgroup": "",
         "marker": {
          "color": "#636efa",
          "pattern": {
           "shape": ""
          }
         },
         "name": "",
         "offsetgroup": "",
         "orientation": "v",
         "showlegend": false,
         "textposition": "auto",
         "type": "bar",
         "x": [
          "0-25%",
          "26-50%",
          "51-75%",
          "76-100%"
         ],
         "xaxis": "x",
         "y": [
          256,
          513,
          544,
          149
         ],
         "yaxis": "y"
        }
       ],
       "layout": {
        "barmode": "relative",
        "legend": {
         "tracegroupgap": 0
        },
        "template": {
         "data": {
          "bar": [
           {
            "error_x": {
             "color": "#2a3f5f"
            },
            "error_y": {
             "color": "#2a3f5f"
            },
            "marker": {
             "line": {
              "color": "#E5ECF6",
              "width": 0.5
             },
             "pattern": {
              "fillmode": "overlay",
              "size": 10,
              "solidity": 0.2
             }
            },
            "type": "bar"
           }
          ],
          "barpolar": [
           {
            "marker": {
             "line": {
              "color": "#E5ECF6",
              "width": 0.5
             },
             "pattern": {
              "fillmode": "overlay",
              "size": 10,
              "solidity": 0.2
             }
            },
            "type": "barpolar"
           }
          ],
          "carpet": [
           {
            "aaxis": {
             "endlinecolor": "#2a3f5f",
             "gridcolor": "white",
             "linecolor": "white",
             "minorgridcolor": "white",
             "startlinecolor": "#2a3f5f"
            },
            "baxis": {
             "endlinecolor": "#2a3f5f",
             "gridcolor": "white",
             "linecolor": "white",
             "minorgridcolor": "white",
             "startlinecolor": "#2a3f5f"
            },
            "type": "carpet"
           }
          ],
          "choropleth": [
           {
            "colorbar": {
             "outlinewidth": 0,
             "ticks": ""
            },
            "type": "choropleth"
           }
          ],
          "contour": [
           {
            "colorbar": {
             "outlinewidth": 0,
             "ticks": ""
            },
            "colorscale": [
             [
              0,
              "#0d0887"
             ],
             [
              0.1111111111111111,
              "#46039f"
             ],
             [
              0.2222222222222222,
              "#7201a8"
             ],
             [
              0.3333333333333333,
              "#9c179e"
             ],
             [
              0.4444444444444444,
              "#bd3786"
             ],
             [
              0.5555555555555556,
              "#d8576b"
             ],
             [
              0.6666666666666666,
              "#ed7953"
             ],
             [
              0.7777777777777778,
              "#fb9f3a"
             ],
             [
              0.8888888888888888,
              "#fdca26"
             ],
             [
              1,
              "#f0f921"
             ]
            ],
            "type": "contour"
           }
          ],
          "contourcarpet": [
           {
            "colorbar": {
             "outlinewidth": 0,
             "ticks": ""
            },
            "type": "contourcarpet"
           }
          ],
          "heatmap": [
           {
            "colorbar": {
             "outlinewidth": 0,
             "ticks": ""
            },
            "colorscale": [
             [
              0,
              "#0d0887"
             ],
             [
              0.1111111111111111,
              "#46039f"
             ],
             [
              0.2222222222222222,
              "#7201a8"
             ],
             [
              0.3333333333333333,
              "#9c179e"
             ],
             [
              0.4444444444444444,
              "#bd3786"
             ],
             [
              0.5555555555555556,
              "#d8576b"
             ],
             [
              0.6666666666666666,
              "#ed7953"
             ],
             [
              0.7777777777777778,
              "#fb9f3a"
             ],
             [
              0.8888888888888888,
              "#fdca26"
             ],
             [
              1,
              "#f0f921"
             ]
            ],
            "type": "heatmap"
           }
          ],
          "heatmapgl": [
           {
            "colorbar": {
             "outlinewidth": 0,
             "ticks": ""
            },
            "colorscale": [
             [
              0,
              "#0d0887"
             ],
             [
              0.1111111111111111,
              "#46039f"
             ],
             [
              0.2222222222222222,
              "#7201a8"
             ],
             [
              0.3333333333333333,
              "#9c179e"
             ],
             [
              0.4444444444444444,
              "#bd3786"
             ],
             [
              0.5555555555555556,
              "#d8576b"
             ],
             [
              0.6666666666666666,
              "#ed7953"
             ],
             [
              0.7777777777777778,
              "#fb9f3a"
             ],
             [
              0.8888888888888888,
              "#fdca26"
             ],
             [
              1,
              "#f0f921"
             ]
            ],
            "type": "heatmapgl"
           }
          ],
          "histogram": [
           {
            "marker": {
             "pattern": {
              "fillmode": "overlay",
              "size": 10,
              "solidity": 0.2
             }
            },
            "type": "histogram"
           }
          ],
          "histogram2d": [
           {
            "colorbar": {
             "outlinewidth": 0,
             "ticks": ""
            },
            "colorscale": [
             [
              0,
              "#0d0887"
             ],
             [
              0.1111111111111111,
              "#46039f"
             ],
             [
              0.2222222222222222,
              "#7201a8"
             ],
             [
              0.3333333333333333,
              "#9c179e"
             ],
             [
              0.4444444444444444,
              "#bd3786"
             ],
             [
              0.5555555555555556,
              "#d8576b"
             ],
             [
              0.6666666666666666,
              "#ed7953"
             ],
             [
              0.7777777777777778,
              "#fb9f3a"
             ],
             [
              0.8888888888888888,
              "#fdca26"
             ],
             [
              1,
              "#f0f921"
             ]
            ],
            "type": "histogram2d"
           }
          ],
          "histogram2dcontour": [
           {
            "colorbar": {
             "outlinewidth": 0,
             "ticks": ""
            },
            "colorscale": [
             [
              0,
              "#0d0887"
             ],
             [
              0.1111111111111111,
              "#46039f"
             ],
             [
              0.2222222222222222,
              "#7201a8"
             ],
             [
              0.3333333333333333,
              "#9c179e"
             ],
             [
              0.4444444444444444,
              "#bd3786"
             ],
             [
              0.5555555555555556,
              "#d8576b"
             ],
             [
              0.6666666666666666,
              "#ed7953"
             ],
             [
              0.7777777777777778,
              "#fb9f3a"
             ],
             [
              0.8888888888888888,
              "#fdca26"
             ],
             [
              1,
              "#f0f921"
             ]
            ],
            "type": "histogram2dcontour"
           }
          ],
          "mesh3d": [
           {
            "colorbar": {
             "outlinewidth": 0,
             "ticks": ""
            },
            "type": "mesh3d"
           }
          ],
          "parcoords": [
           {
            "line": {
             "colorbar": {
              "outlinewidth": 0,
              "ticks": ""
             }
            },
            "type": "parcoords"
           }
          ],
          "pie": [
           {
            "automargin": true,
            "type": "pie"
           }
          ],
          "scatter": [
           {
            "fillpattern": {
             "fillmode": "overlay",
             "size": 10,
             "solidity": 0.2
            },
            "type": "scatter"
           }
          ],
          "scatter3d": [
           {
            "line": {
             "colorbar": {
              "outlinewidth": 0,
              "ticks": ""
             }
            },
            "marker": {
             "colorbar": {
              "outlinewidth": 0,
              "ticks": ""
             }
            },
            "type": "scatter3d"
           }
          ],
          "scattercarpet": [
           {
            "marker": {
             "colorbar": {
              "outlinewidth": 0,
              "ticks": ""
             }
            },
            "type": "scattercarpet"
           }
          ],
          "scattergeo": [
           {
            "marker": {
             "colorbar": {
              "outlinewidth": 0,
              "ticks": ""
             }
            },
            "type": "scattergeo"
           }
          ],
          "scattergl": [
           {
            "marker": {
             "colorbar": {
              "outlinewidth": 0,
              "ticks": ""
             }
            },
            "type": "scattergl"
           }
          ],
          "scattermapbox": [
           {
            "marker": {
             "colorbar": {
              "outlinewidth": 0,
              "ticks": ""
             }
            },
            "type": "scattermapbox"
           }
          ],
          "scatterpolar": [
           {
            "marker": {
             "colorbar": {
              "outlinewidth": 0,
              "ticks": ""
             }
            },
            "type": "scatterpolar"
           }
          ],
          "scatterpolargl": [
           {
            "marker": {
             "colorbar": {
              "outlinewidth": 0,
              "ticks": ""
             }
            },
            "type": "scatterpolargl"
           }
          ],
          "scatterternary": [
           {
            "marker": {
             "colorbar": {
              "outlinewidth": 0,
              "ticks": ""
             }
            },
            "type": "scatterternary"
           }
          ],
          "surface": [
           {
            "colorbar": {
             "outlinewidth": 0,
             "ticks": ""
            },
            "colorscale": [
             [
              0,
              "#0d0887"
             ],
             [
              0.1111111111111111,
              "#46039f"
             ],
             [
              0.2222222222222222,
              "#7201a8"
             ],
             [
              0.3333333333333333,
              "#9c179e"
             ],
             [
              0.4444444444444444,
              "#bd3786"
             ],
             [
              0.5555555555555556,
              "#d8576b"
             ],
             [
              0.6666666666666666,
              "#ed7953"
             ],
             [
              0.7777777777777778,
              "#fb9f3a"
             ],
             [
              0.8888888888888888,
              "#fdca26"
             ],
             [
              1,
              "#f0f921"
             ]
            ],
            "type": "surface"
           }
          ],
          "table": [
           {
            "cells": {
             "fill": {
              "color": "#EBF0F8"
             },
             "line": {
              "color": "white"
             }
            },
            "header": {
             "fill": {
              "color": "#C8D4E3"
             },
             "line": {
              "color": "white"
             }
            },
            "type": "table"
           }
          ]
         },
         "layout": {
          "annotationdefaults": {
           "arrowcolor": "#2a3f5f",
           "arrowhead": 0,
           "arrowwidth": 1
          },
          "autotypenumbers": "strict",
          "coloraxis": {
           "colorbar": {
            "outlinewidth": 0,
            "ticks": ""
           }
          },
          "colorscale": {
           "diverging": [
            [
             0,
             "#8e0152"
            ],
            [
             0.1,
             "#c51b7d"
            ],
            [
             0.2,
             "#de77ae"
            ],
            [
             0.3,
             "#f1b6da"
            ],
            [
             0.4,
             "#fde0ef"
            ],
            [
             0.5,
             "#f7f7f7"
            ],
            [
             0.6,
             "#e6f5d0"
            ],
            [
             0.7,
             "#b8e186"
            ],
            [
             0.8,
             "#7fbc41"
            ],
            [
             0.9,
             "#4d9221"
            ],
            [
             1,
             "#276419"
            ]
           ],
           "sequential": [
            [
             0,
             "#0d0887"
            ],
            [
             0.1111111111111111,
             "#46039f"
            ],
            [
             0.2222222222222222,
             "#7201a8"
            ],
            [
             0.3333333333333333,
             "#9c179e"
            ],
            [
             0.4444444444444444,
             "#bd3786"
            ],
            [
             0.5555555555555556,
             "#d8576b"
            ],
            [
             0.6666666666666666,
             "#ed7953"
            ],
            [
             0.7777777777777778,
             "#fb9f3a"
            ],
            [
             0.8888888888888888,
             "#fdca26"
            ],
            [
             1,
             "#f0f921"
            ]
           ],
           "sequentialminus": [
            [
             0,
             "#0d0887"
            ],
            [
             0.1111111111111111,
             "#46039f"
            ],
            [
             0.2222222222222222,
             "#7201a8"
            ],
            [
             0.3333333333333333,
             "#9c179e"
            ],
            [
             0.4444444444444444,
             "#bd3786"
            ],
            [
             0.5555555555555556,
             "#d8576b"
            ],
            [
             0.6666666666666666,
             "#ed7953"
            ],
            [
             0.7777777777777778,
             "#fb9f3a"
            ],
            [
             0.8888888888888888,
             "#fdca26"
            ],
            [
             1,
             "#f0f921"
            ]
           ]
          },
          "colorway": [
           "#636efa",
           "#EF553B",
           "#00cc96",
           "#ab63fa",
           "#FFA15A",
           "#19d3f3",
           "#FF6692",
           "#B6E880",
           "#FF97FF",
           "#FECB52"
          ],
          "font": {
           "color": "#2a3f5f"
          },
          "geo": {
           "bgcolor": "white",
           "lakecolor": "white",
           "landcolor": "#E5ECF6",
           "showlakes": true,
           "showland": true,
           "subunitcolor": "white"
          },
          "hoverlabel": {
           "align": "left"
          },
          "hovermode": "closest",
          "mapbox": {
           "style": "light"
          },
          "paper_bgcolor": "white",
          "plot_bgcolor": "#E5ECF6",
          "polar": {
           "angularaxis": {
            "gridcolor": "white",
            "linecolor": "white",
            "ticks": ""
           },
           "bgcolor": "#E5ECF6",
           "radialaxis": {
            "gridcolor": "white",
            "linecolor": "white",
            "ticks": ""
           }
          },
          "scene": {
           "xaxis": {
            "backgroundcolor": "#E5ECF6",
            "gridcolor": "white",
            "gridwidth": 2,
            "linecolor": "white",
            "showbackground": true,
            "ticks": "",
            "zerolinecolor": "white"
           },
           "yaxis": {
            "backgroundcolor": "#E5ECF6",
            "gridcolor": "white",
            "gridwidth": 2,
            "linecolor": "white",
            "showbackground": true,
            "ticks": "",
            "zerolinecolor": "white"
           },
           "zaxis": {
            "backgroundcolor": "#E5ECF6",
            "gridcolor": "white",
            "gridwidth": 2,
            "linecolor": "white",
            "showbackground": true,
            "ticks": "",
            "zerolinecolor": "white"
           }
          },
          "shapedefaults": {
           "line": {
            "color": "#2a3f5f"
           }
          },
          "ternary": {
           "aaxis": {
            "gridcolor": "white",
            "linecolor": "white",
            "ticks": ""
           },
           "baxis": {
            "gridcolor": "white",
            "linecolor": "white",
            "ticks": ""
           },
           "bgcolor": "#E5ECF6",
           "caxis": {
            "gridcolor": "white",
            "linecolor": "white",
            "ticks": ""
           }
          },
          "title": {
           "x": 0.05
          },
          "xaxis": {
           "automargin": true,
           "gridcolor": "white",
           "linecolor": "white",
           "ticks": "",
           "title": {
            "standoff": 15
           },
           "zerolinecolor": "white",
           "zerolinewidth": 2
          },
          "yaxis": {
           "automargin": true,
           "gridcolor": "white",
           "linecolor": "white",
           "ticks": "",
           "title": {
            "standoff": 15
           },
           "zerolinecolor": "white",
           "zerolinewidth": 2
          }
         }
        },
        "title": {
         "text": "Distribution of Product sub Category across Grouped Discount Percentages"
        },
        "xaxis": {
         "anchor": "y",
         "domain": [
          0,
          1
         ],
         "title": {
          "text": "Grouped Discount Percentages"
         }
        },
        "yaxis": {
         "anchor": "x",
         "domain": [
          0,
          1
         ],
         "title": {
          "text": "sub_category"
         }
        }
       }
      }
     },
     "metadata": {},
     "output_type": "display_data"
    }
   ],
   "source": [
    "#Using the grouped discount percentage\n",
    "result1=df[['Percentage_Group','sub_category']].\\\n",
    "groupby(['Percentage_Group']).agg('count')\n",
    "result1.reset_index(inplace=True)\n",
    "\n",
    "\n",
    "fig=px.bar(result1,x='Percentage_Group',y='sub_category',\n",
    "          labels={'Percentage_Group':'Grouped Discount Percentages','category':'sub category Count'},\n",
    "          title='Distribution of Product sub Category across Grouped Discount Percentages')\n",
    "fig.show()"
   ]
  },
  {
   "cell_type": "markdown",
   "metadata": {},
   "source": [
    "Answer 4: Majority of the sales came from products with discount percentage 51-75%"
   ]
  },
  {
   "cell_type": "markdown",
   "metadata": {},
   "source": [
    "Q5: What products received the best and worst review?\n",
    "\n"
   ]
  },
  {
   "cell_type": "code",
   "execution_count": 1030,
   "metadata": {},
   "outputs": [
    {
     "name": "stdout",
     "output_type": "stream",
     "text": [
      "Product with the best review: B016MDK4F4\n",
      "Product with the worst review: B09XJ1LM7R\n"
     ]
    }
   ],
   "source": [
    "# Calculate sentiment score for each review\n",
    "df[\"sentiment\"] = df[\"review_content\"].apply(lambda text: TextBlob(text).sentiment.polarity)\n",
    "\n",
    "# Aggregate sentiment scores by product ID\n",
    "product_sentiment = df.groupby(\"product_id\")[\"sentiment\"].mean()\n",
    "\n",
    "# Find the product with the best and worst reviews\n",
    "best_product = product_sentiment.idxmax()\n",
    "worst_product = product_sentiment.idxmin()\n",
    "\n",
    "print(\"Product with the best review:\", best_product)\n",
    "print(\"Product with the worst review:\", worst_product)\n"
   ]
  },
  {
   "cell_type": "code",
   "execution_count": 1028,
   "metadata": {},
   "outputs": [
    {
     "data": {
      "text/html": [
       "<div>\n",
       "<style scoped>\n",
       "    .dataframe tbody tr th:only-of-type {\n",
       "        vertical-align: middle;\n",
       "    }\n",
       "\n",
       "    .dataframe tbody tr th {\n",
       "        vertical-align: top;\n",
       "    }\n",
       "\n",
       "    .dataframe thead th {\n",
       "        text-align: right;\n",
       "    }\n",
       "</style>\n",
       "<table border=\"1\" class=\"dataframe\">\n",
       "  <thead>\n",
       "    <tr style=\"text-align: right;\">\n",
       "      <th></th>\n",
       "      <th>product_id</th>\n",
       "      <th>product_name</th>\n",
       "      <th>sub_category</th>\n",
       "      <th>discounted_price</th>\n",
       "      <th>actual_price</th>\n",
       "      <th>discount_percentage</th>\n",
       "      <th>rating</th>\n",
       "      <th>rating_count</th>\n",
       "      <th>about_product</th>\n",
       "      <th>user_id</th>\n",
       "      <th>...</th>\n",
       "      <th>review_id</th>\n",
       "      <th>review_title</th>\n",
       "      <th>review_content</th>\n",
       "      <th>img_link</th>\n",
       "      <th>product_link</th>\n",
       "      <th>category</th>\n",
       "      <th>Percentage_Group</th>\n",
       "      <th>rating_Group</th>\n",
       "      <th>sentiment</th>\n",
       "      <th>sentiment_label</th>\n",
       "    </tr>\n",
       "  </thead>\n",
       "  <tbody>\n",
       "    <tr>\n",
       "      <th>302</th>\n",
       "      <td>B016MDK4F4</td>\n",
       "      <td>Technotech High Speed HDMI Cable 5 Meter V1.4 ...</td>\n",
       "      <td>Electronics|HomeTheater,TV&amp;Video|Accessories|C...</td>\n",
       "      <td>185.0</td>\n",
       "      <td>499.0</td>\n",
       "      <td>63</td>\n",
       "      <td>4.2</td>\n",
       "      <td>25.0</td>\n",
       "      <td>Durable 24K Gold-Plated Connectors|Supports re...</td>\n",
       "      <td>AG6BJSKUOVW6DOSEHJ6OLIDCO5MA,AHW46EWYPFF2DEN5K...</td>\n",
       "      <td>...</td>\n",
       "      <td>R2Q04IXOK0RA34,R2GRUN8Y7IDUPT,R1X7VRLKNOLTGJ,R...</td>\n",
       "      <td>Ok,Excellent product, must buy,Nice,Good produ...</td>\n",
       "      <td>Ok,Quality perfect , perfect 5m, must buy,Ok,E...</td>\n",
       "      <td>https://m.media-amazon.com/images/I/51UUmio53P...</td>\n",
       "      <td>https://www.amazon.in/Technotech-High-Speed-Ca...</td>\n",
       "      <td>Electronics</td>\n",
       "      <td>51-75%</td>\n",
       "      <td>4.1-4.5</td>\n",
       "      <td>1.0</td>\n",
       "      <td>Good</td>\n",
       "    </tr>\n",
       "  </tbody>\n",
       "</table>\n",
       "<p>1 rows × 21 columns</p>\n",
       "</div>"
      ],
      "text/plain": [
       "     product_id                                       product_name  \\\n",
       "302  B016MDK4F4  Technotech High Speed HDMI Cable 5 Meter V1.4 ...   \n",
       "\n",
       "                                          sub_category  discounted_price  \\\n",
       "302  Electronics|HomeTheater,TV&Video|Accessories|C...             185.0   \n",
       "\n",
       "     actual_price  discount_percentage  rating  rating_count  \\\n",
       "302         499.0                   63     4.2          25.0   \n",
       "\n",
       "                                         about_product  \\\n",
       "302  Durable 24K Gold-Plated Connectors|Supports re...   \n",
       "\n",
       "                                               user_id  ...  \\\n",
       "302  AG6BJSKUOVW6DOSEHJ6OLIDCO5MA,AHW46EWYPFF2DEN5K...  ...   \n",
       "\n",
       "                                             review_id  \\\n",
       "302  R2Q04IXOK0RA34,R2GRUN8Y7IDUPT,R1X7VRLKNOLTGJ,R...   \n",
       "\n",
       "                                          review_title  \\\n",
       "302  Ok,Excellent product, must buy,Nice,Good produ...   \n",
       "\n",
       "                                        review_content  \\\n",
       "302  Ok,Quality perfect , perfect 5m, must buy,Ok,E...   \n",
       "\n",
       "                                              img_link  \\\n",
       "302  https://m.media-amazon.com/images/I/51UUmio53P...   \n",
       "\n",
       "                                          product_link     category  \\\n",
       "302  https://www.amazon.in/Technotech-High-Speed-Ca...  Electronics   \n",
       "\n",
       "    Percentage_Group rating_Group sentiment  sentiment_label  \n",
       "302           51-75%      4.1-4.5       1.0             Good  \n",
       "\n",
       "[1 rows x 21 columns]"
      ]
     },
     "execution_count": 1028,
     "metadata": {},
     "output_type": "execute_result"
    }
   ],
   "source": [
    "df.query(\"product_id=='B016MDK4F4'\")"
   ]
  },
  {
   "cell_type": "code",
   "execution_count": 1029,
   "metadata": {},
   "outputs": [
    {
     "data": {
      "text/html": [
       "<div>\n",
       "<style scoped>\n",
       "    .dataframe tbody tr th:only-of-type {\n",
       "        vertical-align: middle;\n",
       "    }\n",
       "\n",
       "    .dataframe tbody tr th {\n",
       "        vertical-align: top;\n",
       "    }\n",
       "\n",
       "    .dataframe thead th {\n",
       "        text-align: right;\n",
       "    }\n",
       "</style>\n",
       "<table border=\"1\" class=\"dataframe\">\n",
       "  <thead>\n",
       "    <tr style=\"text-align: right;\">\n",
       "      <th></th>\n",
       "      <th>product_id</th>\n",
       "      <th>product_name</th>\n",
       "      <th>sub_category</th>\n",
       "      <th>discounted_price</th>\n",
       "      <th>actual_price</th>\n",
       "      <th>discount_percentage</th>\n",
       "      <th>rating</th>\n",
       "      <th>rating_count</th>\n",
       "      <th>about_product</th>\n",
       "      <th>user_id</th>\n",
       "      <th>...</th>\n",
       "      <th>review_id</th>\n",
       "      <th>review_title</th>\n",
       "      <th>review_content</th>\n",
       "      <th>img_link</th>\n",
       "      <th>product_link</th>\n",
       "      <th>category</th>\n",
       "      <th>Percentage_Group</th>\n",
       "      <th>rating_Group</th>\n",
       "      <th>sentiment</th>\n",
       "      <th>sentiment_label</th>\n",
       "    </tr>\n",
       "  </thead>\n",
       "  <tbody>\n",
       "    <tr>\n",
       "      <th>155</th>\n",
       "      <td>B09XJ1LM7R</td>\n",
       "      <td>7SEVEN® Compatible for Tata Sky Remote Origina...</td>\n",
       "      <td>Electronics|HomeTheater,TV&amp;Video|Accessories|R...</td>\n",
       "      <td>399.0</td>\n",
       "      <td>799.0</td>\n",
       "      <td>50</td>\n",
       "      <td>4.3</td>\n",
       "      <td>12.0</td>\n",
       "      <td>[Compatible] All model of dth SD / HD / HD+ Pl...</td>\n",
       "      <td>AE242TR3GQ6TYC6W4SJ5UYYKBTYQ</td>\n",
       "      <td>...</td>\n",
       "      <td>R38OAD16RVS9D4</td>\n",
       "      <td>do not buy</td>\n",
       "      <td>tv on off not working, so difficult to battery...</td>\n",
       "      <td>https://m.media-amazon.com/images/W/WEBP_40237...</td>\n",
       "      <td>https://www.amazon.in/7SEVEN%C2%AE-Compatible-...</td>\n",
       "      <td>Electronics</td>\n",
       "      <td>26-50%</td>\n",
       "      <td>4.1-4.5</td>\n",
       "      <td>-0.6</td>\n",
       "      <td>Bad</td>\n",
       "    </tr>\n",
       "  </tbody>\n",
       "</table>\n",
       "<p>1 rows × 21 columns</p>\n",
       "</div>"
      ],
      "text/plain": [
       "     product_id                                       product_name  \\\n",
       "155  B09XJ1LM7R  7SEVEN® Compatible for Tata Sky Remote Origina...   \n",
       "\n",
       "                                          sub_category  discounted_price  \\\n",
       "155  Electronics|HomeTheater,TV&Video|Accessories|R...             399.0   \n",
       "\n",
       "     actual_price  discount_percentage  rating  rating_count  \\\n",
       "155         799.0                   50     4.3          12.0   \n",
       "\n",
       "                                         about_product  \\\n",
       "155  [Compatible] All model of dth SD / HD / HD+ Pl...   \n",
       "\n",
       "                          user_id  ...       review_id review_title  \\\n",
       "155  AE242TR3GQ6TYC6W4SJ5UYYKBTYQ  ...  R38OAD16RVS9D4   do not buy   \n",
       "\n",
       "                                        review_content  \\\n",
       "155  tv on off not working, so difficult to battery...   \n",
       "\n",
       "                                              img_link  \\\n",
       "155  https://m.media-amazon.com/images/W/WEBP_40237...   \n",
       "\n",
       "                                          product_link     category  \\\n",
       "155  https://www.amazon.in/7SEVEN%C2%AE-Compatible-...  Electronics   \n",
       "\n",
       "    Percentage_Group rating_Group sentiment  sentiment_label  \n",
       "155           26-50%      4.1-4.5      -0.6              Bad  \n",
       "\n",
       "[1 rows x 21 columns]"
      ]
     },
     "execution_count": 1029,
     "metadata": {},
     "output_type": "execute_result"
    }
   ],
   "source": [
    "df.query(\"product_id=='B09XJ1LM7R'\")"
   ]
  },
  {
   "cell_type": "markdown",
   "metadata": {},
   "source": [
    "Answer 5: \n",
    "\n",
    "Product with the best sentiment score is \"Ok,Quality perfect , perfect 5m, must buy\", (Product_id = B016MDK4F4) with a scrore of 1.0. This indicates a strong posiitve sentiment.\n",
    "\n",
    "Product with the worst sentiment score is \"tv on off not working, so difficult to battery charge\", (Product_id = B09XJ1LM7R ) with a score of -0.6. This indicates a strong negative sentiment. \n",
    "\n",
    "Products with negative sentiment scores suggest potential areas for improvement. Further analysis of these products could help identify reasons for these bad reviews and identify potential solutions.\n"
   ]
  },
  {
   "cell_type": "markdown",
   "metadata": {},
   "source": [
    "Q6: What are the Top 5 categories based with highest ratings?"
   ]
  },
  {
   "cell_type": "code",
   "execution_count": 1017,
   "metadata": {},
   "outputs": [
    {
     "name": "stdout",
     "output_type": "stream",
     "text": [
      "Top 5 Product sub categories with highest average ratings:\n",
      "1. Computers&Accessories|Tablets: 4.60\n",
      "2. Computers&Accessories|NetworkingDevices|NetworkAdapters|PowerLANAdapters: 4.50\n",
      "3. Electronics|Cameras&Photography|Accessories|Film: 4.50\n",
      "4. Electronics|HomeAudio|MediaStreamingDevices|StreamingClients: 4.50\n",
      "5. OfficeProducts|OfficeElectronics|Calculators|Basic: 4.50\n"
     ]
    }
   ],
   "source": [
    "# Group data by sub_category and calculate average rating\n",
    "average_ratings = df.groupby(\"sub_category\")[\"rating\"].mean().reset_index()\n",
    "\n",
    "# Sort by average rating in descending order\n",
    "average_ratings = average_ratings.sort_values(by=\"rating\", ascending=False)\n",
    "\n",
    "# Print the top 5 categories\n",
    "print(\"Top 5 Product sub categories with highest average ratings:\")\n",
    "for i in range(5):\n",
    "    sub_category = average_ratings.iloc[i][\"sub_category\"]\n",
    "    average_rating = average_ratings.iloc[i][\"rating\"]\n",
    "    print(f\"{i+1}. {sub_category}: {average_rating:.2f}\")"
   ]
  },
  {
   "cell_type": "markdown",
   "metadata": {},
   "source": [
    "Answer 6:\n",
    "\n",
    "The top 5 categories have average ratings between 4.50 and 4.60, indicating overall positive customer satisfaction within these areas.\n",
    "\n",
    "Most of the top-rated categories fall within technology-related domains, including tablets, networking devices, photography accessories, media streaming devices, and calculators.\n",
    "\n",
    "Within broader categories like \"Computers & Accessories\" and \"Electronics,\" specific subcategories emerge as particularly well-rated, such as tablets, powerline adapters, film \n",
    "accessories, and streaming clients.\n",
    "\n",
    "Four categories share a rating of 4.50, suggesting similar levels of customer satisfaction across these areas.\n",
    "\n",
    "The presence of \"Basic Calculators\" in the top 5 suggests that even relatively simple products can achieve high ratings if they meet customer needs effectively."
   ]
  },
  {
   "cell_type": "markdown",
   "metadata": {},
   "source": [
    "Q7: Hypothesis: With Ratings below 3.5, the users showed dissatisfaction in the products."
   ]
  },
  {
   "cell_type": "code",
   "execution_count": 1018,
   "metadata": {},
   "outputs": [
    {
     "name": "stdout",
     "output_type": "stream",
     "text": [
      "sentiment_label\n",
      "Bad     28\n",
      "Good    13\n",
      "Name: count, dtype: int64\n",
      "\n",
      "Conclusion:\n",
      "The user was not satisfied with the product.\n"
     ]
    }
   ],
   "source": [
    "# Define a threshold for classifying reviews\n",
    "threshold = 0.2\n",
    "\n",
    "# Add a new column with labels (Good or Bad)\n",
    "df['sentiment_label'] = df['sentiment'].apply(lambda x: 'Good' if x >= threshold else 'Bad')\n",
    "\n",
    "# Filter rows with ratings below 3.5\n",
    "filtered_df = df[df['rating'] < 3.5]\n",
    "\n",
    "# Count elements in the 'sentiment' column\n",
    "sentiment_label_count = filtered_df['sentiment_label'].value_counts()\n",
    "\n",
    "# Check if the count of 'Good' is greater than the count of 'Bad'\n",
    "satisfied = sentiment_label_count.get('Good', 0) > sentiment_label_count.get('Bad', 0)\n",
    "\n",
    "# Display the sentiment label count, and conclusion\n",
    "print(sentiment_label_count)\n",
    "print(\"\\nConclusion:\")\n",
    "\n",
    "if satisfied:\n",
    "    print(\"The user was satisfied with the product.\")\n",
    "else:\n",
    "    print(\"The user was not satisfied with the product.\")\n",
    "\n",
    "\n"
   ]
  },
  {
   "cell_type": "markdown",
   "metadata": {},
   "source": [
    "Answer 7: The results reveals that at a threshold of 0.2, the users who rated below 3.5 showed dissatisfaction in the products. "
   ]
  }
 ],
 "metadata": {
  "kernelspec": {
   "display_name": "base",
   "language": "python",
   "name": "python3"
  },
  "language_info": {
   "codemirror_mode": {
    "name": "ipython",
    "version": 3
   },
   "file_extension": ".py",
   "mimetype": "text/x-python",
   "name": "python",
   "nbconvert_exporter": "python",
   "pygments_lexer": "ipython3",
   "version": "3.11.7"
  }
 },
 "nbformat": 4,
 "nbformat_minor": 2
}
